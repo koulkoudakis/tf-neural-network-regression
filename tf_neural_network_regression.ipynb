{
  "nbformat": 4,
  "nbformat_minor": 0,
  "metadata": {
    "colab": {
      "name": "tf-neural-network-regression.ipynb",
      "provenance": [],
      "collapsed_sections": [],
      "toc_visible": true,
      "mount_file_id": "1ELsvM4ukT9OxAXLEV7-mHSHxGH_4WnVV",
      "authorship_tag": "ABX9TyPDH3vmdjdRGbhjQOt+tPIh",
      "include_colab_link": true
    },
    "kernelspec": {
      "name": "python3",
      "display_name": "Python 3"
    },
    "language_info": {
      "name": "python"
    }
  },
  "cells": [
    {
      "cell_type": "markdown",
      "metadata": {
        "id": "view-in-github",
        "colab_type": "text"
      },
      "source": [
        "<a href=\"https://colab.research.google.com/github/koulkoudakis/tf-neural-network-regression/blob/main/tf_neural_network_regression.ipynb\" target=\"_parent\"><img src=\"https://colab.research.google.com/assets/colab-badge.svg\" alt=\"Open In Colab\"/></a>"
      ]
    },
    {
      "cell_type": "markdown",
      "metadata": {
        "id": "zlcpEj0X9hgv"
      },
      "source": [
        "# Regression with Neural Networks using TensorFlow\n",
        "\n",
        "**Author:** Sharome Burton\n",
        "\n",
        "**Aim:** Solve regression problems using TensorFlow.\n",
        "\n",
        "Regression: estimating the relationships between a dependent variable (often called the 'outcome' or 'response' variable) and one or more independent variables (often called 'predictors', 'covariates', 'explanatory variables' or 'features'). The most common form of regression analysis is linear regression, in which one finds the line (or a more complex linear combination) that most closely fits the data according to a specific mathematical criterion.  \n",
        "\n",
        "In simpler terms, predicting a numerical variable based on another combination of variables.\n"
      ]
    },
    {
      "cell_type": "code",
      "metadata": {
        "colab": {
          "base_uri": "https://localhost:8080/"
        },
        "id": "T48dQOjEA-yz",
        "outputId": "011655a6-0f4f-4483-d75f-733f69f8e950"
      },
      "source": [
        "# Import TensorFlow\n",
        "import tensorflow as tf\n",
        "print(tf.__version__)"
      ],
      "execution_count": null,
      "outputs": [
        {
          "output_type": "stream",
          "text": [
            "2.5.0\n"
          ],
          "name": "stdout"
        }
      ]
    },
    {
      "cell_type": "markdown",
      "metadata": {
        "id": "SZAxxWW0B7h6"
      },
      "source": [
        "### Create data to view and fit"
      ]
    },
    {
      "cell_type": "code",
      "metadata": {
        "colab": {
          "base_uri": "https://localhost:8080/",
          "height": 288
        },
        "id": "Vvz1FhbkBFKT",
        "outputId": "37417afa-cb55-4927-cdb4-ada605a0652e"
      },
      "source": [
        "import numpy as np\n",
        "import matplotlib.pyplot as plt\n",
        "\n",
        "# Create features\n",
        "X = np.array([-7.0, -4.0, -1.0, 2.0, 5.0, 8.0, 11.0, 14.0])\n",
        "\n",
        "# Create labels\n",
        "y = np.array([3.0, 6.0, 9.0, 12.0, 15.0, 18.0, 21.0, 24.0])\n",
        "\n",
        "# Visualize data\n",
        "plt.scatter(X, y)"
      ],
      "execution_count": null,
      "outputs": [
        {
          "output_type": "execute_result",
          "data": {
            "text/plain": [
              "<matplotlib.collections.PathCollection at 0x7ff615e7c850>"
            ]
          },
          "metadata": {
            "tags": []
          },
          "execution_count": 2
        },
        {
          "output_type": "display_data",
          "data": {
            "image/png": "[encoded data removed]",
            "text/plain": [
              "<Figure size 432x288 with 1 Axes>"
            ]
          },
          "metadata": {
            "tags": [],
            "needs_background": "light"
          }
        }
      ]
    },
    {
      "cell_type": "code",
      "metadata": {
        "colab": {
          "base_uri": "https://localhost:8080/"
        },
        "id": "kHtjDFv9B6-K",
        "outputId": "a0d5e204-791b-47b7-ac2e-4cc0dc03ba22"
      },
      "source": [
        "y == X + 10"
      ],
      "execution_count": null,
      "outputs": [
        {
          "output_type": "execute_result",
          "data": {
            "text/plain": [
              "array([ True,  True,  True,  True,  True,  True,  True,  True])"
            ]
          },
          "metadata": {
            "tags": []
          },
          "execution_count": 3
        }
      ]
    },
    {
      "cell_type": "markdown",
      "metadata": {
        "id": "A-lsSHNoB6ay"
      },
      "source": [
        "### Input and output shapes"
      ]
    },
    {
      "cell_type": "code",
      "metadata": {
        "colab": {
          "base_uri": "https://localhost:8080/"
        },
        "id": "EYhLwBB7B5_i",
        "outputId": "ff807c86-ba9b-467e-aa9e-6e923e724b19"
      },
      "source": [
        "# Create a demo tensor to predict housing price\n",
        "house_info = tf.constant([\"bedroom\", \"bathroom\", \"garage\"])\n",
        "house_price = tf.constant([94400])\n",
        "house_info, house_price"
      ],
      "execution_count": null,
      "outputs": [
        {
          "output_type": "execute_result",
          "data": {
            "text/plain": [
              "(<tf.Tensor: shape=(3,), dtype=string, numpy=array([b'bedroom', b'bathroom', b'garage'], dtype=object)>,\n",
              " <tf.Tensor: shape=(1,), dtype=int32, numpy=array([94400], dtype=int32)>)"
            ]
          },
          "metadata": {
            "tags": []
          },
          "execution_count": 4
        }
      ]
    },
    {
      "cell_type": "code",
      "metadata": {
        "colab": {
          "base_uri": "https://localhost:8080/"
        },
        "id": "OvFTjXFPB5Xy",
        "outputId": "7ef7949d-c925-4f4a-c4a8-cd7cf8bee698"
      },
      "source": [
        "input_shape=X.shape\n",
        "output_shape=y.shape\n",
        "input_shape, output_shape"
      ],
      "execution_count": null,
      "outputs": [
        {
          "output_type": "execute_result",
          "data": {
            "text/plain": [
              "((8,), (8,))"
            ]
          },
          "metadata": {
            "tags": []
          },
          "execution_count": 5
        }
      ]
    },
    {
      "cell_type": "code",
      "metadata": {
        "colab": {
          "base_uri": "https://localhost:8080/"
        },
        "id": "NwbgbJTcEkwK",
        "outputId": "5b22de22-67af-4088-94b3-71bfa39f5c55"
      },
      "source": [
        "input_shape=X[0].shape\n",
        "output_shape=y[0].shape\n",
        "input_shape, output_shape"
      ],
      "execution_count": null,
      "outputs": [
        {
          "output_type": "execute_result",
          "data": {
            "text/plain": [
              "((), ())"
            ]
          },
          "metadata": {
            "tags": []
          },
          "execution_count": 6
        }
      ]
    },
    {
      "cell_type": "code",
      "metadata": {
        "id": "HCbQw8QnE_OZ",
        "colab": {
          "base_uri": "https://localhost:8080/"
        },
        "outputId": "1fbad8c1-2d5b-4cf7-b442-80ef4b75737d"
      },
      "source": [
        "X[0].ndim"
      ],
      "execution_count": null,
      "outputs": [
        {
          "output_type": "execute_result",
          "data": {
            "text/plain": [
              "0"
            ]
          },
          "metadata": {
            "tags": []
          },
          "execution_count": 7
        }
      ]
    },
    {
      "cell_type": "code",
      "metadata": {
        "colab": {
          "base_uri": "https://localhost:8080/"
        },
        "id": "2cgQOOnlb3Yf",
        "outputId": "2c826c01-d95a-4ccf-8412-b33246308f4f"
      },
      "source": [
        "X[0], y[0]"
      ],
      "execution_count": null,
      "outputs": [
        {
          "output_type": "execute_result",
          "data": {
            "text/plain": [
              "(-7.0, 3.0)"
            ]
          },
          "metadata": {
            "tags": []
          },
          "execution_count": 8
        }
      ]
    },
    {
      "cell_type": "code",
      "metadata": {
        "colab": {
          "base_uri": "https://localhost:8080/"
        },
        "id": "ol3VNj9ocdHz",
        "outputId": "04a576d1-995d-4ccb-9031-3693be3d366c"
      },
      "source": [
        "# Convert np arrays to tensors\n",
        "X = tf.constant(X)\n",
        "y = tf.constant(y)\n",
        "X, y"
      ],
      "execution_count": null,
      "outputs": [
        {
          "output_type": "execute_result",
          "data": {
            "text/plain": [
              "(<tf.Tensor: shape=(8,), dtype=float64, numpy=array([-7., -4., -1.,  2.,  5.,  8., 11., 14.])>,\n",
              " <tf.Tensor: shape=(8,), dtype=float64, numpy=array([ 3.,  6.,  9., 12., 15., 18., 21., 24.])>)"
            ]
          },
          "metadata": {
            "tags": []
          },
          "execution_count": 9
        }
      ]
    },
    {
      "cell_type": "code",
      "metadata": {
        "colab": {
          "base_uri": "https://localhost:8080/"
        },
        "id": "PmaAbPwhcp6b",
        "outputId": "21babe80-3a40-4c36-8897-78487d04f290"
      },
      "source": [
        "input_shape=X[0].shape\n",
        "output_shape=y[0].shape\n",
        "input_shape, output_shape"
      ],
      "execution_count": null,
      "outputs": [
        {
          "output_type": "execute_result",
          "data": {
            "text/plain": [
              "(TensorShape([]), TensorShape([]))"
            ]
          },
          "metadata": {
            "tags": []
          },
          "execution_count": 10
        }
      ]
    },
    {
      "cell_type": "code",
      "metadata": {
        "colab": {
          "base_uri": "https://localhost:8080/",
          "height": 288
        },
        "id": "ARB2GwJyc6-L",
        "outputId": "a2b09c98-1eb9-477d-e1ec-8a71ec4f4d5c"
      },
      "source": [
        "plt.scatter(X,y)"
      ],
      "execution_count": null,
      "outputs": [
        {
          "output_type": "execute_result",
          "data": {
            "text/plain": [
              "<matplotlib.collections.PathCollection at 0x7ff615e7c6d0>"
            ]
          },
          "metadata": {
            "tags": []
          },
          "execution_count": 11
        },
        {
          "output_type": "display_data",
          "data": {
            "image/png": "[encoded data removed]",
            "text/plain": [
              "<Figure size 432x288 with 1 Axes>"
            ]
          },
          "metadata": {
            "tags": [],
            "needs_background": "light"
          }
        }
      ]
    },
    {
      "cell_type": "markdown",
      "metadata": {
        "id": "rwUpow8-dFbT"
      },
      "source": [
        "## Steps to modelling with TensorFlow\n",
        "\n",
        "1. **Creating a model** - define the input and output layes, as well as hidden layers of deep learning model\n",
        "2. **Compiling model** - define the loss function (the which tells our model how wrong it is) and the optimizer (tells our model how to improve the patterns it is learning) and evaluation metric (what we use to interpret the performance of our model).\n",
        "3. **Fitting a model** - lets the model try to find patterns between X and y (features and labels)"
      ]
    },
    {
      "cell_type": "code",
      "metadata": {
        "colab": {
          "base_uri": "https://localhost:8080/"
        },
        "id": "EPytzKR6eY4D",
        "outputId": "86636d2e-e633-4668-bf43-2006bad0cd3e"
      },
      "source": [
        "# Set random seed\n",
        "tf.random.set_seed(18)\n",
        "\n",
        "# 1. Create model using Sequential API\n",
        "model = tf.keras.Sequential([\n",
        "                             tf.keras.layers.Dense(1)\n",
        "])\n",
        "\n",
        "# 2. Compile model\n",
        "model.compile(loss=tf.keras.losses.mae,  # mean absolute error\n",
        "              optimizer=tf.keras.optimizers.SGD(), # stochastic gradient descent\n",
        "              metrics=[\"mae\"])\n",
        "\n",
        "# 3. Fit model\n",
        "model.fit(X, y, epochs=5)"
      ],
      "execution_count": null,
      "outputs": [
        {
          "output_type": "stream",
          "text": [
            "Epoch 1/5\n",
            "1/1 [==============================] - 1s 910ms/step - loss: 7.5006 - mae: 7.5006\n",
            "Epoch 2/5\n",
            "1/1 [==============================] - 0s 11ms/step - loss: 7.4925 - mae: 7.4925\n",
            "Epoch 3/5\n",
            "1/1 [==============================] - 0s 10ms/step - loss: 7.4869 - mae: 7.4869\n",
            "Epoch 4/5\n",
            "1/1 [==============================] - 0s 7ms/step - loss: 7.4813 - mae: 7.4813\n",
            "Epoch 5/5\n",
            "1/1 [==============================] - 0s 7ms/step - loss: 7.4756 - mae: 7.4756\n"
          ],
          "name": "stdout"
        },
        {
          "output_type": "execute_result",
          "data": {
            "text/plain": [
              "<tensorflow.python.keras.callbacks.History at 0x7ff612089050>"
            ]
          },
          "metadata": {
            "tags": []
          },
          "execution_count": 12
        }
      ]
    },
    {
      "cell_type": "code",
      "metadata": {
        "colab": {
          "base_uri": "https://localhost:8080/"
        },
        "id": "hEPf7h5Khfib",
        "outputId": "cb9161ac-05a3-4b6d-9189-59a9fed5a568"
      },
      "source": [
        "X, y"
      ],
      "execution_count": null,
      "outputs": [
        {
          "output_type": "execute_result",
          "data": {
            "text/plain": [
              "(<tf.Tensor: shape=(8,), dtype=float64, numpy=array([-7., -4., -1.,  2.,  5.,  8., 11., 14.])>,\n",
              " <tf.Tensor: shape=(8,), dtype=float64, numpy=array([ 3.,  6.,  9., 12., 15., 18., 21., 24.])>)"
            ]
          },
          "metadata": {
            "tags": []
          },
          "execution_count": 13
        }
      ]
    },
    {
      "cell_type": "code",
      "metadata": {
        "colab": {
          "base_uri": "https://localhost:8080/"
        },
        "id": "qMVyWWXMiakz",
        "outputId": "41b18403-e42d-461c-97b3-65dc7095a67a"
      },
      "source": [
        "# Making prediction using model\n",
        "model.predict([17.0])"
      ],
      "execution_count": null,
      "outputs": [
        {
          "output_type": "execute_result",
          "data": {
            "text/plain": [
              "array([[29.77483]], dtype=float32)"
            ]
          },
          "metadata": {
            "tags": []
          },
          "execution_count": 14
        }
      ]
    },
    {
      "cell_type": "markdown",
      "metadata": {
        "id": "b6FxZJZmihSM"
      },
      "source": [
        "## Improving model\n",
        "\n",
        "We can improve our model by altering the steps we took to create a model:\n",
        "\n",
        "1. **Create a model** - Add more **layers**, increase number of hidden units (**neurons**) within each hidden layer, change **activation functions** of each layer.\n",
        "\n",
        "2. **Compiling a model** - Change the optimization function or the **learning rate** of optimization function.\n",
        "\n",
        "3. **Fitting a model** Fit a model for more **epochs** (leave it training for longer) or on more data."
      ]
    },
    {
      "cell_type": "code",
      "metadata": {
        "id": "pH-RgRrU7Aea",
        "colab": {
          "base_uri": "https://localhost:8080/"
        },
        "outputId": "43640ada-04e0-44db-8bd2-2165f5bc617a"
      },
      "source": [
        "# Rebuilding model\n",
        "\n",
        "# 1. Create model\n",
        "model = tf.keras.Sequential([\n",
        "                             tf.keras.layers.Dense(1)\n",
        "])\n",
        "\n",
        "# 2. Compile model\n",
        "model.compile(loss=tf.keras.losses.mae,\n",
        "              optimizer=tf.keras.optimizers.SGD(),\n",
        "              metrics=[\"mae\"])\n",
        "\n",
        "# 3. Fit model\n",
        "model.fit(X, y, epochs=100)"
      ],
      "execution_count": null,
      "outputs": [
        {
          "output_type": "stream",
          "text": [
            "Epoch 1/100\n",
            "1/1 [==============================] - 0s 488ms/step - loss: 20.5370 - mae: 20.5370\n",
            "Epoch 2/100\n",
            "1/1 [==============================] - 0s 14ms/step - loss: 20.2558 - mae: 20.2558\n",
            "Epoch 3/100\n",
            "1/1 [==============================] - 0s 9ms/step - loss: 19.9745 - mae: 19.9745\n",
            "Epoch 4/100\n",
            "1/1 [==============================] - 0s 18ms/step - loss: 19.6933 - mae: 19.6933\n",
            "Epoch 5/100\n",
            "1/1 [==============================] - 0s 11ms/step - loss: 19.4120 - mae: 19.4120\n",
            "Epoch 6/100\n",
            "1/1 [==============================] - 0s 9ms/step - loss: 19.1308 - mae: 19.1308\n",
            "Epoch 7/100\n",
            "1/1 [==============================] - 0s 7ms/step - loss: 18.8495 - mae: 18.8495\n",
            "Epoch 8/100\n",
            "1/1 [==============================] - 0s 14ms/step - loss: 18.5683 - mae: 18.5683\n",
            "Epoch 9/100\n",
            "1/1 [==============================] - 0s 13ms/step - loss: 18.2870 - mae: 18.2870\n",
            "Epoch 10/100\n",
            "1/1 [==============================] - 0s 23ms/step - loss: 18.0058 - mae: 18.0058\n",
            "Epoch 11/100\n",
            "1/1 [==============================] - 0s 25ms/step - loss: 17.7245 - mae: 17.7245\n",
            "Epoch 12/100\n",
            "1/1 [==============================] - 0s 14ms/step - loss: 17.4433 - mae: 17.4433\n",
            "Epoch 13/100\n",
            "1/1 [==============================] - 0s 8ms/step - loss: 17.1620 - mae: 17.1620\n",
            "Epoch 14/100\n",
            "1/1 [==============================] - 0s 9ms/step - loss: 16.8808 - mae: 16.8808\n",
            "Epoch 15/100\n",
            "1/1 [==============================] - 0s 7ms/step - loss: 16.5995 - mae: 16.5995\n",
            "Epoch 16/100\n",
            "1/1 [==============================] - 0s 12ms/step - loss: 16.3183 - mae: 16.3183\n",
            "Epoch 17/100\n",
            "1/1 [==============================] - 0s 10ms/step - loss: 16.0370 - mae: 16.0370\n",
            "Epoch 18/100\n",
            "1/1 [==============================] - 0s 12ms/step - loss: 15.7558 - mae: 15.7558\n",
            "Epoch 19/100\n",
            "1/1 [==============================] - 0s 10ms/step - loss: 15.4745 - mae: 15.4745\n",
            "Epoch 20/100\n",
            "1/1 [==============================] - 0s 10ms/step - loss: 15.1933 - mae: 15.1933\n",
            "Epoch 21/100\n",
            "1/1 [==============================] - 0s 10ms/step - loss: 14.9120 - mae: 14.9120\n",
            "Epoch 22/100\n",
            "1/1 [==============================] - 0s 6ms/step - loss: 14.6751 - mae: 14.6751\n",
            "Epoch 23/100\n",
            "1/1 [==============================] - 0s 7ms/step - loss: 14.5426 - mae: 14.5426\n",
            "Epoch 24/100\n",
            "1/1 [==============================] - 0s 8ms/step - loss: 14.4101 - mae: 14.4101\n",
            "Epoch 25/100\n",
            "1/1 [==============================] - 0s 10ms/step - loss: 14.2776 - mae: 14.2776\n",
            "Epoch 26/100\n",
            "1/1 [==============================] - 0s 6ms/step - loss: 14.1451 - mae: 14.1451\n",
            "Epoch 27/100\n",
            "1/1 [==============================] - 0s 12ms/step - loss: 14.0126 - mae: 14.0126\n",
            "Epoch 28/100\n",
            "1/1 [==============================] - 0s 11ms/step - loss: 13.8801 - mae: 13.8801\n",
            "Epoch 29/100\n",
            "1/1 [==============================] - 0s 9ms/step - loss: 13.7476 - mae: 13.7476\n",
            "Epoch 30/100\n",
            "1/1 [==============================] - 0s 12ms/step - loss: 13.6151 - mae: 13.6151\n",
            "Epoch 31/100\n",
            "1/1 [==============================] - 0s 16ms/step - loss: 13.4826 - mae: 13.4826\n",
            "Epoch 32/100\n",
            "1/1 [==============================] - 0s 18ms/step - loss: 13.3501 - mae: 13.3501\n",
            "Epoch 33/100\n",
            "1/1 [==============================] - 0s 6ms/step - loss: 13.2176 - mae: 13.2176\n",
            "Epoch 34/100\n",
            "1/1 [==============================] - 0s 13ms/step - loss: 13.0851 - mae: 13.0851\n",
            "Epoch 35/100\n",
            "1/1 [==============================] - 0s 10ms/step - loss: 12.9526 - mae: 12.9526\n",
            "Epoch 36/100\n",
            "1/1 [==============================] - 0s 15ms/step - loss: 12.8201 - mae: 12.8201\n",
            "Epoch 37/100\n",
            "1/1 [==============================] - 0s 19ms/step - loss: 12.6876 - mae: 12.6876\n",
            "Epoch 38/100\n",
            "1/1 [==============================] - 0s 12ms/step - loss: 12.5551 - mae: 12.5551\n",
            "Epoch 39/100\n",
            "1/1 [==============================] - 0s 26ms/step - loss: 12.4226 - mae: 12.4226\n",
            "Epoch 40/100\n",
            "1/1 [==============================] - 0s 16ms/step - loss: 12.2901 - mae: 12.2901\n",
            "Epoch 41/100\n",
            "1/1 [==============================] - 0s 7ms/step - loss: 12.1576 - mae: 12.1576\n",
            "Epoch 42/100\n",
            "1/1 [==============================] - 0s 16ms/step - loss: 12.0251 - mae: 12.0251\n",
            "Epoch 43/100\n",
            "1/1 [==============================] - 0s 16ms/step - loss: 11.8926 - mae: 11.8926\n",
            "Epoch 44/100\n",
            "1/1 [==============================] - 0s 19ms/step - loss: 11.7601 - mae: 11.7601\n",
            "Epoch 45/100\n",
            "1/1 [==============================] - 0s 16ms/step - loss: 11.6276 - mae: 11.6276\n",
            "Epoch 46/100\n",
            "1/1 [==============================] - 0s 11ms/step - loss: 11.4951 - mae: 11.4951\n",
            "Epoch 47/100\n",
            "1/1 [==============================] - 0s 7ms/step - loss: 11.3626 - mae: 11.3626\n",
            "Epoch 48/100\n",
            "1/1 [==============================] - 0s 13ms/step - loss: 11.2301 - mae: 11.2301\n",
            "Epoch 49/100\n",
            "1/1 [==============================] - 0s 8ms/step - loss: 11.0976 - mae: 11.0976\n",
            "Epoch 50/100\n",
            "1/1 [==============================] - 0s 6ms/step - loss: 10.9651 - mae: 10.9651\n",
            "Epoch 51/100\n",
            "1/1 [==============================] - 0s 5ms/step - loss: 10.8326 - mae: 10.8326\n",
            "Epoch 52/100\n",
            "1/1 [==============================] - 0s 6ms/step - loss: 10.7001 - mae: 10.7001\n",
            "Epoch 53/100\n",
            "1/1 [==============================] - 0s 9ms/step - loss: 10.5676 - mae: 10.5676\n",
            "Epoch 54/100\n",
            "1/1 [==============================] - 0s 27ms/step - loss: 10.4351 - mae: 10.4351\n",
            "Epoch 55/100\n",
            "1/1 [==============================] - 0s 7ms/step - loss: 10.3026 - mae: 10.3026\n",
            "Epoch 56/100\n",
            "1/1 [==============================] - 0s 6ms/step - loss: 10.1701 - mae: 10.1701\n",
            "Epoch 57/100\n",
            "1/1 [==============================] - 0s 12ms/step - loss: 10.0376 - mae: 10.0376\n",
            "Epoch 58/100\n",
            "1/1 [==============================] - 0s 7ms/step - loss: 9.9051 - mae: 9.9051\n",
            "Epoch 59/100\n",
            "1/1 [==============================] - 0s 8ms/step - loss: 9.7726 - mae: 9.7726\n",
            "Epoch 60/100\n",
            "1/1 [==============================] - 0s 4ms/step - loss: 9.6401 - mae: 9.6401\n",
            "Epoch 61/100\n",
            "1/1 [==============================] - 0s 13ms/step - loss: 9.5076 - mae: 9.5076\n",
            "Epoch 62/100\n",
            "1/1 [==============================] - 0s 5ms/step - loss: 9.3751 - mae: 9.3751\n",
            "Epoch 63/100\n",
            "1/1 [==============================] - 0s 7ms/step - loss: 9.2426 - mae: 9.2426\n",
            "Epoch 64/100\n",
            "1/1 [==============================] - 0s 7ms/step - loss: 9.1101 - mae: 9.1101\n",
            "Epoch 65/100\n",
            "1/1 [==============================] - 0s 8ms/step - loss: 8.9776 - mae: 8.9776\n",
            "Epoch 66/100\n",
            "1/1 [==============================] - 0s 7ms/step - loss: 8.8451 - mae: 8.8451\n",
            "Epoch 67/100\n",
            "1/1 [==============================] - 0s 16ms/step - loss: 8.7126 - mae: 8.7126\n",
            "Epoch 68/100\n",
            "1/1 [==============================] - 0s 15ms/step - loss: 8.5801 - mae: 8.5801\n",
            "Epoch 69/100\n",
            "1/1 [==============================] - 0s 10ms/step - loss: 8.4476 - mae: 8.4476\n",
            "Epoch 70/100\n",
            "1/1 [==============================] - 0s 6ms/step - loss: 8.3151 - mae: 8.3151\n",
            "Epoch 71/100\n",
            "1/1 [==============================] - 0s 8ms/step - loss: 8.1826 - mae: 8.1826\n",
            "Epoch 72/100\n",
            "1/1 [==============================] - 0s 8ms/step - loss: 8.0501 - mae: 8.0501\n",
            "Epoch 73/100\n",
            "1/1 [==============================] - 0s 8ms/step - loss: 7.9176 - mae: 7.9176\n",
            "Epoch 74/100\n",
            "1/1 [==============================] - 0s 15ms/step - loss: 7.7851 - mae: 7.7851\n",
            "Epoch 75/100\n",
            "1/1 [==============================] - 0s 7ms/step - loss: 7.6526 - mae: 7.6526\n",
            "Epoch 76/100\n",
            "1/1 [==============================] - 0s 7ms/step - loss: 7.5201 - mae: 7.5201\n",
            "Epoch 77/100\n",
            "1/1 [==============================] - 0s 6ms/step - loss: 7.3876 - mae: 7.3876\n",
            "Epoch 78/100\n",
            "1/1 [==============================] - 0s 8ms/step - loss: 7.2551 - mae: 7.2551\n",
            "Epoch 79/100\n",
            "1/1 [==============================] - 0s 5ms/step - loss: 7.1226 - mae: 7.1226\n",
            "Epoch 80/100\n",
            "1/1 [==============================] - 0s 8ms/step - loss: 6.9901 - mae: 6.9901\n",
            "Epoch 81/100\n",
            "1/1 [==============================] - 0s 6ms/step - loss: 6.9394 - mae: 6.9394\n",
            "Epoch 82/100\n",
            "1/1 [==============================] - 0s 8ms/step - loss: 6.9338 - mae: 6.9338\n",
            "Epoch 83/100\n",
            "1/1 [==============================] - 0s 5ms/step - loss: 6.9281 - mae: 6.9281\n",
            "Epoch 84/100\n",
            "1/1 [==============================] - 0s 6ms/step - loss: 6.9225 - mae: 6.9225\n",
            "Epoch 85/100\n",
            "1/1 [==============================] - 0s 6ms/step - loss: 6.9169 - mae: 6.9169\n",
            "Epoch 86/100\n",
            "1/1 [==============================] - 0s 7ms/step - loss: 6.9113 - mae: 6.9113\n",
            "Epoch 87/100\n",
            "1/1 [==============================] - 0s 5ms/step - loss: 6.9056 - mae: 6.9056\n",
            "Epoch 88/100\n",
            "1/1 [==============================] - 0s 5ms/step - loss: 6.9000 - mae: 6.9000\n",
            "Epoch 89/100\n",
            "1/1 [==============================] - 0s 8ms/step - loss: 6.8944 - mae: 6.8944\n",
            "Epoch 90/100\n",
            "1/1 [==============================] - 0s 5ms/step - loss: 6.8888 - mae: 6.8888\n",
            "Epoch 91/100\n",
            "1/1 [==============================] - 0s 11ms/step - loss: 6.8831 - mae: 6.8831\n",
            "Epoch 92/100\n",
            "1/1 [==============================] - 0s 10ms/step - loss: 6.8775 - mae: 6.8775\n",
            "Epoch 93/100\n",
            "1/1 [==============================] - 0s 7ms/step - loss: 6.8719 - mae: 6.8719\n",
            "Epoch 94/100\n",
            "1/1 [==============================] - 0s 8ms/step - loss: 6.8663 - mae: 6.8663\n",
            "Epoch 95/100\n",
            "1/1 [==============================] - 0s 6ms/step - loss: 6.8606 - mae: 6.8606\n",
            "Epoch 96/100\n",
            "1/1 [==============================] - 0s 8ms/step - loss: 6.8550 - mae: 6.8550\n",
            "Epoch 97/100\n",
            "1/1 [==============================] - 0s 5ms/step - loss: 6.8494 - mae: 6.8494\n",
            "Epoch 98/100\n",
            "1/1 [==============================] - 0s 8ms/step - loss: 6.8438 - mae: 6.8438\n",
            "Epoch 99/100\n",
            "1/1 [==============================] - 0s 5ms/step - loss: 6.8381 - mae: 6.8381\n",
            "Epoch 100/100\n",
            "1/1 [==============================] - 0s 13ms/step - loss: 6.8325 - mae: 6.8325\n"
          ],
          "name": "stdout"
        },
        {
          "output_type": "execute_result",
          "data": {
            "text/plain": [
              "<tensorflow.python.keras.callbacks.History at 0x7ff60fe61a50>"
            ]
          },
          "metadata": {
            "tags": []
          },
          "execution_count": 15
        }
      ]
    },
    {
      "cell_type": "code",
      "metadata": {
        "colab": {
          "base_uri": "https://localhost:8080/"
        },
        "id": "0a3-M8sUMaOO",
        "outputId": "b341a965-0687-4ca0-9132-d095902a89f0"
      },
      "source": [
        "# Features and labels\n",
        "X, y"
      ],
      "execution_count": null,
      "outputs": [
        {
          "output_type": "execute_result",
          "data": {
            "text/plain": [
              "(<tf.Tensor: shape=(8,), dtype=float64, numpy=array([-7., -4., -1.,  2.,  5.,  8., 11., 14.])>,\n",
              " <tf.Tensor: shape=(8,), dtype=float64, numpy=array([ 3.,  6.,  9., 12., 15., 18., 21., 24.])>)"
            ]
          },
          "metadata": {
            "tags": []
          },
          "execution_count": 16
        }
      ]
    },
    {
      "cell_type": "code",
      "metadata": {
        "colab": {
          "base_uri": "https://localhost:8080/"
        },
        "id": "5hS3-I-GNJGk",
        "outputId": "7f4cdde8-c323-4f84-ed67-998a03ba5518"
      },
      "source": [
        "# Prediction\n",
        "model.predict([17.0])"
      ],
      "execution_count": null,
      "outputs": [
        {
          "output_type": "execute_result",
          "data": {
            "text/plain": [
              "array([[29.529932]], dtype=float32)"
            ]
          },
          "metadata": {
            "tags": []
          },
          "execution_count": 17
        }
      ]
    },
    {
      "cell_type": "code",
      "metadata": {
        "colab": {
          "base_uri": "https://localhost:8080/"
        },
        "id": "NBjR2OzDNRdc",
        "outputId": "db6ba72b-73c2-4462-a460-f9963cf6a2bd"
      },
      "source": [
        "# Adding hidden layers to improve model, \n",
        "# changing optimizer to Adam,\n",
        "# changing learning rate to 0.01 instead of 0.001 default\n",
        "\n",
        "model = tf.keras.Sequential([\n",
        "  tf.keras.layers.Dense(100, activation='relu'),\n",
        "  tf.keras.layers.Dense(1)\n",
        "])\n",
        "\n",
        "model.compile(loss=tf.keras.losses.mae,\n",
        "              optimizer=tf.keras.optimizers.Adam(learning_rate=0.01),\n",
        "              metrics=['mae'])\n",
        "\n",
        "model.fit(X,y, epochs=100)"
      ],
      "execution_count": null,
      "outputs": [
        {
          "output_type": "stream",
          "text": [
            "Epoch 1/100\n",
            "1/1 [==============================] - 0s 477ms/step - loss: 12.3735 - mae: 12.3735\n",
            "Epoch 2/100\n",
            "1/1 [==============================] - 0s 6ms/step - loss: 11.5289 - mae: 11.5289\n",
            "Epoch 3/100\n",
            "1/1 [==============================] - 0s 7ms/step - loss: 10.6799 - mae: 10.6799\n",
            "Epoch 4/100\n",
            "1/1 [==============================] - 0s 7ms/step - loss: 9.8169 - mae: 9.8169\n",
            "Epoch 5/100\n",
            "1/1 [==============================] - 0s 7ms/step - loss: 8.9404 - mae: 8.9404\n",
            "Epoch 6/100\n",
            "1/1 [==============================] - 0s 5ms/step - loss: 8.2787 - mae: 8.2787\n",
            "Epoch 7/100\n",
            "1/1 [==============================] - 0s 7ms/step - loss: 7.6158 - mae: 7.6158\n",
            "Epoch 8/100\n",
            "1/1 [==============================] - 0s 8ms/step - loss: 6.9249 - mae: 6.9249\n",
            "Epoch 9/100\n",
            "1/1 [==============================] - 0s 27ms/step - loss: 6.2033 - mae: 6.2033\n",
            "Epoch 10/100\n",
            "1/1 [==============================] - 0s 7ms/step - loss: 5.4548 - mae: 5.4548\n",
            "Epoch 11/100\n",
            "1/1 [==============================] - 0s 10ms/step - loss: 4.6772 - mae: 4.6772\n",
            "Epoch 12/100\n",
            "1/1 [==============================] - 0s 7ms/step - loss: 4.0176 - mae: 4.0176\n",
            "Epoch 13/100\n",
            "1/1 [==============================] - 0s 10ms/step - loss: 3.8213 - mae: 3.8213\n",
            "Epoch 14/100\n",
            "1/1 [==============================] - 0s 10ms/step - loss: 3.9651 - mae: 3.9651\n",
            "Epoch 15/100\n",
            "1/1 [==============================] - 0s 9ms/step - loss: 4.0847 - mae: 4.0847\n",
            "Epoch 16/100\n",
            "1/1 [==============================] - 0s 8ms/step - loss: 4.3649 - mae: 4.3649\n",
            "Epoch 17/100\n",
            "1/1 [==============================] - 0s 8ms/step - loss: 4.5625 - mae: 4.5625\n",
            "Epoch 18/100\n",
            "1/1 [==============================] - 0s 10ms/step - loss: 4.6608 - mae: 4.6608\n",
            "Epoch 19/100\n",
            "1/1 [==============================] - 0s 6ms/step - loss: 4.6717 - mae: 4.6717\n",
            "Epoch 20/100\n",
            "1/1 [==============================] - 0s 8ms/step - loss: 4.6081 - mae: 4.6081\n",
            "Epoch 21/100\n",
            "1/1 [==============================] - 0s 10ms/step - loss: 4.4814 - mae: 4.4814\n",
            "Epoch 22/100\n",
            "1/1 [==============================] - 0s 8ms/step - loss: 4.3017 - mae: 4.3017\n",
            "Epoch 23/100\n",
            "1/1 [==============================] - 0s 6ms/step - loss: 4.0779 - mae: 4.0779\n",
            "Epoch 24/100\n",
            "1/1 [==============================] - 0s 11ms/step - loss: 3.8635 - mae: 3.8635\n",
            "Epoch 25/100\n",
            "1/1 [==============================] - 0s 6ms/step - loss: 3.7519 - mae: 3.7519\n",
            "Epoch 26/100\n",
            "1/1 [==============================] - 0s 8ms/step - loss: 3.6427 - mae: 3.6427\n",
            "Epoch 27/100\n",
            "1/1 [==============================] - 0s 7ms/step - loss: 3.5336 - mae: 3.5336\n",
            "Epoch 28/100\n",
            "1/1 [==============================] - 0s 8ms/step - loss: 3.4487 - mae: 3.4487\n",
            "Epoch 29/100\n",
            "1/1 [==============================] - 0s 8ms/step - loss: 3.4888 - mae: 3.4888\n",
            "Epoch 30/100\n",
            "1/1 [==============================] - 0s 8ms/step - loss: 3.4973 - mae: 3.4973\n",
            "Epoch 31/100\n",
            "1/1 [==============================] - 0s 8ms/step - loss: 3.4768 - mae: 3.4768\n",
            "Epoch 32/100\n",
            "1/1 [==============================] - 0s 18ms/step - loss: 3.4248 - mae: 3.4248\n",
            "Epoch 33/100\n",
            "1/1 [==============================] - 0s 7ms/step - loss: 3.3482 - mae: 3.3482\n",
            "Epoch 34/100\n",
            "1/1 [==============================] - 0s 10ms/step - loss: 3.2501 - mae: 3.2501\n",
            "Epoch 35/100\n",
            "1/1 [==============================] - 0s 8ms/step - loss: 3.1239 - mae: 3.1239\n",
            "Epoch 36/100\n",
            "1/1 [==============================] - 0s 8ms/step - loss: 2.9750 - mae: 2.9750\n",
            "Epoch 37/100\n",
            "1/1 [==============================] - 0s 11ms/step - loss: 2.9486 - mae: 2.9486\n",
            "Epoch 38/100\n",
            "1/1 [==============================] - 0s 5ms/step - loss: 2.9043 - mae: 2.9043\n",
            "Epoch 39/100\n",
            "1/1 [==============================] - 0s 6ms/step - loss: 2.9150 - mae: 2.9150\n",
            "Epoch 40/100\n",
            "1/1 [==============================] - 0s 8ms/step - loss: 2.8487 - mae: 2.8487\n",
            "Epoch 41/100\n",
            "1/1 [==============================] - 0s 6ms/step - loss: 2.7084 - mae: 2.7084\n",
            "Epoch 42/100\n",
            "1/1 [==============================] - 0s 9ms/step - loss: 2.6041 - mae: 2.6041\n",
            "Epoch 43/100\n",
            "1/1 [==============================] - 0s 9ms/step - loss: 2.5053 - mae: 2.5053\n",
            "Epoch 44/100\n",
            "1/1 [==============================] - 0s 6ms/step - loss: 2.3942 - mae: 2.3942\n",
            "Epoch 45/100\n",
            "1/1 [==============================] - 0s 8ms/step - loss: 2.3553 - mae: 2.3553\n",
            "Epoch 46/100\n",
            "1/1 [==============================] - 0s 18ms/step - loss: 2.2733 - mae: 2.2733\n",
            "Epoch 47/100\n",
            "1/1 [==============================] - 0s 5ms/step - loss: 2.1478 - mae: 2.1478\n",
            "Epoch 48/100\n",
            "1/1 [==============================] - 0s 8ms/step - loss: 2.0399 - mae: 2.0399\n",
            "Epoch 49/100\n",
            "1/1 [==============================] - 0s 9ms/step - loss: 1.9599 - mae: 1.9599\n",
            "Epoch 50/100\n",
            "1/1 [==============================] - 0s 7ms/step - loss: 1.8585 - mae: 1.8585\n",
            "Epoch 51/100\n",
            "1/1 [==============================] - 0s 12ms/step - loss: 1.7374 - mae: 1.7374\n",
            "Epoch 52/100\n",
            "1/1 [==============================] - 0s 5ms/step - loss: 1.5988 - mae: 1.5988\n",
            "Epoch 53/100\n",
            "1/1 [==============================] - 0s 11ms/step - loss: 1.4920 - mae: 1.4920\n",
            "Epoch 54/100\n",
            "1/1 [==============================] - 0s 5ms/step - loss: 1.3582 - mae: 1.3582\n",
            "Epoch 55/100\n",
            "1/1 [==============================] - 0s 8ms/step - loss: 1.2035 - mae: 1.2035\n",
            "Epoch 56/100\n",
            "1/1 [==============================] - 0s 19ms/step - loss: 1.0207 - mae: 1.0207\n",
            "Epoch 57/100\n",
            "1/1 [==============================] - 0s 13ms/step - loss: 0.8654 - mae: 0.8654\n",
            "Epoch 58/100\n",
            "1/1 [==============================] - 0s 10ms/step - loss: 0.7245 - mae: 0.7245\n",
            "Epoch 59/100\n",
            "1/1 [==============================] - 0s 18ms/step - loss: 0.5770 - mae: 0.5770\n",
            "Epoch 60/100\n",
            "1/1 [==============================] - 0s 12ms/step - loss: 0.3832 - mae: 0.3832\n",
            "Epoch 61/100\n",
            "1/1 [==============================] - 0s 7ms/step - loss: 0.2458 - mae: 0.2458\n",
            "Epoch 62/100\n",
            "1/1 [==============================] - 0s 7ms/step - loss: 0.2551 - mae: 0.2551\n",
            "Epoch 63/100\n",
            "1/1 [==============================] - 0s 9ms/step - loss: 0.3284 - mae: 0.3284\n",
            "Epoch 64/100\n",
            "1/1 [==============================] - 0s 8ms/step - loss: 0.2850 - mae: 0.2850\n",
            "Epoch 65/100\n",
            "1/1 [==============================] - 0s 7ms/step - loss: 0.5706 - mae: 0.5706\n",
            "Epoch 66/100\n",
            "1/1 [==============================] - 0s 8ms/step - loss: 0.5190 - mae: 0.5190\n",
            "Epoch 67/100\n",
            "1/1 [==============================] - 0s 9ms/step - loss: 0.6641 - mae: 0.6641\n",
            "Epoch 68/100\n",
            "1/1 [==============================] - 0s 8ms/step - loss: 0.6800 - mae: 0.6800\n",
            "Epoch 69/100\n",
            "1/1 [==============================] - 0s 6ms/step - loss: 0.6652 - mae: 0.6652\n",
            "Epoch 70/100\n",
            "1/1 [==============================] - 0s 8ms/step - loss: 0.6194 - mae: 0.6194\n",
            "Epoch 71/100\n",
            "1/1 [==============================] - 0s 9ms/step - loss: 0.8596 - mae: 0.8596\n",
            "Epoch 72/100\n",
            "1/1 [==============================] - 0s 6ms/step - loss: 0.7214 - mae: 0.7214\n",
            "Epoch 73/100\n",
            "1/1 [==============================] - 0s 8ms/step - loss: 0.6679 - mae: 0.6679\n",
            "Epoch 74/100\n",
            "1/1 [==============================] - 0s 9ms/step - loss: 0.7113 - mae: 0.7113\n",
            "Epoch 75/100\n",
            "1/1 [==============================] - 0s 7ms/step - loss: 0.5634 - mae: 0.5634\n",
            "Epoch 76/100\n",
            "1/1 [==============================] - 0s 9ms/step - loss: 0.2780 - mae: 0.2780\n",
            "Epoch 77/100\n",
            "1/1 [==============================] - 0s 9ms/step - loss: 0.5239 - mae: 0.5239\n",
            "Epoch 78/100\n",
            "1/1 [==============================] - 0s 7ms/step - loss: 0.6247 - mae: 0.6247\n",
            "Epoch 79/100\n",
            "1/1 [==============================] - 0s 7ms/step - loss: 0.4113 - mae: 0.4113\n",
            "Epoch 80/100\n",
            "1/1 [==============================] - 0s 8ms/step - loss: 0.2871 - mae: 0.2871\n",
            "Epoch 81/100\n",
            "1/1 [==============================] - 0s 6ms/step - loss: 0.3970 - mae: 0.3970\n",
            "Epoch 82/100\n",
            "1/1 [==============================] - 0s 8ms/step - loss: 0.3190 - mae: 0.3190\n",
            "Epoch 83/100\n",
            "1/1 [==============================] - 0s 7ms/step - loss: 0.3385 - mae: 0.3385\n",
            "Epoch 84/100\n",
            "1/1 [==============================] - 0s 10ms/step - loss: 0.4294 - mae: 0.4294\n",
            "Epoch 85/100\n",
            "1/1 [==============================] - 0s 6ms/step - loss: 0.2992 - mae: 0.2992\n",
            "Epoch 86/100\n",
            "1/1 [==============================] - 0s 9ms/step - loss: 0.1907 - mae: 0.1907\n",
            "Epoch 87/100\n",
            "1/1 [==============================] - 0s 7ms/step - loss: 0.3330 - mae: 0.3330\n",
            "Epoch 88/100\n",
            "1/1 [==============================] - 0s 6ms/step - loss: 0.2327 - mae: 0.2327\n",
            "Epoch 89/100\n",
            "1/1 [==============================] - 0s 8ms/step - loss: 0.2610 - mae: 0.2610\n",
            "Epoch 90/100\n",
            "1/1 [==============================] - 0s 6ms/step - loss: 0.2163 - mae: 0.2163\n",
            "Epoch 91/100\n",
            "1/1 [==============================] - 0s 7ms/step - loss: 0.1668 - mae: 0.1668\n",
            "Epoch 92/100\n",
            "1/1 [==============================] - 0s 10ms/step - loss: 0.1917 - mae: 0.1917\n",
            "Epoch 93/100\n",
            "1/1 [==============================] - 0s 7ms/step - loss: 0.2447 - mae: 0.2447\n",
            "Epoch 94/100\n",
            "1/1 [==============================] - 0s 7ms/step - loss: 0.2455 - mae: 0.2455\n",
            "Epoch 95/100\n",
            "1/1 [==============================] - 0s 8ms/step - loss: 0.1525 - mae: 0.1525\n",
            "Epoch 96/100\n",
            "1/1 [==============================] - 0s 11ms/step - loss: 0.1656 - mae: 0.1656\n",
            "Epoch 97/100\n",
            "1/1 [==============================] - 0s 6ms/step - loss: 0.2687 - mae: 0.2687\n",
            "Epoch 98/100\n",
            "1/1 [==============================] - 0s 5ms/step - loss: 0.2557 - mae: 0.2557\n",
            "Epoch 99/100\n",
            "1/1 [==============================] - 0s 11ms/step - loss: 0.2690 - mae: 0.2690\n",
            "Epoch 100/100\n",
            "1/1 [==============================] - 0s 5ms/step - loss: 0.2492 - mae: 0.2492\n"
          ],
          "name": "stdout"
        },
        {
          "output_type": "execute_result",
          "data": {
            "text/plain": [
              "<tensorflow.python.keras.callbacks.History at 0x7ff60ed58e10>"
            ]
          },
          "metadata": {
            "tags": []
          },
          "execution_count": 18
        }
      ]
    },
    {
      "cell_type": "code",
      "metadata": {
        "colab": {
          "base_uri": "https://localhost:8080/"
        },
        "id": "4z8mPbsHO9tc",
        "outputId": "2a60418e-7411-4f6d-f142-b51e5182786d"
      },
      "source": [
        "# Prediction\n",
        "model.predict([30.0])"
      ],
      "execution_count": null,
      "outputs": [
        {
          "output_type": "execute_result",
          "data": {
            "text/plain": [
              "array([[41.18157]], dtype=float32)"
            ]
          },
          "metadata": {
            "tags": []
          },
          "execution_count": 19
        }
      ]
    },
    {
      "cell_type": "markdown",
      "metadata": {
        "id": "Bh3hWq78PE_s"
      },
      "source": [
        "## Evaluating model\n",
        "\n",
        "In practice, a typical workflow we go through when building neural networks is:\n",
        "```\n",
        "build model -> fit it -> evaluate it -> build model -> fit it -> evaluate it ->  etc.\n",
        "```\n",
        "When it comes to evaluation, there are 3 words we should memorize:\n",
        "> \"Visualize, visualize, visualize\"\n",
        "\n",
        "Visualize:\n",
        "* The **data** - what data are we working with and what does it look like?\n",
        "* The **model** itself - what does our model look like?\n",
        "* The **training** - how does our model perform while it learns?\n",
        "* The **predictions** - how do the predictions of a model line up against the ground truth (original labels) ?\n"
      ]
    },
    {
      "cell_type": "code",
      "metadata": {
        "colab": {
          "base_uri": "https://localhost:8080/"
        },
        "id": "I76gp43DSobs",
        "outputId": "5134773f-4cea-455c-b64b-3a50f0a3ab4d"
      },
      "source": [
        "# Make a larger dataset\n",
        "\n",
        "X = tf.range(-100,100, 4)\n",
        "X"
      ],
      "execution_count": null,
      "outputs": [
        {
          "output_type": "execute_result",
          "data": {
            "text/plain": [
              "<tf.Tensor: shape=(50,), dtype=int32, numpy=\n",
              "array([-100,  -96,  -92,  -88,  -84,  -80,  -76,  -72,  -68,  -64,  -60,\n",
              "        -56,  -52,  -48,  -44,  -40,  -36,  -32,  -28,  -24,  -20,  -16,\n",
              "        -12,   -8,   -4,    0,    4,    8,   12,   16,   20,   24,   28,\n",
              "         32,   36,   40,   44,   48,   52,   56,   60,   64,   68,   72,\n",
              "         76,   80,   84,   88,   92,   96], dtype=int32)>"
            ]
          },
          "metadata": {
            "tags": []
          },
          "execution_count": 20
        }
      ]
    },
    {
      "cell_type": "code",
      "metadata": {
        "colab": {
          "base_uri": "https://localhost:8080/"
        },
        "id": "IMCgGZcnUAqr",
        "outputId": "f318bb52-d21e-4a54-c95e-2d63f0340808"
      },
      "source": [
        "# Make labels for the dataset\n",
        "y = X + 10\n",
        "y"
      ],
      "execution_count": null,
      "outputs": [
        {
          "output_type": "execute_result",
          "data": {
            "text/plain": [
              "<tf.Tensor: shape=(50,), dtype=int32, numpy=\n",
              "array([-90, -86, -82, -78, -74, -70, -66, -62, -58, -54, -50, -46, -42,\n",
              "       -38, -34, -30, -26, -22, -18, -14, -10,  -6,  -2,   2,   6,  10,\n",
              "        14,  18,  22,  26,  30,  34,  38,  42,  46,  50,  54,  58,  62,\n",
              "        66,  70,  74,  78,  82,  86,  90,  94,  98, 102, 106], dtype=int32)>"
            ]
          },
          "metadata": {
            "tags": []
          },
          "execution_count": 21
        }
      ]
    },
    {
      "cell_type": "code",
      "metadata": {
        "colab": {
          "base_uri": "https://localhost:8080/",
          "height": 284
        },
        "id": "SnZjJgjYUJAk",
        "outputId": "ea1ff490-b16c-4006-f39c-3add58f20cd6"
      },
      "source": [
        "# Visualize data\n",
        "import matplotlib.pyplot as plt\n",
        "\n",
        "plt.scatter(X, y)"
      ],
      "execution_count": null,
      "outputs": [
        {
          "output_type": "execute_result",
          "data": {
            "text/plain": [
              "<matplotlib.collections.PathCollection at 0x7ff60e442ad0>"
            ]
          },
          "metadata": {
            "tags": []
          },
          "execution_count": 22
        },
        {
          "output_type": "display_data",
          "data": {
            "image/png": "[encoded data removed]",
            "text/plain": [
              "<Figure size 432x288 with 1 Axes>"
            ]
          },
          "metadata": {
            "tags": [],
            "needs_background": "light"
          }
        }
      ]
    },
    {
      "cell_type": "markdown",
      "metadata": {
        "id": "fzYyDGsdUPmk"
      },
      "source": [
        "### The three datasets\n",
        "\n",
        "* **Training set** - the model learns from this data (typically 70-80%)\n",
        "* **Validation set** -  the model gets tuned to this data (typically 10-15%)\n",
        "* **Test set** - the model gets evaluated on this data to test what it has learned (10-15%)"
      ]
    },
    {
      "cell_type": "code",
      "metadata": {
        "colab": {
          "base_uri": "https://localhost:8080/"
        },
        "id": "5UYt_Up7UpWT",
        "outputId": "886a5475-08a8-43e5-d90f-9c8683bd08c8"
      },
      "source": [
        "# Check the number of samples\n",
        "len(X)"
      ],
      "execution_count": null,
      "outputs": [
        {
          "output_type": "execute_result",
          "data": {
            "text/plain": [
              "50"
            ]
          },
          "metadata": {
            "tags": []
          },
          "execution_count": 23
        }
      ]
    },
    {
      "cell_type": "code",
      "metadata": {
        "colab": {
          "base_uri": "https://localhost:8080/"
        },
        "id": "xDiwYqlZViNM",
        "outputId": "4c4e73e4-661a-4e89-e92a-bbdb9ae620b5"
      },
      "source": [
        "# Split data into train and test sets\n",
        "X_train = X[:40] # 80% of data\n",
        "y_train = y[:40]\n",
        "\n",
        "X_test = X[40:] # 20% \n",
        "y_test = y[40:]\n",
        "\n",
        "len(X_train), len(X_test), len(y_train), len(y_test)\n"
      ],
      "execution_count": null,
      "outputs": [
        {
          "output_type": "execute_result",
          "data": {
            "text/plain": [
              "(40, 10, 40, 10)"
            ]
          },
          "metadata": {
            "tags": []
          },
          "execution_count": 24
        }
      ]
    },
    {
      "cell_type": "markdown",
      "metadata": {
        "id": "aOZIhYnnWPeM"
      },
      "source": [
        "### Visualizing the data\n",
        "\n",
        "Now we have data in training and test sets, we will visualize again"
      ]
    },
    {
      "cell_type": "code",
      "metadata": {
        "colab": {
          "base_uri": "https://localhost:8080/",
          "height": 428
        },
        "id": "3CKdRLsJWmVk",
        "outputId": "4d66dead-8853-4986-f2d2-6e1fdf529b14"
      },
      "source": [
        "plt.figure(figsize=(10,7))\n",
        "# Plot training data in blue\n",
        "plt.scatter(X_train, y_train, c='b', label='Training data')\n",
        "# Plot test data in green\n",
        "plt.scatter(X_test,y_test, c='g', label='Testing data')\n",
        "# Show legend\n",
        "plt.legend();"
      ],
      "execution_count": null,
      "outputs": [
        {
          "output_type": "display_data",
          "data": {
            "image/png": "[encoded data removed]",
            "text/plain": [
              "<Figure size 720x504 with 1 Axes>"
            ]
          },
          "metadata": {
            "tags": [],
            "needs_background": "light"
          }
        }
      ]
    },
    {
      "cell_type": "markdown",
      "metadata": {
        "id": "OYGK6jX_XFMU"
      },
      "source": [
        "## Building neural network for data\n"
      ]
    },
    {
      "cell_type": "code",
      "metadata": {
        "colab": {
          "base_uri": "https://localhost:8080/",
          "height": 437
        },
        "id": "VpomvHSxrWXT",
        "outputId": "a2be756c-a639-45bc-be36-c5b195818cc4"
      },
      "source": [
        "# 1. Create a model\n",
        "\n",
        "model = tf.keras.Sequential([\n",
        "  tf.keras.layers.Dense(1)\n",
        "])\n",
        "\n",
        "# 2. Compile the model\n",
        "model.compile(loss=tf.keras.losses.mae,\n",
        "              optimizer=tf.keras.optimizers.Adam(learning_rate=0.01),\n",
        "              metrics=['mae'])\n",
        "\n",
        "\n",
        "# 3. Visualizing model\n",
        "model.summary()\n",
        "\n",
        "# # 3. Fit model\n",
        "# model.fit(X_train, y_train, epochs=100)"
      ],
      "execution_count": null,
      "outputs": [
        {
          "output_type": "error",
          "ename": "ValueError",
          "evalue": "ignored",
          "traceback": [
            "\u001b[0;31m---------------------------------------------------------------------------\u001b[0m",
            "\u001b[0;31mValueError\u001b[0m                                Traceback (most recent call last)",
            "\u001b[0;32m<ipython-input-26-842923f6909b>\u001b[0m in \u001b[0;36m<module>\u001b[0;34m()\u001b[0m\n\u001b[1;32m     12\u001b[0m \u001b[0;34m\u001b[0m\u001b[0m\n\u001b[1;32m     13\u001b[0m \u001b[0;31m# 3. Visualizing model\u001b[0m\u001b[0;34m\u001b[0m\u001b[0;34m\u001b[0m\u001b[0;34m\u001b[0m\u001b[0m\n\u001b[0;32m---> 14\u001b[0;31m \u001b[0mmodel\u001b[0m\u001b[0;34m.\u001b[0m\u001b[0msummary\u001b[0m\u001b[0;34m(\u001b[0m\u001b[0;34m)\u001b[0m\u001b[0;34m\u001b[0m\u001b[0;34m\u001b[0m\u001b[0m\n\u001b[0m\u001b[1;32m     15\u001b[0m \u001b[0;34m\u001b[0m\u001b[0m\n\u001b[1;32m     16\u001b[0m \u001b[0;31m# # 3. Fit model\u001b[0m\u001b[0;34m\u001b[0m\u001b[0;34m\u001b[0m\u001b[0;34m\u001b[0m\u001b[0m\n",
            "\u001b[0;32m/usr/local/lib/python3.7/dist-packages/tensorflow/python/keras/engine/training.py\u001b[0m in \u001b[0;36msummary\u001b[0;34m(self, line_length, positions, print_fn)\u001b[0m\n\u001b[1;32m   2475\u001b[0m     \"\"\"\n\u001b[1;32m   2476\u001b[0m     \u001b[0;32mif\u001b[0m \u001b[0;32mnot\u001b[0m \u001b[0mself\u001b[0m\u001b[0;34m.\u001b[0m\u001b[0mbuilt\u001b[0m\u001b[0;34m:\u001b[0m\u001b[0;34m\u001b[0m\u001b[0;34m\u001b[0m\u001b[0m\n\u001b[0;32m-> 2477\u001b[0;31m       raise ValueError('This model has not yet been built. '\n\u001b[0m\u001b[1;32m   2478\u001b[0m                        \u001b[0;34m'Build the model first by calling `build()` or calling '\u001b[0m\u001b[0;34m\u001b[0m\u001b[0;34m\u001b[0m\u001b[0m\n\u001b[1;32m   2479\u001b[0m                        \u001b[0;34m'`fit()` with some data, or specify '\u001b[0m\u001b[0;34m\u001b[0m\u001b[0;34m\u001b[0m\u001b[0m\n",
            "\u001b[0;31mValueError\u001b[0m: This model has not yet been built. Build the model first by calling `build()` or calling `fit()` with some data, or specify an `input_shape` argument in the first layer(s) for automatic build."
          ]
        }
      ]
    },
    {
      "cell_type": "code",
      "metadata": {
        "colab": {
          "base_uri": "https://localhost:8080/"
        },
        "id": "SWl1lS3atcVm",
        "outputId": "b6a0554f-9225-4e4d-c4a6-3257b68f87a6"
      },
      "source": [
        "X[0], y[0]"
      ],
      "execution_count": null,
      "outputs": [
        {
          "output_type": "execute_result",
          "data": {
            "text/plain": [
              "(<tf.Tensor: shape=(), dtype=int32, numpy=-100>,\n",
              " <tf.Tensor: shape=(), dtype=int32, numpy=-90>)"
            ]
          },
          "metadata": {
            "tags": []
          },
          "execution_count": 27
        }
      ]
    },
    {
      "cell_type": "code",
      "metadata": {
        "colab": {
          "base_uri": "https://localhost:8080/"
        },
        "id": "mnqNel6Ns4yf",
        "outputId": "92b888d6-38e0-48ee-93c0-cbdf1f17bef9"
      },
      "source": [
        "# Let's create model which builds automatically by defining input_shape\n",
        "\n",
        "tf.random.set_seed(18)\n",
        "\n",
        "# Create model\n",
        "model = tf.keras.Sequential([\n",
        "  tf.keras.layers.Dense(1, input_shape=[1])\n",
        "])\n",
        "\n",
        "# Compile model\n",
        "model.compile(loss=tf.keras.losses.mae,\n",
        "              optimizer=tf.keras.optimizers.Adam(learning_rate=0.01),\n",
        "              metrics=['mae']\n",
        "              )\n",
        "\n",
        "# Model summary\n",
        "model.summary()"
      ],
      "execution_count": null,
      "outputs": [
        {
          "output_type": "stream",
          "text": [
            "Model: \"sequential_4\"\n",
            "_________________________________________________________________\n",
            "Layer (type)                 Output Shape              Param #   \n",
            "=================================================================\n",
            "dense_5 (Dense)              (None, 1)                 2         \n",
            "=================================================================\n",
            "Total params: 2\n",
            "Trainable params: 2\n",
            "Non-trainable params: 0\n",
            "_________________________________________________________________\n"
          ],
          "name": "stdout"
        }
      ]
    },
    {
      "cell_type": "markdown",
      "metadata": {
        "id": "zPb9d0SkuIZ-"
      },
      "source": [
        "* **Total params** - total number of parameters in the model\n",
        "* **Trainable params** - the parameters (patterns) the model can update as it trains\n",
        "\n",
        "* **Non-trainable params** - parameters that aren't updated during training (typical when you import already learnt patterns during **transfer learning**).\n",
        "\n",
        "Resource: http://introtodeeplearning.com/"
      ]
    },
    {
      "cell_type": "code",
      "metadata": {
        "colab": {
          "base_uri": "https://localhost:8080/"
        },
        "id": "UZKq0pVZu70D",
        "outputId": "735e548a-19b5-47d6-ce21-0e926d5893ad"
      },
      "source": [
        "# Fitting model to training data\n",
        "model.fit(X_train, y_train, epochs=100)"
      ],
      "execution_count": null,
      "outputs": [
        {
          "output_type": "stream",
          "text": [
            "Epoch 1/100\n",
            "2/2 [==============================] - 0s 5ms/step - loss: 34.2897 - mae: 34.2897\n",
            "Epoch 2/100\n",
            "2/2 [==============================] - 0s 5ms/step - loss: 33.4322 - mae: 33.4322\n",
            "Epoch 3/100\n",
            "2/2 [==============================] - 0s 6ms/step - loss: 32.5812 - mae: 32.5812\n",
            "Epoch 4/100\n",
            "2/2 [==============================] - 0s 6ms/step - loss: 31.7849 - mae: 31.7849\n",
            "Epoch 5/100\n",
            "2/2 [==============================] - 0s 8ms/step - loss: 30.9339 - mae: 30.9339\n",
            "Epoch 6/100\n",
            "2/2 [==============================] - 0s 8ms/step - loss: 30.0794 - mae: 30.0794\n",
            "Epoch 7/100\n",
            "2/2 [==============================] - 0s 6ms/step - loss: 29.2938 - mae: 29.2938\n",
            "Epoch 8/100\n",
            "2/2 [==============================] - 0s 4ms/step - loss: 28.4480 - mae: 28.4480\n",
            "Epoch 9/100\n",
            "2/2 [==============================] - 0s 4ms/step - loss: 27.6380 - mae: 27.6380\n",
            "Epoch 10/100\n",
            "2/2 [==============================] - 0s 9ms/step - loss: 26.8035 - mae: 26.8035\n",
            "Epoch 11/100\n",
            "2/2 [==============================] - 0s 6ms/step - loss: 25.9657 - mae: 25.9657\n",
            "Epoch 12/100\n",
            "2/2 [==============================] - 0s 6ms/step - loss: 25.1595 - mae: 25.1595\n",
            "Epoch 13/100\n",
            "2/2 [==============================] - 0s 8ms/step - loss: 24.3696 - mae: 24.3696\n",
            "Epoch 14/100\n",
            "2/2 [==============================] - 0s 6ms/step - loss: 23.5457 - mae: 23.5457\n",
            "Epoch 15/100\n",
            "2/2 [==============================] - 0s 4ms/step - loss: 22.7362 - mae: 22.7362\n",
            "Epoch 16/100\n",
            "2/2 [==============================] - 0s 4ms/step - loss: 21.9775 - mae: 21.9775\n",
            "Epoch 17/100\n",
            "2/2 [==============================] - 0s 6ms/step - loss: 21.2017 - mae: 21.2017\n",
            "Epoch 18/100\n",
            "2/2 [==============================] - 0s 5ms/step - loss: 20.4307 - mae: 20.4307\n",
            "Epoch 19/100\n",
            "2/2 [==============================] - 0s 4ms/step - loss: 19.6528 - mae: 19.6528\n",
            "Epoch 20/100\n",
            "2/2 [==============================] - 0s 5ms/step - loss: 18.8766 - mae: 18.8766\n",
            "Epoch 21/100\n",
            "2/2 [==============================] - 0s 5ms/step - loss: 18.1635 - mae: 18.1635\n",
            "Epoch 22/100\n",
            "2/2 [==============================] - 0s 5ms/step - loss: 17.4280 - mae: 17.4280\n",
            "Epoch 23/100\n",
            "2/2 [==============================] - 0s 5ms/step - loss: 16.6978 - mae: 16.6978\n",
            "Epoch 24/100\n",
            "2/2 [==============================] - 0s 18ms/step - loss: 16.0100 - mae: 16.0100\n",
            "Epoch 25/100\n",
            "2/2 [==============================] - 0s 7ms/step - loss: 15.3374 - mae: 15.3374\n",
            "Epoch 26/100\n",
            "2/2 [==============================] - 0s 5ms/step - loss: 14.7257 - mae: 14.7257\n",
            "Epoch 27/100\n",
            "2/2 [==============================] - 0s 4ms/step - loss: 14.1290 - mae: 14.1290\n",
            "Epoch 28/100\n",
            "2/2 [==============================] - 0s 4ms/step - loss: 13.5605 - mae: 13.5605\n",
            "Epoch 29/100\n",
            "2/2 [==============================] - 0s 8ms/step - loss: 13.1904 - mae: 13.1904\n",
            "Epoch 30/100\n",
            "2/2 [==============================] - 0s 5ms/step - loss: 12.7454 - mae: 12.7454\n",
            "Epoch 31/100\n",
            "2/2 [==============================] - 0s 10ms/step - loss: 12.4002 - mae: 12.4002\n",
            "Epoch 32/100\n",
            "2/2 [==============================] - 0s 5ms/step - loss: 12.0114 - mae: 12.0114\n",
            "Epoch 33/100\n",
            "2/2 [==============================] - 0s 12ms/step - loss: 11.6973 - mae: 11.6973\n",
            "Epoch 34/100\n",
            "2/2 [==============================] - 0s 3ms/step - loss: 11.3642 - mae: 11.3642\n",
            "Epoch 35/100\n",
            "2/2 [==============================] - 0s 4ms/step - loss: 11.0502 - mae: 11.0502\n",
            "Epoch 36/100\n",
            "2/2 [==============================] - 0s 5ms/step - loss: 10.7195 - mae: 10.7195\n",
            "Epoch 37/100\n",
            "2/2 [==============================] - 0s 5ms/step - loss: 10.4030 - mae: 10.4030\n",
            "Epoch 38/100\n",
            "2/2 [==============================] - 0s 5ms/step - loss: 10.1023 - mae: 10.1023\n",
            "Epoch 39/100\n",
            "2/2 [==============================] - 0s 6ms/step - loss: 9.7804 - mae: 9.7804\n",
            "Epoch 40/100\n",
            "2/2 [==============================] - 0s 8ms/step - loss: 9.4753 - mae: 9.4753\n",
            "Epoch 41/100\n",
            "2/2 [==============================] - 0s 4ms/step - loss: 9.1386 - mae: 9.1386\n",
            "Epoch 42/100\n",
            "2/2 [==============================] - 0s 8ms/step - loss: 8.8003 - mae: 8.8003\n",
            "Epoch 43/100\n",
            "2/2 [==============================] - 0s 6ms/step - loss: 8.5190 - mae: 8.5190\n",
            "Epoch 44/100\n",
            "2/2 [==============================] - 0s 5ms/step - loss: 8.1749 - mae: 8.1749\n",
            "Epoch 45/100\n",
            "2/2 [==============================] - 0s 7ms/step - loss: 7.9045 - mae: 7.9045\n",
            "Epoch 46/100\n",
            "2/2 [==============================] - 0s 6ms/step - loss: 7.5314 - mae: 7.5314\n",
            "Epoch 47/100\n",
            "2/2 [==============================] - 0s 6ms/step - loss: 7.2433 - mae: 7.2433\n",
            "Epoch 48/100\n",
            "2/2 [==============================] - 0s 5ms/step - loss: 6.9713 - mae: 6.9713\n",
            "Epoch 49/100\n",
            "2/2 [==============================] - 0s 6ms/step - loss: 6.7896 - mae: 6.7896\n",
            "Epoch 50/100\n",
            "2/2 [==============================] - 0s 12ms/step - loss: 6.7935 - mae: 6.7935\n",
            "Epoch 51/100\n",
            "2/2 [==============================] - 0s 4ms/step - loss: 6.8013 - mae: 6.8013\n",
            "Epoch 52/100\n",
            "2/2 [==============================] - 0s 4ms/step - loss: 6.8300 - mae: 6.8300\n",
            "Epoch 53/100\n",
            "2/2 [==============================] - 0s 10ms/step - loss: 6.8473 - mae: 6.8473\n",
            "Epoch 54/100\n",
            "2/2 [==============================] - 0s 10ms/step - loss: 6.8342 - mae: 6.8342\n",
            "Epoch 55/100\n",
            "2/2 [==============================] - 0s 4ms/step - loss: 6.8032 - mae: 6.8032\n",
            "Epoch 56/100\n",
            "2/2 [==============================] - 0s 6ms/step - loss: 6.7557 - mae: 6.7557\n",
            "Epoch 57/100\n",
            "2/2 [==============================] - 0s 6ms/step - loss: 6.6975 - mae: 6.6975\n",
            "Epoch 58/100\n",
            "2/2 [==============================] - 0s 4ms/step - loss: 6.6925 - mae: 6.6925\n",
            "Epoch 59/100\n",
            "2/2 [==============================] - 0s 13ms/step - loss: 6.6613 - mae: 6.6613\n",
            "Epoch 60/100\n",
            "2/2 [==============================] - 0s 5ms/step - loss: 6.6441 - mae: 6.6441\n",
            "Epoch 61/100\n",
            "2/2 [==============================] - 0s 8ms/step - loss: 6.6371 - mae: 6.6371\n",
            "Epoch 62/100\n",
            "2/2 [==============================] - 0s 6ms/step - loss: 6.6241 - mae: 6.6241\n",
            "Epoch 63/100\n",
            "2/2 [==============================] - 0s 4ms/step - loss: 6.6023 - mae: 6.6023\n",
            "Epoch 64/100\n",
            "2/2 [==============================] - 0s 4ms/step - loss: 6.5848 - mae: 6.5848\n",
            "Epoch 65/100\n",
            "2/2 [==============================] - 0s 4ms/step - loss: 6.5634 - mae: 6.5634\n",
            "Epoch 66/100\n",
            "2/2 [==============================] - 0s 4ms/step - loss: 6.5471 - mae: 6.5471\n",
            "Epoch 67/100\n",
            "2/2 [==============================] - 0s 4ms/step - loss: 6.5346 - mae: 6.5346\n",
            "Epoch 68/100\n",
            "2/2 [==============================] - 0s 8ms/step - loss: 6.5180 - mae: 6.5180\n",
            "Epoch 69/100\n",
            "2/2 [==============================] - 0s 21ms/step - loss: 6.5010 - mae: 6.5010\n",
            "Epoch 70/100\n",
            "2/2 [==============================] - 0s 11ms/step - loss: 6.4867 - mae: 6.4867\n",
            "Epoch 71/100\n",
            "2/2 [==============================] - 0s 6ms/step - loss: 6.4850 - mae: 6.4850\n",
            "Epoch 72/100\n",
            "2/2 [==============================] - 0s 7ms/step - loss: 6.4643 - mae: 6.4643\n",
            "Epoch 73/100\n",
            "2/2 [==============================] - 0s 15ms/step - loss: 6.4446 - mae: 6.4446\n",
            "Epoch 74/100\n",
            "2/2 [==============================] - 0s 6ms/step - loss: 6.4297 - mae: 6.4297\n",
            "Epoch 75/100\n",
            "2/2 [==============================] - 0s 4ms/step - loss: 6.4144 - mae: 6.4144\n",
            "Epoch 76/100\n",
            "2/2 [==============================] - 0s 9ms/step - loss: 6.4046 - mae: 6.4046\n",
            "Epoch 77/100\n",
            "2/2 [==============================] - 0s 9ms/step - loss: 6.3938 - mae: 6.3938\n",
            "Epoch 78/100\n",
            "2/2 [==============================] - 0s 4ms/step - loss: 6.3825 - mae: 6.3825\n",
            "Epoch 79/100\n",
            "2/2 [==============================] - 0s 10ms/step - loss: 6.3689 - mae: 6.3689\n",
            "Epoch 80/100\n",
            "2/2 [==============================] - 0s 5ms/step - loss: 6.3562 - mae: 6.3562\n",
            "Epoch 81/100\n",
            "2/2 [==============================] - 0s 4ms/step - loss: 6.3419 - mae: 6.3419\n",
            "Epoch 82/100\n",
            "2/2 [==============================] - 0s 8ms/step - loss: 6.3257 - mae: 6.3257\n",
            "Epoch 83/100\n",
            "2/2 [==============================] - 0s 5ms/step - loss: 6.3092 - mae: 6.3092\n",
            "Epoch 84/100\n",
            "2/2 [==============================] - 0s 15ms/step - loss: 6.2914 - mae: 6.2914\n",
            "Epoch 85/100\n",
            "2/2 [==============================] - 0s 10ms/step - loss: 6.2779 - mae: 6.2779\n",
            "Epoch 86/100\n",
            "2/2 [==============================] - 0s 11ms/step - loss: 6.2625 - mae: 6.2625\n",
            "Epoch 87/100\n",
            "2/2 [==============================] - 0s 13ms/step - loss: 6.2480 - mae: 6.2480\n",
            "Epoch 88/100\n",
            "2/2 [==============================] - 0s 11ms/step - loss: 6.2359 - mae: 6.2359\n",
            "Epoch 89/100\n",
            "2/2 [==============================] - 0s 6ms/step - loss: 6.2172 - mae: 6.2172\n",
            "Epoch 90/100\n",
            "2/2 [==============================] - 0s 8ms/step - loss: 6.2019 - mae: 6.2019\n",
            "Epoch 91/100\n",
            "2/2 [==============================] - 0s 4ms/step - loss: 6.1880 - mae: 6.1880\n",
            "Epoch 92/100\n",
            "2/2 [==============================] - 0s 7ms/step - loss: 6.1720 - mae: 6.1720\n",
            "Epoch 93/100\n",
            "2/2 [==============================] - 0s 9ms/step - loss: 6.1551 - mae: 6.1551\n",
            "Epoch 94/100\n",
            "2/2 [==============================] - 0s 5ms/step - loss: 6.1459 - mae: 6.1459\n",
            "Epoch 95/100\n",
            "2/2 [==============================] - 0s 8ms/step - loss: 6.1315 - mae: 6.1315\n",
            "Epoch 96/100\n",
            "2/2 [==============================] - 0s 6ms/step - loss: 6.1129 - mae: 6.1129\n",
            "Epoch 97/100\n",
            "2/2 [==============================] - 0s 6ms/step - loss: 6.0977 - mae: 6.0977\n",
            "Epoch 98/100\n",
            "2/2 [==============================] - 0s 9ms/step - loss: 6.0819 - mae: 6.0819\n",
            "Epoch 99/100\n",
            "2/2 [==============================] - 0s 6ms/step - loss: 6.0682 - mae: 6.0682\n",
            "Epoch 100/100\n",
            "2/2 [==============================] - 0s 8ms/step - loss: 6.0511 - mae: 6.0511\n"
          ],
          "name": "stdout"
        },
        {
          "output_type": "execute_result",
          "data": {
            "text/plain": [
              "<tensorflow.python.keras.callbacks.History at 0x7ff60cd73110>"
            ]
          },
          "metadata": {
            "tags": []
          },
          "execution_count": 29
        }
      ]
    },
    {
      "cell_type": "code",
      "metadata": {
        "colab": {
          "base_uri": "https://localhost:8080/",
          "height": 174
        },
        "id": "JObaikHDxN1n",
        "outputId": "a6feedf8-942b-4d5f-a952-516034eaf33c"
      },
      "source": [
        "from tensorflow.keras.utils import plot_model\n",
        "\n",
        "plot_model(model)"
      ],
      "execution_count": null,
      "outputs": [
        {
          "output_type": "execute_result",
          "data": {
            "image/png": "[encoded data removed]",
            "text/plain": [
              "<IPython.core.display.Image object>"
            ]
          },
          "metadata": {
            "tags": []
          },
          "execution_count": 30
        }
      ]
    },
    {
      "cell_type": "code",
      "metadata": {
        "colab": {
          "base_uri": "https://localhost:8080/"
        },
        "id": "MxUs2KAG2ql-",
        "outputId": "18527c69-71d5-4436-eb30-68e824603cc3"
      },
      "source": [
        "# Create model\n",
        "model = tf.keras.Sequential([\n",
        "  tf.keras.layers.Dense(10, input_shape=[1], name='input_layer'),\n",
        "  tf.keras.layers.Dense(1, name='output_layer')\n",
        "], name= 'model')\n",
        "\n",
        "# Compile model\n",
        "model.compile(loss=tf.keras.losses.mae,\n",
        "              optimizer=tf.keras.optimizers.Adam(learning_rate=0.01),\n",
        "              metrics=['mae']\n",
        "              )\n",
        "\n",
        "# Model summary\n",
        "model.summary()"
      ],
      "execution_count": null,
      "outputs": [
        {
          "output_type": "stream",
          "text": [
            "Model: \"model\"\n",
            "_________________________________________________________________\n",
            "Layer (type)                 Output Shape              Param #   \n",
            "=================================================================\n",
            "input_layer (Dense)          (None, 10)                20        \n",
            "_________________________________________________________________\n",
            "output_layer (Dense)         (None, 1)                 11        \n",
            "=================================================================\n",
            "Total params: 31\n",
            "Trainable params: 31\n",
            "Non-trainable params: 0\n",
            "_________________________________________________________________\n"
          ],
          "name": "stdout"
        }
      ]
    },
    {
      "cell_type": "code",
      "metadata": {
        "colab": {
          "base_uri": "https://localhost:8080/",
          "height": 312
        },
        "id": "PNtEKm-w3eRN",
        "outputId": "71491efd-6af1-4ecd-855d-43e03bfb370b"
      },
      "source": [
        "plot_model(model, show_shapes=True)"
      ],
      "execution_count": null,
      "outputs": [
        {
          "output_type": "execute_result",
          "data": {
            "image/png": "[encoded data removed]",
            "text/plain": [
              "<IPython.core.display.Image object>"
            ]
          },
          "metadata": {
            "tags": []
          },
          "execution_count": 32
        }
      ]
    },
    {
      "cell_type": "code",
      "metadata": {
        "colab": {
          "base_uri": "https://localhost:8080/"
        },
        "id": "Tl07BXcbUewk",
        "outputId": "54092cea-ccfc-471b-8362-7753a5ce3b65"
      },
      "source": [
        "#Fit model\n",
        "model.fit(X_train, y_train, epochs=100)"
      ],
      "execution_count": null,
      "outputs": [
        {
          "output_type": "stream",
          "text": [
            "Epoch 1/100\n",
            "2/2 [==============================] - 0s 6ms/step - loss: 70.1702 - mae: 70.1702\n",
            "Epoch 2/100\n",
            "2/2 [==============================] - 0s 5ms/step - loss: 62.6820 - mae: 62.6820\n",
            "Epoch 3/100\n",
            "2/2 [==============================] - 0s 9ms/step - loss: 55.1851 - mae: 55.1851\n",
            "Epoch 4/100\n",
            "2/2 [==============================] - 0s 3ms/step - loss: 48.0609 - mae: 48.0609\n",
            "Epoch 5/100\n",
            "2/2 [==============================] - 0s 7ms/step - loss: 40.5278 - mae: 40.5278\n",
            "Epoch 6/100\n",
            "2/2 [==============================] - 0s 6ms/step - loss: 32.8415 - mae: 32.8415\n",
            "Epoch 7/100\n",
            "2/2 [==============================] - 0s 7ms/step - loss: 25.6230 - mae: 25.6230\n",
            "Epoch 8/100\n",
            "2/2 [==============================] - 0s 7ms/step - loss: 17.9181 - mae: 17.9181\n",
            "Epoch 9/100\n",
            "2/2 [==============================] - 0s 7ms/step - loss: 11.3188 - mae: 11.3188\n",
            "Epoch 10/100\n",
            "2/2 [==============================] - 0s 4ms/step - loss: 8.6897 - mae: 8.6897\n",
            "Epoch 11/100\n",
            "2/2 [==============================] - 0s 4ms/step - loss: 11.3854 - mae: 11.3854\n",
            "Epoch 12/100\n",
            "2/2 [==============================] - 0s 5ms/step - loss: 13.2768 - mae: 13.2768\n",
            "Epoch 13/100\n",
            "2/2 [==============================] - 0s 7ms/step - loss: 14.1545 - mae: 14.1545\n",
            "Epoch 14/100\n",
            "2/2 [==============================] - 0s 10ms/step - loss: 14.3616 - mae: 14.3616\n",
            "Epoch 15/100\n",
            "2/2 [==============================] - 0s 4ms/step - loss: 13.9771 - mae: 13.9771\n",
            "Epoch 16/100\n",
            "2/2 [==============================] - 0s 4ms/step - loss: 13.1329 - mae: 13.1329\n",
            "Epoch 17/100\n",
            "2/2 [==============================] - 0s 4ms/step - loss: 12.0724 - mae: 12.0724\n",
            "Epoch 18/100\n",
            "2/2 [==============================] - 0s 4ms/step - loss: 10.6163 - mae: 10.6163\n",
            "Epoch 19/100\n",
            "2/2 [==============================] - 0s 4ms/step - loss: 8.9748 - mae: 8.9748\n",
            "Epoch 20/100\n",
            "2/2 [==============================] - 0s 8ms/step - loss: 7.6670 - mae: 7.6670\n",
            "Epoch 21/100\n",
            "2/2 [==============================] - 0s 7ms/step - loss: 7.8927 - mae: 7.8927\n",
            "Epoch 22/100\n",
            "2/2 [==============================] - 0s 5ms/step - loss: 8.0219 - mae: 8.0219\n",
            "Epoch 23/100\n",
            "2/2 [==============================] - 0s 7ms/step - loss: 7.5045 - mae: 7.5045\n",
            "Epoch 24/100\n",
            "2/2 [==============================] - 0s 9ms/step - loss: 7.0599 - mae: 7.0599\n",
            "Epoch 25/100\n",
            "2/2 [==============================] - 0s 21ms/step - loss: 7.4394 - mae: 7.4394\n",
            "Epoch 26/100\n",
            "2/2 [==============================] - 0s 15ms/step - loss: 7.2720 - mae: 7.2720\n",
            "Epoch 27/100\n",
            "2/2 [==============================] - 0s 8ms/step - loss: 6.9209 - mae: 6.9209\n",
            "Epoch 28/100\n",
            "2/2 [==============================] - 0s 8ms/step - loss: 7.0192 - mae: 7.0192\n",
            "Epoch 29/100\n",
            "2/2 [==============================] - 0s 6ms/step - loss: 6.8914 - mae: 6.8914\n",
            "Epoch 30/100\n",
            "2/2 [==============================] - 0s 6ms/step - loss: 6.6595 - mae: 6.6595\n",
            "Epoch 31/100\n",
            "2/2 [==============================] - 0s 11ms/step - loss: 6.6905 - mae: 6.6905\n",
            "Epoch 32/100\n",
            "2/2 [==============================] - 0s 3ms/step - loss: 6.6051 - mae: 6.6051\n",
            "Epoch 33/100\n",
            "2/2 [==============================] - 0s 6ms/step - loss: 6.4299 - mae: 6.4299\n",
            "Epoch 34/100\n",
            "2/2 [==============================] - 0s 4ms/step - loss: 6.6461 - mae: 6.6461\n",
            "Epoch 35/100\n",
            "2/2 [==============================] - 0s 4ms/step - loss: 6.7545 - mae: 6.7545\n",
            "Epoch 36/100\n",
            "2/2 [==============================] - 0s 5ms/step - loss: 6.3658 - mae: 6.3658\n",
            "Epoch 37/100\n",
            "2/2 [==============================] - 0s 4ms/step - loss: 6.2800 - mae: 6.2800\n",
            "Epoch 38/100\n",
            "2/2 [==============================] - 0s 5ms/step - loss: 6.2286 - mae: 6.2286\n",
            "Epoch 39/100\n",
            "2/2 [==============================] - 0s 4ms/step - loss: 6.0134 - mae: 6.0134\n",
            "Epoch 40/100\n",
            "2/2 [==============================] - 0s 5ms/step - loss: 6.0430 - mae: 6.0430\n",
            "Epoch 41/100\n",
            "2/2 [==============================] - 0s 4ms/step - loss: 5.9146 - mae: 5.9146\n",
            "Epoch 42/100\n",
            "2/2 [==============================] - 0s 4ms/step - loss: 5.9213 - mae: 5.9213\n",
            "Epoch 43/100\n",
            "2/2 [==============================] - 0s 4ms/step - loss: 5.7566 - mae: 5.7566\n",
            "Epoch 44/100\n",
            "2/2 [==============================] - 0s 8ms/step - loss: 5.7901 - mae: 5.7901\n",
            "Epoch 45/100\n",
            "2/2 [==============================] - 0s 3ms/step - loss: 5.7696 - mae: 5.7696\n",
            "Epoch 46/100\n",
            "2/2 [==============================] - 0s 5ms/step - loss: 5.6026 - mae: 5.6026\n",
            "Epoch 47/100\n",
            "2/2 [==============================] - 0s 5ms/step - loss: 5.4796 - mae: 5.4796\n",
            "Epoch 48/100\n",
            "2/2 [==============================] - 0s 6ms/step - loss: 5.4886 - mae: 5.4886\n",
            "Epoch 49/100\n",
            "2/2 [==============================] - 0s 5ms/step - loss: 5.4468 - mae: 5.4468\n",
            "Epoch 50/100\n",
            "2/2 [==============================] - 0s 6ms/step - loss: 5.2240 - mae: 5.2240\n",
            "Epoch 51/100\n",
            "2/2 [==============================] - 0s 8ms/step - loss: 5.2079 - mae: 5.2079\n",
            "Epoch 52/100\n",
            "2/2 [==============================] - 0s 5ms/step - loss: 5.1153 - mae: 5.1153\n",
            "Epoch 53/100\n",
            "2/2 [==============================] - 0s 10ms/step - loss: 5.1713 - mae: 5.1713\n",
            "Epoch 54/100\n",
            "2/2 [==============================] - 0s 5ms/step - loss: 5.1327 - mae: 5.1327\n",
            "Epoch 55/100\n",
            "2/2 [==============================] - 0s 5ms/step - loss: 4.8677 - mae: 4.8677\n",
            "Epoch 56/100\n",
            "2/2 [==============================] - 0s 9ms/step - loss: 4.8787 - mae: 4.8787\n",
            "Epoch 57/100\n",
            "2/2 [==============================] - 0s 4ms/step - loss: 4.9435 - mae: 4.9435\n",
            "Epoch 58/100\n",
            "2/2 [==============================] - 0s 4ms/step - loss: 4.9072 - mae: 4.9072\n",
            "Epoch 59/100\n",
            "2/2 [==============================] - 0s 6ms/step - loss: 4.6451 - mae: 4.6451\n",
            "Epoch 60/100\n",
            "2/2 [==============================] - 0s 6ms/step - loss: 4.5108 - mae: 4.5108\n",
            "Epoch 61/100\n",
            "2/2 [==============================] - 0s 4ms/step - loss: 4.4159 - mae: 4.4159\n",
            "Epoch 62/100\n",
            "2/2 [==============================] - 0s 4ms/step - loss: 4.3348 - mae: 4.3348\n",
            "Epoch 63/100\n",
            "2/2 [==============================] - 0s 4ms/step - loss: 4.2870 - mae: 4.2870\n",
            "Epoch 64/100\n",
            "2/2 [==============================] - 0s 5ms/step - loss: 4.1598 - mae: 4.1598\n",
            "Epoch 65/100\n",
            "2/2 [==============================] - 0s 4ms/step - loss: 4.2314 - mae: 4.2314\n",
            "Epoch 66/100\n",
            "2/2 [==============================] - 0s 5ms/step - loss: 4.0360 - mae: 4.0360\n",
            "Epoch 67/100\n",
            "2/2 [==============================] - 0s 6ms/step - loss: 4.0349 - mae: 4.0349\n",
            "Epoch 68/100\n",
            "2/2 [==============================] - 0s 6ms/step - loss: 3.8684 - mae: 3.8684\n",
            "Epoch 69/100\n",
            "2/2 [==============================] - 0s 5ms/step - loss: 3.9365 - mae: 3.9365\n",
            "Epoch 70/100\n",
            "2/2 [==============================] - 0s 4ms/step - loss: 3.9588 - mae: 3.9588\n",
            "Epoch 71/100\n",
            "2/2 [==============================] - 0s 6ms/step - loss: 3.5916 - mae: 3.5916\n",
            "Epoch 72/100\n",
            "2/2 [==============================] - 0s 5ms/step - loss: 3.5755 - mae: 3.5755\n",
            "Epoch 73/100\n",
            "2/2 [==============================] - 0s 6ms/step - loss: 3.4387 - mae: 3.4387\n",
            "Epoch 74/100\n",
            "2/2 [==============================] - 0s 6ms/step - loss: 3.3484 - mae: 3.3484\n",
            "Epoch 75/100\n",
            "2/2 [==============================] - 0s 5ms/step - loss: 3.2381 - mae: 3.2381\n",
            "Epoch 76/100\n",
            "2/2 [==============================] - 0s 7ms/step - loss: 3.2449 - mae: 3.2449\n",
            "Epoch 77/100\n",
            "2/2 [==============================] - 0s 6ms/step - loss: 3.1759 - mae: 3.1759\n",
            "Epoch 78/100\n",
            "2/2 [==============================] - 0s 8ms/step - loss: 3.1014 - mae: 3.1014\n",
            "Epoch 79/100\n",
            "2/2 [==============================] - 0s 5ms/step - loss: 2.9313 - mae: 2.9313\n",
            "Epoch 80/100\n",
            "2/2 [==============================] - 0s 5ms/step - loss: 3.0739 - mae: 3.0739\n",
            "Epoch 81/100\n",
            "2/2 [==============================] - 0s 7ms/step - loss: 2.7818 - mae: 2.7818\n",
            "Epoch 82/100\n",
            "2/2 [==============================] - 0s 7ms/step - loss: 2.6229 - mae: 2.6229\n",
            "Epoch 83/100\n",
            "2/2 [==============================] - 0s 4ms/step - loss: 2.6020 - mae: 2.6020\n",
            "Epoch 84/100\n",
            "2/2 [==============================] - 0s 5ms/step - loss: 2.4447 - mae: 2.4447\n",
            "Epoch 85/100\n",
            "2/2 [==============================] - 0s 4ms/step - loss: 2.3579 - mae: 2.3579\n",
            "Epoch 86/100\n",
            "2/2 [==============================] - 0s 4ms/step - loss: 2.3000 - mae: 2.3000\n",
            "Epoch 87/100\n",
            "2/2 [==============================] - 0s 4ms/step - loss: 2.1395 - mae: 2.1395\n",
            "Epoch 88/100\n",
            "2/2 [==============================] - 0s 8ms/step - loss: 2.0297 - mae: 2.0297\n",
            "Epoch 89/100\n",
            "2/2 [==============================] - 0s 6ms/step - loss: 2.1875 - mae: 2.1875\n",
            "Epoch 90/100\n",
            "2/2 [==============================] - 0s 4ms/step - loss: 1.9484 - mae: 1.9484\n",
            "Epoch 91/100\n",
            "2/2 [==============================] - 0s 9ms/step - loss: 1.9181 - mae: 1.9181\n",
            "Epoch 92/100\n",
            "2/2 [==============================] - 0s 6ms/step - loss: 1.8935 - mae: 1.8935\n",
            "Epoch 93/100\n",
            "2/2 [==============================] - 0s 8ms/step - loss: 1.5480 - mae: 1.5480\n",
            "Epoch 94/100\n",
            "2/2 [==============================] - 0s 11ms/step - loss: 1.8003 - mae: 1.8003\n",
            "Epoch 95/100\n",
            "2/2 [==============================] - 0s 5ms/step - loss: 1.4376 - mae: 1.4376\n",
            "Epoch 96/100\n",
            "2/2 [==============================] - 0s 7ms/step - loss: 1.4117 - mae: 1.4117\n",
            "Epoch 97/100\n",
            "2/2 [==============================] - 0s 9ms/step - loss: 1.4009 - mae: 1.4009\n",
            "Epoch 98/100\n",
            "2/2 [==============================] - 0s 4ms/step - loss: 1.4283 - mae: 1.4283\n",
            "Epoch 99/100\n",
            "2/2 [==============================] - 0s 9ms/step - loss: 0.9397 - mae: 0.9397\n",
            "Epoch 100/100\n",
            "2/2 [==============================] - 0s 11ms/step - loss: 0.7503 - mae: 0.7503\n"
          ],
          "name": "stdout"
        },
        {
          "output_type": "execute_result",
          "data": {
            "text/plain": [
              "<tensorflow.python.keras.callbacks.History at 0x7ff6115dfa50>"
            ]
          },
          "metadata": {
            "tags": []
          },
          "execution_count": 33
        }
      ]
    },
    {
      "cell_type": "markdown",
      "metadata": {
        "id": "wWtnemGw3h69"
      },
      "source": [
        "### Visualizing model predictions\n",
        "\n",
        "To visualize predictions, it's a good idea to plot them against the ground truth labels.\n",
        "\n",
        "Often, it's `y_test` or `y_true` vs. `y_pred`"
      ]
    },
    {
      "cell_type": "code",
      "metadata": {
        "colab": {
          "base_uri": "https://localhost:8080/"
        },
        "id": "Z9biiweV4V-C",
        "outputId": "f7709164-bf16-43f7-ed78-5bd9aea8d046"
      },
      "source": [
        "# Make predictions\n",
        "y_pred = model.predict(X_test)\n",
        "y_pred"
      ],
      "execution_count": null,
      "outputs": [
        {
          "output_type": "execute_result",
          "data": {
            "text/plain": [
              "array([[ 69.8836  ],\n",
              "       [ 73.933136],\n",
              "       [ 77.982666],\n",
              "       [ 82.03221 ],\n",
              "       [ 86.081726],\n",
              "       [ 90.13126 ],\n",
              "       [ 94.18079 ],\n",
              "       [ 98.230316],\n",
              "       [102.27986 ],\n",
              "       [106.3294  ]], dtype=float32)"
            ]
          },
          "metadata": {
            "tags": []
          },
          "execution_count": 34
        }
      ]
    },
    {
      "cell_type": "code",
      "metadata": {
        "colab": {
          "base_uri": "https://localhost:8080/"
        },
        "id": "qDzPsyof4ht-",
        "outputId": "a3f541d2-189d-46a1-c817-2ca9d64af509"
      },
      "source": [
        "y_test"
      ],
      "execution_count": null,
      "outputs": [
        {
          "output_type": "execute_result",
          "data": {
            "text/plain": [
              "<tf.Tensor: shape=(10,), dtype=int32, numpy=array([ 70,  74,  78,  82,  86,  90,  94,  98, 102, 106], dtype=int32)>"
            ]
          },
          "metadata": {
            "tags": []
          },
          "execution_count": 35
        }
      ]
    },
    {
      "cell_type": "code",
      "metadata": {
        "id": "UMUyn0MT4nlk"
      },
      "source": [
        "# Create a plotting function\n",
        "def plot_predictions(train_data=X_train,\n",
        "                     train_labels=y_train,\n",
        "                     test_data=X_test,\n",
        "                     test_labels=y_test,\n",
        "                     predictions=y_pred):\n",
        "  \"\"\"\n",
        "  Plots  training data, test data and compares predictions to ground\n",
        "  truth labels\n",
        "  \"\"\"\n",
        "  plt.figure(figsize=(10,7))\n",
        "  # Plot training data in blue\n",
        "  plt.scatter(train_data,train_labels, c='b', label='Training data')\n",
        "  # Plot testing data in green\n",
        "  plt.scatter(test_data,test_labels, c='g', label='Testing data')\n",
        "  # Plot model's predictions in red\n",
        "  plt.scatter(test_data, predictions, c='r', label='Predictions')\n",
        "  # Show legend\n",
        "  plt.legend();"
      ],
      "execution_count": null,
      "outputs": []
    },
    {
      "cell_type": "code",
      "metadata": {
        "colab": {
          "base_uri": "https://localhost:8080/",
          "height": 428
        },
        "id": "6Oqs_-8x4rAD",
        "outputId": "3ed8b38f-8db3-4cf7-e0d0-49d583c6264a"
      },
      "source": [
        "plot_predictions()"
      ],
      "execution_count": null,
      "outputs": [
        {
          "output_type": "display_data",
          "data": {
            "image/png": "[encoded data removed]",
            "text/plain": [
              "<Figure size 720x504 with 1 Axes>"
            ]
          },
          "metadata": {
            "tags": [],
            "needs_background": "light"
          }
        }
      ]
    },
    {
      "cell_type": "markdown",
      "metadata": {
        "id": "wEwkmGq88tjm"
      },
      "source": [
        "### Evaluating model predictions using regression evaluation metrics\n",
        "\n",
        "Depending on the problem being worked on, there will be different evaluation metrics to evaluate performance.\n",
        "\n",
        "Since we are working on regression, two of the main metrics are:\n",
        "* **MAE** - mean absolute error\n",
        "* **MSE** - mean squared error\n",
        "\n"
      ]
    },
    {
      "cell_type": "code",
      "metadata": {
        "colab": {
          "base_uri": "https://localhost:8080/"
        },
        "id": "6EV4bfJO9SOY",
        "outputId": "3e36bd9f-e339-437a-e07e-d56566597b0d"
      },
      "source": [
        "# Evaluate model on test set\n",
        "model.evaluate(X_test, y_test)"
      ],
      "execution_count": null,
      "outputs": [
        {
          "output_type": "stream",
          "text": [
            "1/1 [==============================] - 0s 156ms/step - loss: 0.1466 - mae: 0.1466\n"
          ],
          "name": "stdout"
        },
        {
          "output_type": "execute_result",
          "data": {
            "text/plain": [
              "[0.1466163694858551, 0.1466163694858551]"
            ]
          },
          "metadata": {
            "tags": []
          },
          "execution_count": 38
        }
      ]
    },
    {
      "cell_type": "code",
      "metadata": {
        "colab": {
          "base_uri": "https://localhost:8080/"
        },
        "id": "8yYpy3sZFYFn",
        "outputId": "60738f45-b89b-4fac-bfa4-56417ec6f871"
      },
      "source": [
        "# Calculate mean absolute error\n",
        "mae = tf.metrics.mean_absolute_error(y_test, y_pred)\n",
        "mae"
      ],
      "execution_count": null,
      "outputs": [
        {
          "output_type": "execute_result",
          "data": {
            "text/plain": [
              "<tf.Tensor: shape=(10,), dtype=float32, numpy=\n",
              "array([18.116402, 14.853491, 12.4104  , 10.793558, 10.      , 10.026253,\n",
              "       10.872317, 12.53819 , 15.02389 , 18.3294  ], dtype=float32)>"
            ]
          },
          "metadata": {
            "tags": []
          },
          "execution_count": 39
        }
      ]
    },
    {
      "cell_type": "markdown",
      "metadata": {
        "id": "1dYPr8miHQs8"
      },
      "source": [
        "Need tensors in same shape"
      ]
    },
    {
      "cell_type": "code",
      "metadata": {
        "colab": {
          "base_uri": "https://localhost:8080/"
        },
        "id": "w0mG8atmGEP6",
        "outputId": "143e0593-9047-4b41-d412-589beed03524"
      },
      "source": [
        "# Calculate mean absolute error\n",
        "mae = tf.metrics.mean_absolute_error(y_test,\n",
        "                                     tf.squeeze(y_pred))\n",
        "mae"
      ],
      "execution_count": null,
      "outputs": [
        {
          "output_type": "execute_result",
          "data": {
            "text/plain": [
              "<tf.Tensor: shape=(), dtype=float32, numpy=0.14661713>"
            ]
          },
          "metadata": {
            "tags": []
          },
          "execution_count": 40
        }
      ]
    },
    {
      "cell_type": "code",
      "metadata": {
        "colab": {
          "base_uri": "https://localhost:8080/"
        },
        "id": "Uoh0-w3IHSll",
        "outputId": "80cb9dd3-2a5a-4dfb-f93c-a3b0ffb0f5fe"
      },
      "source": [
        "# Calculate mean squared error\n",
        "mse = tf.metrics.mean_squared_error(y_test,\n",
        "                                    tf.squeeze(y_pred))\n",
        "mse"
      ],
      "execution_count": null,
      "outputs": [
        {
          "output_type": "execute_result",
          "data": {
            "text/plain": [
              "<tf.Tensor: shape=(), dtype=float32, numpy=0.03158256>"
            ]
          },
          "metadata": {
            "tags": []
          },
          "execution_count": 41
        }
      ]
    },
    {
      "cell_type": "code",
      "metadata": {
        "id": "nGG9x4S6IW49"
      },
      "source": [
        "# Make functions to reuse MAE and MSE\n",
        "def mae(y_true, y_pred):\n",
        "  return tf.metrics.mean_absolute_error(y_test,\n",
        "                                     tf.squeeze(y_pred))\n",
        "  \n",
        "def mse(y_true, y_pred):\n",
        "  return tf.metrics.mean_squared_error(y_test,\n",
        "                                    tf.squeeze(y_pred))"
      ],
      "execution_count": null,
      "outputs": []
    },
    {
      "cell_type": "markdown",
      "metadata": {
        "id": "9RNg5ioaLPhP"
      },
      "source": [
        "### Running experiments to improve model\n",
        "\n",
        "```\n",
        "Build model => fit it => evaluate it => repeat\n",
        "```\n",
        "1. Get more data\n",
        "2. Make model larger (using more complex model)\n",
        "3. Train for longer\n",
        "\n",
        "We will do three modelling experiments:\n",
        "\n",
        "1. `model_1` - same as original, 1 layer, 100 epochs\n",
        "\n",
        "2. `model_2` - 2 layers, 100 epochs\n",
        "\n",
        "3. `model_3` - 2 layers, 500 epochs\n",
        "\n",
        "**Build `model_1`"
      ]
    },
    {
      "cell_type": "code",
      "metadata": {
        "colab": {
          "base_uri": "https://localhost:8080/"
        },
        "id": "ih9-AQjwWYY9",
        "outputId": "6913c1b2-7872-43fb-b8e2-5d8839eeee33"
      },
      "source": [
        "# Set random seed\n",
        "tf.random.set_seed(18)\n",
        "\n",
        "# 1. Create model\n",
        "model_1=tf.keras.Sequential([\n",
        "  tf.keras.layers.Dense(1)\n",
        "])\n",
        "\n",
        "# 2. Compile model\n",
        "model_1.compile(loss=tf.keras.losses.mae,\n",
        "                optimizer=tf.keras.optimizers.SGD(),\n",
        "                metrics=['mae'])\n",
        "# 3. Fit model\n",
        "model_1.fit(X_train, y_train, epochs=100)"
      ],
      "execution_count": null,
      "outputs": [
        {
          "output_type": "stream",
          "text": [
            "Epoch 1/100\n",
            "2/2 [==============================] - 0s 9ms/step - loss: 31.8299 - mae: 31.8299\n",
            "Epoch 2/100\n",
            "2/2 [==============================] - 0s 9ms/step - loss: 10.0928 - mae: 10.0928\n",
            "Epoch 3/100\n",
            "2/2 [==============================] - 0s 4ms/step - loss: 9.4711 - mae: 9.4711\n",
            "Epoch 4/100\n",
            "2/2 [==============================] - 0s 7ms/step - loss: 14.4631 - mae: 14.4631\n",
            "Epoch 5/100\n",
            "2/2 [==============================] - 0s 15ms/step - loss: 7.4284 - mae: 7.4284\n",
            "Epoch 6/100\n",
            "2/2 [==============================] - 0s 9ms/step - loss: 12.6301 - mae: 12.6301\n",
            "Epoch 7/100\n",
            "2/2 [==============================] - 0s 6ms/step - loss: 9.2759 - mae: 9.2759\n",
            "Epoch 8/100\n",
            "2/2 [==============================] - 0s 3ms/step - loss: 9.1240 - mae: 9.1240\n",
            "Epoch 9/100\n",
            "2/2 [==============================] - 0s 6ms/step - loss: 13.3454 - mae: 13.3454\n",
            "Epoch 10/100\n",
            "2/2 [==============================] - 0s 6ms/step - loss: 14.1361 - mae: 14.1361\n",
            "Epoch 11/100\n",
            "2/2 [==============================] - 0s 3ms/step - loss: 9.1585 - mae: 9.1585\n",
            "Epoch 12/100\n",
            "2/2 [==============================] - 0s 6ms/step - loss: 9.5629 - mae: 9.5629\n",
            "Epoch 13/100\n",
            "2/2 [==============================] - 0s 5ms/step - loss: 11.8153 - mae: 11.8153\n",
            "Epoch 14/100\n",
            "2/2 [==============================] - 0s 9ms/step - loss: 10.1589 - mae: 10.1589\n",
            "Epoch 15/100\n",
            "2/2 [==============================] - 0s 6ms/step - loss: 11.5448 - mae: 11.5448\n",
            "Epoch 16/100\n",
            "2/2 [==============================] - 0s 4ms/step - loss: 15.7945 - mae: 15.7945\n",
            "Epoch 17/100\n",
            "2/2 [==============================] - 0s 8ms/step - loss: 8.7425 - mae: 8.7425\n",
            "Epoch 18/100\n",
            "2/2 [==============================] - 0s 7ms/step - loss: 10.9596 - mae: 10.9596\n",
            "Epoch 19/100\n",
            "2/2 [==============================] - 0s 11ms/step - loss: 13.0104 - mae: 13.0104\n",
            "Epoch 20/100\n",
            "2/2 [==============================] - 0s 9ms/step - loss: 11.0142 - mae: 11.0142\n",
            "Epoch 21/100\n",
            "2/2 [==============================] - 0s 7ms/step - loss: 17.1146 - mae: 17.1146\n",
            "Epoch 22/100\n",
            "2/2 [==============================] - 0s 12ms/step - loss: 12.8213 - mae: 12.8213\n",
            "Epoch 23/100\n",
            "2/2 [==============================] - 0s 11ms/step - loss: 11.4144 - mae: 11.4144\n",
            "Epoch 24/100\n",
            "2/2 [==============================] - 0s 14ms/step - loss: 8.1189 - mae: 8.1189\n",
            "Epoch 25/100\n",
            "2/2 [==============================] - 0s 6ms/step - loss: 10.6843 - mae: 10.6843\n",
            "Epoch 26/100\n",
            "2/2 [==============================] - 0s 5ms/step - loss: 10.9630 - mae: 10.9630\n",
            "Epoch 27/100\n",
            "2/2 [==============================] - 0s 5ms/step - loss: 9.0519 - mae: 9.0519\n",
            "Epoch 28/100\n",
            "2/2 [==============================] - 0s 5ms/step - loss: 9.3801 - mae: 9.3801\n",
            "Epoch 29/100\n",
            "2/2 [==============================] - 0s 5ms/step - loss: 26.3205 - mae: 26.3205\n",
            "Epoch 30/100\n",
            "2/2 [==============================] - 0s 4ms/step - loss: 10.8363 - mae: 10.8363\n",
            "Epoch 31/100\n",
            "2/2 [==============================] - 0s 6ms/step - loss: 7.3431 - mae: 7.3431\n",
            "Epoch 32/100\n",
            "2/2 [==============================] - 0s 12ms/step - loss: 8.1040 - mae: 8.1040\n",
            "Epoch 33/100\n",
            "2/2 [==============================] - 0s 7ms/step - loss: 12.6244 - mae: 12.6244\n",
            "Epoch 34/100\n",
            "2/2 [==============================] - 0s 7ms/step - loss: 7.4284 - mae: 7.4284\n",
            "Epoch 35/100\n",
            "2/2 [==============================] - 0s 5ms/step - loss: 9.2839 - mae: 9.2839\n",
            "Epoch 36/100\n",
            "2/2 [==============================] - 0s 4ms/step - loss: 8.9064 - mae: 8.9064\n",
            "Epoch 37/100\n",
            "2/2 [==============================] - 0s 4ms/step - loss: 9.5812 - mae: 9.5812\n",
            "Epoch 38/100\n",
            "2/2 [==============================] - 0s 9ms/step - loss: 11.3817 - mae: 11.3817\n",
            "Epoch 39/100\n",
            "2/2 [==============================] - 0s 8ms/step - loss: 9.6246 - mae: 9.6246\n",
            "Epoch 40/100\n",
            "2/2 [==============================] - 0s 5ms/step - loss: 8.5739 - mae: 8.5739\n",
            "Epoch 41/100\n",
            "2/2 [==============================] - 0s 7ms/step - loss: 8.8622 - mae: 8.8622\n",
            "Epoch 42/100\n",
            "2/2 [==============================] - 0s 11ms/step - loss: 11.5096 - mae: 11.5096\n",
            "Epoch 43/100\n",
            "2/2 [==============================] - 0s 14ms/step - loss: 16.7504 - mae: 16.7504\n",
            "Epoch 44/100\n",
            "2/2 [==============================] - 0s 4ms/step - loss: 9.2338 - mae: 9.2338\n",
            "Epoch 45/100\n",
            "2/2 [==============================] - 0s 14ms/step - loss: 7.1256 - mae: 7.1256\n",
            "Epoch 46/100\n",
            "2/2 [==============================] - 0s 13ms/step - loss: 9.6428 - mae: 9.6428\n",
            "Epoch 47/100\n",
            "2/2 [==============================] - 0s 6ms/step - loss: 12.1935 - mae: 12.1935\n",
            "Epoch 48/100\n",
            "2/2 [==============================] - 0s 4ms/step - loss: 9.6867 - mae: 9.6867\n",
            "Epoch 49/100\n",
            "2/2 [==============================] - 0s 9ms/step - loss: 11.9609 - mae: 11.9609\n",
            "Epoch 50/100\n",
            "2/2 [==============================] - 0s 5ms/step - loss: 8.8865 - mae: 8.8865\n",
            "Epoch 51/100\n",
            "2/2 [==============================] - 0s 3ms/step - loss: 10.3728 - mae: 10.3728\n",
            "Epoch 52/100\n",
            "2/2 [==============================] - 0s 4ms/step - loss: 9.1971 - mae: 9.1971\n",
            "Epoch 53/100\n",
            "2/2 [==============================] - 0s 3ms/step - loss: 17.3753 - mae: 17.3753\n",
            "Epoch 54/100\n",
            "2/2 [==============================] - 0s 4ms/step - loss: 15.6972 - mae: 15.6972\n",
            "Epoch 55/100\n",
            "2/2 [==============================] - 0s 4ms/step - loss: 8.1234 - mae: 8.1234\n",
            "Epoch 56/100\n",
            "2/2 [==============================] - 0s 4ms/step - loss: 14.1077 - mae: 14.1077\n",
            "Epoch 57/100\n",
            "2/2 [==============================] - 0s 3ms/step - loss: 16.9981 - mae: 16.9981\n",
            "Epoch 58/100\n",
            "2/2 [==============================] - 0s 4ms/step - loss: 18.5367 - mae: 18.5367\n",
            "Epoch 59/100\n",
            "2/2 [==============================] - 0s 4ms/step - loss: 12.2299 - mae: 12.2299\n",
            "Epoch 60/100\n",
            "2/2 [==============================] - 0s 4ms/step - loss: 8.9481 - mae: 8.9481\n",
            "Epoch 61/100\n",
            "2/2 [==============================] - 0s 7ms/step - loss: 9.7485 - mae: 9.7485\n",
            "Epoch 62/100\n",
            "2/2 [==============================] - 0s 3ms/step - loss: 17.1982 - mae: 17.1982\n",
            "Epoch 63/100\n",
            "2/2 [==============================] - 0s 4ms/step - loss: 15.5374 - mae: 15.5374\n",
            "Epoch 64/100\n",
            "2/2 [==============================] - 0s 3ms/step - loss: 8.6973 - mae: 8.6973\n",
            "Epoch 65/100\n",
            "2/2 [==============================] - 0s 3ms/step - loss: 12.0312 - mae: 12.0312\n",
            "Epoch 66/100\n",
            "2/2 [==============================] - 0s 5ms/step - loss: 10.6105 - mae: 10.6105\n",
            "Epoch 67/100\n",
            "2/2 [==============================] - 0s 4ms/step - loss: 7.8730 - mae: 7.8730\n",
            "Epoch 68/100\n",
            "2/2 [==============================] - 0s 4ms/step - loss: 14.1765 - mae: 14.1765\n",
            "Epoch 69/100\n",
            "2/2 [==============================] - 0s 4ms/step - loss: 18.1361 - mae: 18.1361\n",
            "Epoch 70/100\n",
            "2/2 [==============================] - 0s 5ms/step - loss: 7.3690 - mae: 7.3690\n",
            "Epoch 71/100\n",
            "2/2 [==============================] - 0s 10ms/step - loss: 9.1835 - mae: 9.1835\n",
            "Epoch 72/100\n",
            "2/2 [==============================] - 0s 8ms/step - loss: 18.2624 - mae: 18.2624\n",
            "Epoch 73/100\n",
            "2/2 [==============================] - 0s 4ms/step - loss: 6.9081 - mae: 6.9081\n",
            "Epoch 74/100\n",
            "2/2 [==============================] - 0s 3ms/step - loss: 11.1916 - mae: 11.1916\n",
            "Epoch 75/100\n",
            "2/2 [==============================] - 0s 3ms/step - loss: 14.8369 - mae: 14.8369\n",
            "Epoch 76/100\n",
            "2/2 [==============================] - 0s 7ms/step - loss: 8.0132 - mae: 8.0132\n",
            "Epoch 77/100\n",
            "2/2 [==============================] - 0s 5ms/step - loss: 9.9655 - mae: 9.9655\n",
            "Epoch 78/100\n",
            "2/2 [==============================] - 0s 4ms/step - loss: 9.9555 - mae: 9.9555\n",
            "Epoch 79/100\n",
            "2/2 [==============================] - 0s 5ms/step - loss: 16.6844 - mae: 16.6844\n",
            "Epoch 80/100\n",
            "2/2 [==============================] - 0s 5ms/step - loss: 9.0073 - mae: 9.0073\n",
            "Epoch 81/100\n",
            "2/2 [==============================] - 0s 5ms/step - loss: 8.9709 - mae: 8.9709\n",
            "Epoch 82/100\n",
            "2/2 [==============================] - 0s 4ms/step - loss: 7.8286 - mae: 7.8286\n",
            "Epoch 83/100\n",
            "2/2 [==============================] - 0s 9ms/step - loss: 10.1384 - mae: 10.1384\n",
            "Epoch 84/100\n",
            "2/2 [==============================] - 0s 22ms/step - loss: 14.6730 - mae: 14.6730\n",
            "Epoch 85/100\n",
            "2/2 [==============================] - 0s 7ms/step - loss: 9.9474 - mae: 9.9474\n",
            "Epoch 86/100\n",
            "2/2 [==============================] - 0s 4ms/step - loss: 7.4104 - mae: 7.4104\n",
            "Epoch 87/100\n",
            "2/2 [==============================] - 0s 4ms/step - loss: 9.8308 - mae: 9.8308\n",
            "Epoch 88/100\n",
            "2/2 [==============================] - 0s 5ms/step - loss: 9.6679 - mae: 9.6679\n",
            "Epoch 89/100\n",
            "2/2 [==============================] - 0s 9ms/step - loss: 8.5608 - mae: 8.5608\n",
            "Epoch 90/100\n",
            "2/2 [==============================] - 0s 4ms/step - loss: 11.8956 - mae: 11.8956\n",
            "Epoch 91/100\n",
            "2/2 [==============================] - 0s 9ms/step - loss: 18.0522 - mae: 18.0522\n",
            "Epoch 92/100\n",
            "2/2 [==============================] - 0s 4ms/step - loss: 9.2846 - mae: 9.2846\n",
            "Epoch 93/100\n",
            "2/2 [==============================] - 0s 6ms/step - loss: 8.5165 - mae: 8.5165\n",
            "Epoch 94/100\n",
            "2/2 [==============================] - 0s 5ms/step - loss: 8.2889 - mae: 8.2889\n",
            "Epoch 95/100\n",
            "2/2 [==============================] - 0s 5ms/step - loss: 9.8614 - mae: 9.8614\n",
            "Epoch 96/100\n",
            "2/2 [==============================] - 0s 8ms/step - loss: 14.8116 - mae: 14.8116\n",
            "Epoch 97/100\n",
            "2/2 [==============================] - 0s 9ms/step - loss: 10.1241 - mae: 10.1241\n",
            "Epoch 98/100\n",
            "2/2 [==============================] - 0s 4ms/step - loss: 10.3152 - mae: 10.3152\n",
            "Epoch 99/100\n",
            "2/2 [==============================] - 0s 5ms/step - loss: 8.2779 - mae: 8.2779\n",
            "Epoch 100/100\n",
            "2/2 [==============================] - 0s 5ms/step - loss: 13.3491 - mae: 13.3491\n"
          ],
          "name": "stdout"
        },
        {
          "output_type": "execute_result",
          "data": {
            "text/plain": [
              "<tensorflow.python.keras.callbacks.History at 0x7ff610bd5b50>"
            ]
          },
          "metadata": {
            "tags": []
          },
          "execution_count": 43
        }
      ]
    },
    {
      "cell_type": "code",
      "metadata": {
        "id": "gCkXr0DfU9HJ"
      },
      "source": [
        ""
      ],
      "execution_count": null,
      "outputs": []
    },
    {
      "cell_type": "code",
      "metadata": {
        "colab": {
          "base_uri": "https://localhost:8080/",
          "height": 467
        },
        "id": "zO3yfEAtVGa8",
        "outputId": "ab37f319-292b-420f-ce32-fbc218148d76"
      },
      "source": [
        "# Make and plot predictions for model_1\n",
        "y_preds_1 = model_1.predict(X_test)\n",
        "plot_predictions(predictions=y_preds_1)"
      ],
      "execution_count": null,
      "outputs": [
        {
          "output_type": "stream",
          "text": [
            "WARNING:tensorflow:5 out of the last 5 calls to <function Model.make_predict_function.<locals>.predict_function at 0x7ff61159b7a0> triggered tf.function retracing. Tracing is expensive and the excessive number of tracings could be due to (1) creating @tf.function repeatedly in a loop, (2) passing tensors with different shapes, (3) passing Python objects instead of tensors. For (1), please define your @tf.function outside of the loop. For (2), @tf.function has experimental_relax_shapes=True option that relaxes argument shapes that can avoid unnecessary retracing. For (3), please refer to https://www.tensorflow.org/guide/function#controlling_retracing and https://www.tensorflow.org/api_docs/python/tf/function for  more details.\n"
          ],
          "name": "stdout"
        },
        {
          "output_type": "display_data",
          "data": {
            "image/png": "[encoded data removed]",
            "text/plain": [
              "<Figure size 720x504 with 1 Axes>"
            ]
          },
          "metadata": {
            "tags": [],
            "needs_background": "light"
          }
        }
      ]
    },
    {
      "cell_type": "code",
      "metadata": {
        "colab": {
          "base_uri": "https://localhost:8080/"
        },
        "id": "tltu-yukZZAW",
        "outputId": "bb2580e1-6dbb-4993-ddaa-ddc7dbd166c1"
      },
      "source": [
        "# Calculate model_1 evaluation metrics\n",
        "mae_1 = mae(y_test, y_preds_1)\n",
        "mse_1 = mse(y_test, y_preds_1)\n",
        "mae_1, mse_1"
      ],
      "execution_count": null,
      "outputs": [
        {
          "output_type": "execute_result",
          "data": {
            "text/plain": [
              "(<tf.Tensor: shape=(), dtype=float32, numpy=1.1702499>,\n",
              " <tf.Tensor: shape=(), dtype=float32, numpy=1.8552223>)"
            ]
          },
          "metadata": {
            "tags": []
          },
          "execution_count": 45
        }
      ]
    },
    {
      "cell_type": "markdown",
      "metadata": {
        "id": "07tsd4W2Z0ST"
      },
      "source": [
        "**Build `model_2`\n",
        "* Two dense layers, trained for 100 epochs"
      ]
    },
    {
      "cell_type": "code",
      "metadata": {
        "colab": {
          "base_uri": "https://localhost:8080/"
        },
        "id": "7eUOTQUcadcp",
        "outputId": "040c3a0f-d515-4cac-9525-503ea30fc383"
      },
      "source": [
        "# Set random seed\n",
        "tf.random.set_seed(18)\n",
        "\n",
        "# Create model\n",
        "model_2 = tf.keras.Sequential([\n",
        "  tf.keras.layers.Dense(50),\n",
        "  tf.keras.layers.Dense(1)                             \n",
        "])\n",
        "\n",
        "# Compile model\n",
        "model_2.compile(loss=tf.keras.losses.mae,\n",
        "                optimizer=tf.keras.optimizers.SGD(),\n",
        "                metrics=['mae'])\n",
        "\n",
        "# Fit model\n",
        "model_2.fit(X_train, y_train, epochs=100)"
      ],
      "execution_count": null,
      "outputs": [
        {
          "output_type": "stream",
          "text": [
            "Epoch 1/100\n",
            "2/2 [==============================] - 0s 8ms/step - loss: 45.8975 - mae: 45.8975\n",
            "Epoch 2/100\n",
            "2/2 [==============================] - 0s 6ms/step - loss: 24.8763 - mae: 24.8763\n",
            "Epoch 3/100\n",
            "2/2 [==============================] - 0s 6ms/step - loss: 24.9164 - mae: 24.9164\n",
            "Epoch 4/100\n",
            "2/2 [==============================] - 0s 4ms/step - loss: 30.9600 - mae: 30.9600\n",
            "Epoch 5/100\n",
            "2/2 [==============================] - 0s 13ms/step - loss: 11.8965 - mae: 11.8965\n",
            "Epoch 6/100\n",
            "2/2 [==============================] - 0s 8ms/step - loss: 14.7606 - mae: 14.7606\n",
            "Epoch 7/100\n",
            "2/2 [==============================] - 0s 9ms/step - loss: 18.9845 - mae: 18.9845\n",
            "Epoch 8/100\n",
            "2/2 [==============================] - 0s 4ms/step - loss: 10.1619 - mae: 10.1619\n",
            "Epoch 9/100\n",
            "2/2 [==============================] - 0s 8ms/step - loss: 24.7046 - mae: 24.7046\n",
            "Epoch 10/100\n",
            "2/2 [==============================] - 0s 8ms/step - loss: 12.6158 - mae: 12.6158\n",
            "Epoch 11/100\n",
            "2/2 [==============================] - 0s 7ms/step - loss: 15.9713 - mae: 15.9713\n",
            "Epoch 12/100\n",
            "2/2 [==============================] - 0s 9ms/step - loss: 19.1385 - mae: 19.1385\n",
            "Epoch 13/100\n",
            "2/2 [==============================] - 0s 6ms/step - loss: 12.1833 - mae: 12.1833\n",
            "Epoch 14/100\n",
            "2/2 [==============================] - 0s 6ms/step - loss: 12.3488 - mae: 12.3488\n",
            "Epoch 15/100\n",
            "2/2 [==============================] - 0s 11ms/step - loss: 15.8180 - mae: 15.8180\n",
            "Epoch 16/100\n",
            "2/2 [==============================] - 0s 12ms/step - loss: 22.3541 - mae: 22.3541\n",
            "Epoch 17/100\n",
            "2/2 [==============================] - 0s 13ms/step - loss: 7.4664 - mae: 7.4664\n",
            "Epoch 18/100\n",
            "2/2 [==============================] - 0s 4ms/step - loss: 11.5081 - mae: 11.5081\n",
            "Epoch 19/100\n",
            "2/2 [==============================] - 0s 4ms/step - loss: 11.9073 - mae: 11.9073\n",
            "Epoch 20/100\n",
            "2/2 [==============================] - 0s 5ms/step - loss: 17.6512 - mae: 17.6512\n",
            "Epoch 21/100\n",
            "2/2 [==============================] - 0s 6ms/step - loss: 21.7878 - mae: 21.7878\n",
            "Epoch 22/100\n",
            "2/2 [==============================] - 0s 4ms/step - loss: 15.3520 - mae: 15.3520\n",
            "Epoch 23/100\n",
            "2/2 [==============================] - 0s 8ms/step - loss: 11.6578 - mae: 11.6578\n",
            "Epoch 24/100\n",
            "2/2 [==============================] - 0s 5ms/step - loss: 20.2019 - mae: 20.2019\n",
            "Epoch 25/100\n",
            "2/2 [==============================] - 0s 4ms/step - loss: 11.1233 - mae: 11.1233\n",
            "Epoch 26/100\n",
            "2/2 [==============================] - 0s 5ms/step - loss: 10.0954 - mae: 10.0954\n",
            "Epoch 27/100\n",
            "2/2 [==============================] - 0s 5ms/step - loss: 9.6289 - mae: 9.6289\n",
            "Epoch 28/100\n",
            "2/2 [==============================] - 0s 4ms/step - loss: 8.9402 - mae: 8.9402\n",
            "Epoch 29/100\n",
            "2/2 [==============================] - 0s 6ms/step - loss: 26.6219 - mae: 26.6219\n",
            "Epoch 30/100\n",
            "2/2 [==============================] - 0s 10ms/step - loss: 13.6547 - mae: 13.6547\n",
            "Epoch 31/100\n",
            "2/2 [==============================] - 0s 4ms/step - loss: 13.1480 - mae: 13.1480\n",
            "Epoch 32/100\n",
            "2/2 [==============================] - 0s 4ms/step - loss: 9.7132 - mae: 9.7132\n",
            "Epoch 33/100\n",
            "2/2 [==============================] - 0s 5ms/step - loss: 22.2873 - mae: 22.2873\n",
            "Epoch 34/100\n",
            "2/2 [==============================] - 0s 5ms/step - loss: 23.3974 - mae: 23.3974\n",
            "Epoch 35/100\n",
            "2/2 [==============================] - 0s 5ms/step - loss: 11.4511 - mae: 11.4511\n",
            "Epoch 36/100\n",
            "2/2 [==============================] - 0s 4ms/step - loss: 12.9233 - mae: 12.9233\n",
            "Epoch 37/100\n",
            "2/2 [==============================] - 0s 5ms/step - loss: 17.2250 - mae: 17.2250\n",
            "Epoch 38/100\n",
            "2/2 [==============================] - 0s 5ms/step - loss: 10.0117 - mae: 10.0117\n",
            "Epoch 39/100\n",
            "2/2 [==============================] - 0s 6ms/step - loss: 13.5801 - mae: 13.5801\n",
            "Epoch 40/100\n",
            "2/2 [==============================] - 0s 5ms/step - loss: 18.8332 - mae: 18.8332\n",
            "Epoch 41/100\n",
            "2/2 [==============================] - 0s 7ms/step - loss: 10.1746 - mae: 10.1746\n",
            "Epoch 42/100\n",
            "2/2 [==============================] - 0s 6ms/step - loss: 21.3912 - mae: 21.3912\n",
            "Epoch 43/100\n",
            "2/2 [==============================] - 0s 6ms/step - loss: 32.9135 - mae: 32.9135\n",
            "Epoch 44/100\n",
            "2/2 [==============================] - 0s 4ms/step - loss: 15.4104 - mae: 15.4104\n",
            "Epoch 45/100\n",
            "2/2 [==============================] - 0s 5ms/step - loss: 10.1353 - mae: 10.1353\n",
            "Epoch 46/100\n",
            "2/2 [==============================] - 0s 7ms/step - loss: 14.9830 - mae: 14.9830\n",
            "Epoch 47/100\n",
            "2/2 [==============================] - 0s 14ms/step - loss: 18.2960 - mae: 18.2960\n",
            "Epoch 48/100\n",
            "2/2 [==============================] - 0s 5ms/step - loss: 16.6552 - mae: 16.6552\n",
            "Epoch 49/100\n",
            "2/2 [==============================] - 0s 4ms/step - loss: 22.9331 - mae: 22.9331\n",
            "Epoch 50/100\n",
            "2/2 [==============================] - 0s 6ms/step - loss: 11.9017 - mae: 11.9017\n",
            "Epoch 51/100\n",
            "2/2 [==============================] - 0s 4ms/step - loss: 13.9901 - mae: 13.9901\n",
            "Epoch 52/100\n",
            "2/2 [==============================] - 0s 27ms/step - loss: 10.3209 - mae: 10.3209\n",
            "Epoch 53/100\n",
            "2/2 [==============================] - 0s 7ms/step - loss: 32.7506 - mae: 32.7506\n",
            "Epoch 54/100\n",
            "2/2 [==============================] - 0s 4ms/step - loss: 29.3647 - mae: 29.3647\n",
            "Epoch 55/100\n",
            "2/2 [==============================] - 0s 4ms/step - loss: 9.3447 - mae: 9.3447\n",
            "Epoch 56/100\n",
            "2/2 [==============================] - 0s 10ms/step - loss: 24.0018 - mae: 24.0018\n",
            "Epoch 57/100\n",
            "2/2 [==============================] - 0s 8ms/step - loss: 26.1982 - mae: 26.1982\n",
            "Epoch 58/100\n",
            "2/2 [==============================] - 0s 8ms/step - loss: 19.3890 - mae: 19.3890\n",
            "Epoch 59/100\n",
            "2/2 [==============================] - 0s 4ms/step - loss: 10.3429 - mae: 10.3429\n",
            "Epoch 60/100\n",
            "2/2 [==============================] - 0s 8ms/step - loss: 19.5663 - mae: 19.5663\n",
            "Epoch 61/100\n",
            "2/2 [==============================] - 0s 13ms/step - loss: 11.2657 - mae: 11.2657\n",
            "Epoch 62/100\n",
            "2/2 [==============================] - 0s 6ms/step - loss: 24.9634 - mae: 24.9634\n",
            "Epoch 63/100\n",
            "2/2 [==============================] - 0s 5ms/step - loss: 18.5270 - mae: 18.5270\n",
            "Epoch 64/100\n",
            "2/2 [==============================] - 0s 4ms/step - loss: 12.2705 - mae: 12.2705\n",
            "Epoch 65/100\n",
            "2/2 [==============================] - 0s 7ms/step - loss: 8.4652 - mae: 8.4652\n",
            "Epoch 66/100\n",
            "2/2 [==============================] - 0s 10ms/step - loss: 16.5281 - mae: 16.5281\n",
            "Epoch 67/100\n",
            "2/2 [==============================] - 0s 5ms/step - loss: 9.9267 - mae: 9.9267\n",
            "Epoch 68/100\n",
            "2/2 [==============================] - 0s 5ms/step - loss: 12.7090 - mae: 12.7090\n",
            "Epoch 69/100\n",
            "2/2 [==============================] - 0s 8ms/step - loss: 15.1646 - mae: 15.1646\n",
            "Epoch 70/100\n",
            "2/2 [==============================] - 0s 3ms/step - loss: 6.7807 - mae: 6.7807\n",
            "Epoch 71/100\n",
            "2/2 [==============================] - 0s 16ms/step - loss: 18.6514 - mae: 18.6514\n",
            "Epoch 72/100\n",
            "2/2 [==============================] - 0s 13ms/step - loss: 24.5093 - mae: 24.5093\n",
            "Epoch 73/100\n",
            "2/2 [==============================] - 0s 9ms/step - loss: 10.9038 - mae: 10.9038\n",
            "Epoch 74/100\n",
            "2/2 [==============================] - 0s 4ms/step - loss: 10.2124 - mae: 10.2124\n",
            "Epoch 75/100\n",
            "2/2 [==============================] - 0s 6ms/step - loss: 29.0037 - mae: 29.0037\n",
            "Epoch 76/100\n",
            "2/2 [==============================] - 0s 5ms/step - loss: 10.7814 - mae: 10.7814\n",
            "Epoch 77/100\n",
            "2/2 [==============================] - 0s 8ms/step - loss: 22.1226 - mae: 22.1226\n",
            "Epoch 78/100\n",
            "2/2 [==============================] - 0s 6ms/step - loss: 10.0321 - mae: 10.0321\n",
            "Epoch 79/100\n",
            "2/2 [==============================] - 0s 5ms/step - loss: 24.2004 - mae: 24.2004\n",
            "Epoch 80/100\n",
            "2/2 [==============================] - 0s 4ms/step - loss: 10.7018 - mae: 10.7018\n",
            "Epoch 81/100\n",
            "2/2 [==============================] - 0s 5ms/step - loss: 15.6851 - mae: 15.6851\n",
            "Epoch 82/100\n",
            "2/2 [==============================] - 0s 5ms/step - loss: 21.0480 - mae: 21.0480\n",
            "Epoch 83/100\n",
            "2/2 [==============================] - 0s 4ms/step - loss: 22.0836 - mae: 22.0836\n",
            "Epoch 84/100\n",
            "2/2 [==============================] - 0s 5ms/step - loss: 11.6788 - mae: 11.6788\n",
            "Epoch 85/100\n",
            "2/2 [==============================] - 0s 5ms/step - loss: 11.2943 - mae: 11.2943\n",
            "Epoch 86/100\n",
            "2/2 [==============================] - 0s 4ms/step - loss: 19.7094 - mae: 19.7094\n",
            "Epoch 87/100\n",
            "2/2 [==============================] - 0s 4ms/step - loss: 10.9959 - mae: 10.9959\n",
            "Epoch 88/100\n",
            "2/2 [==============================] - 0s 4ms/step - loss: 16.2967 - mae: 16.2967\n",
            "Epoch 89/100\n",
            "2/2 [==============================] - 0s 4ms/step - loss: 11.2131 - mae: 11.2131\n",
            "Epoch 90/100\n",
            "2/2 [==============================] - 0s 5ms/step - loss: 21.9447 - mae: 21.9447\n",
            "Epoch 91/100\n",
            "2/2 [==============================] - 0s 4ms/step - loss: 23.5388 - mae: 23.5388\n",
            "Epoch 92/100\n",
            "2/2 [==============================] - 0s 6ms/step - loss: 9.2922 - mae: 9.2922\n",
            "Epoch 93/100\n",
            "2/2 [==============================] - 0s 5ms/step - loss: 15.6420 - mae: 15.6420\n",
            "Epoch 94/100\n",
            "2/2 [==============================] - 0s 5ms/step - loss: 15.0264 - mae: 15.0264\n",
            "Epoch 95/100\n",
            "2/2 [==============================] - 0s 5ms/step - loss: 11.9914 - mae: 11.9914\n",
            "Epoch 96/100\n",
            "2/2 [==============================] - 0s 5ms/step - loss: 16.1956 - mae: 16.1956\n",
            "Epoch 97/100\n",
            "2/2 [==============================] - 0s 12ms/step - loss: 6.9564 - mae: 6.9564\n",
            "Epoch 98/100\n",
            "2/2 [==============================] - 0s 6ms/step - loss: 11.2623 - mae: 11.2623\n",
            "Epoch 99/100\n",
            "2/2 [==============================] - 0s 10ms/step - loss: 15.5832 - mae: 15.5832\n",
            "Epoch 100/100\n",
            "2/2 [==============================] - 0s 6ms/step - loss: 17.1487 - mae: 17.1487\n"
          ],
          "name": "stdout"
        },
        {
          "output_type": "execute_result",
          "data": {
            "text/plain": [
              "<tensorflow.python.keras.callbacks.History at 0x7ff60cd6e990>"
            ]
          },
          "metadata": {
            "tags": []
          },
          "execution_count": 46
        }
      ]
    },
    {
      "cell_type": "code",
      "metadata": {
        "colab": {
          "base_uri": "https://localhost:8080/",
          "height": 467
        },
        "id": "3so3ohbtcSYA",
        "outputId": "36a6a4aa-e84b-468c-f7d0-030d5e765818"
      },
      "source": [
        "# Make and plot predictions of model_2\n",
        "y_preds_2 = model_2.predict(X_test)\n",
        "plot_predictions(predictions=y_preds_2)"
      ],
      "execution_count": null,
      "outputs": [
        {
          "output_type": "stream",
          "text": [
            "WARNING:tensorflow:6 out of the last 6 calls to <function Model.make_predict_function.<locals>.predict_function at 0x7ff612117710> triggered tf.function retracing. Tracing is expensive and the excessive number of tracings could be due to (1) creating @tf.function repeatedly in a loop, (2) passing tensors with different shapes, (3) passing Python objects instead of tensors. For (1), please define your @tf.function outside of the loop. For (2), @tf.function has experimental_relax_shapes=True option that relaxes argument shapes that can avoid unnecessary retracing. For (3), please refer to https://www.tensorflow.org/guide/function#controlling_retracing and https://www.tensorflow.org/api_docs/python/tf/function for  more details.\n"
          ],
          "name": "stdout"
        },
        {
          "output_type": "display_data",
          "data": {
            "image/png": "[encoded data removed]",
            "text/plain": [
              "<Figure size 720x504 with 1 Axes>"
            ]
          },
          "metadata": {
            "tags": [],
            "needs_background": "light"
          }
        }
      ]
    },
    {
      "cell_type": "code",
      "metadata": {
        "colab": {
          "base_uri": "https://localhost:8080/"
        },
        "id": "0z9Yf6gPcztF",
        "outputId": "cc14fb70-3b9e-4177-946e-3bb44167b965"
      },
      "source": [
        "# Calculate model_2 evaluation metrics\n",
        "mae_2 = mae(y_test, y_preds_2)\n",
        "mse_2 = mse(y_test, y_preds_2)\n",
        "mae_2, mse_2"
      ],
      "execution_count": null,
      "outputs": [
        {
          "output_type": "execute_result",
          "data": {
            "text/plain": [
              "(<tf.Tensor: shape=(), dtype=float32, numpy=6.8089166>,\n",
              " <tf.Tensor: shape=(), dtype=float32, numpy=51.311596>)"
            ]
          },
          "metadata": {
            "tags": []
          },
          "execution_count": 48
        }
      ]
    },
    {
      "cell_type": "markdown",
      "metadata": {
        "id": "Sm4ES3JkdMYS"
      },
      "source": [
        "**Build `model_3`\n",
        "* 2 layers, 500 epochs"
      ]
    },
    {
      "cell_type": "code",
      "metadata": {
        "colab": {
          "base_uri": "https://localhost:8080/"
        },
        "id": "dB1vuI6Ievrd",
        "outputId": "db8deacf-31ab-422b-a401-28c8cd530a51"
      },
      "source": [
        "# Set random seed\n",
        "tf.random.set_seed(18)\n",
        "\n",
        "# Create model\n",
        "model_3 = tf.keras.Sequential([\n",
        "  tf.keras.layers.Dense(50),\n",
        "  tf.keras.layers.Dense(1)\n",
        "])\n",
        "\n",
        "# Compile model\n",
        "model_3.compile(loss=tf.keras.losses.mae,\n",
        "                optimizer=tf.keras.optimizers.SGD(),\n",
        "                metrics=['mae'])\n",
        "\n",
        "# Fit model\n",
        "model_3.fit(X_train, y_train, epochs=500)"
      ],
      "execution_count": null,
      "outputs": [
        {
          "output_type": "stream",
          "text": [
            "Epoch 1/500\n",
            "2/2 [==============================] - 0s 8ms/step - loss: 45.8975 - mae: 45.8975\n",
            "Epoch 2/500\n",
            "2/2 [==============================] - 0s 9ms/step - loss: 24.8763 - mae: 24.8763\n",
            "Epoch 3/500\n",
            "2/2 [==============================] - 0s 3ms/step - loss: 24.9164 - mae: 24.9164\n",
            "Epoch 4/500\n",
            "2/2 [==============================] - 0s 4ms/step - loss: 30.9600 - mae: 30.9600\n",
            "Epoch 5/500\n",
            "2/2 [==============================] - 0s 3ms/step - loss: 11.8965 - mae: 11.8965\n",
            "Epoch 6/500\n",
            "2/2 [==============================] - 0s 5ms/step - loss: 14.7606 - mae: 14.7606\n",
            "Epoch 7/500\n",
            "2/2 [==============================] - 0s 18ms/step - loss: 18.9845 - mae: 18.9845\n",
            "Epoch 8/500\n",
            "2/2 [==============================] - 0s 9ms/step - loss: 10.1619 - mae: 10.1619\n",
            "Epoch 9/500\n",
            "2/2 [==============================] - 0s 13ms/step - loss: 24.7046 - mae: 24.7046\n",
            "Epoch 10/500\n",
            "2/2 [==============================] - 0s 8ms/step - loss: 12.6158 - mae: 12.6158\n",
            "Epoch 11/500\n",
            "2/2 [==============================] - 0s 5ms/step - loss: 15.9713 - mae: 15.9713\n",
            "Epoch 12/500\n",
            "2/2 [==============================] - 0s 6ms/step - loss: 19.1385 - mae: 19.1385\n",
            "Epoch 13/500\n",
            "2/2 [==============================] - 0s 4ms/step - loss: 12.1833 - mae: 12.1833\n",
            "Epoch 14/500\n",
            "2/2 [==============================] - 0s 10ms/step - loss: 12.3488 - mae: 12.3488\n",
            "Epoch 15/500\n",
            "2/2 [==============================] - 0s 6ms/step - loss: 15.8180 - mae: 15.8180\n",
            "Epoch 16/500\n",
            "2/2 [==============================] - 0s 6ms/step - loss: 22.3541 - mae: 22.3541\n",
            "Epoch 17/500\n",
            "2/2 [==============================] - 0s 8ms/step - loss: 7.4664 - mae: 7.4664\n",
            "Epoch 18/500\n",
            "2/2 [==============================] - 0s 6ms/step - loss: 11.5081 - mae: 11.5081\n",
            "Epoch 19/500\n",
            "2/2 [==============================] - 0s 10ms/step - loss: 11.9073 - mae: 11.9073\n",
            "Epoch 20/500\n",
            "2/2 [==============================] - 0s 5ms/step - loss: 17.6512 - mae: 17.6512\n",
            "Epoch 21/500\n",
            "2/2 [==============================] - 0s 4ms/step - loss: 21.7878 - mae: 21.7878\n",
            "Epoch 22/500\n",
            "2/2 [==============================] - 0s 5ms/step - loss: 15.3520 - mae: 15.3520\n",
            "Epoch 23/500\n",
            "2/2 [==============================] - 0s 6ms/step - loss: 11.6578 - mae: 11.6578\n",
            "Epoch 24/500\n",
            "2/2 [==============================] - 0s 9ms/step - loss: 20.2019 - mae: 20.2019\n",
            "Epoch 25/500\n",
            "2/2 [==============================] - 0s 5ms/step - loss: 11.1233 - mae: 11.1233\n",
            "Epoch 26/500\n",
            "2/2 [==============================] - 0s 9ms/step - loss: 10.0954 - mae: 10.0954\n",
            "Epoch 27/500\n",
            "2/2 [==============================] - 0s 5ms/step - loss: 9.6289 - mae: 9.6289\n",
            "Epoch 28/500\n",
            "2/2 [==============================] - 0s 4ms/step - loss: 8.9402 - mae: 8.9402\n",
            "Epoch 29/500\n",
            "2/2 [==============================] - 0s 7ms/step - loss: 26.6219 - mae: 26.6219\n",
            "Epoch 30/500\n",
            "2/2 [==============================] - 0s 4ms/step - loss: 13.6547 - mae: 13.6547\n",
            "Epoch 31/500\n",
            "2/2 [==============================] - 0s 4ms/step - loss: 13.1480 - mae: 13.1480\n",
            "Epoch 32/500\n",
            "2/2 [==============================] - 0s 4ms/step - loss: 9.7132 - mae: 9.7132\n",
            "Epoch 33/500\n",
            "2/2 [==============================] - 0s 7ms/step - loss: 22.2873 - mae: 22.2873\n",
            "Epoch 34/500\n",
            "2/2 [==============================] - 0s 4ms/step - loss: 23.3974 - mae: 23.3974\n",
            "Epoch 35/500\n",
            "2/2 [==============================] - 0s 6ms/step - loss: 11.4511 - mae: 11.4511\n",
            "Epoch 36/500\n",
            "2/2 [==============================] - 0s 8ms/step - loss: 12.9233 - mae: 12.9233\n",
            "Epoch 37/500\n",
            "2/2 [==============================] - 0s 4ms/step - loss: 17.2250 - mae: 17.2250\n",
            "Epoch 38/500\n",
            "2/2 [==============================] - 0s 6ms/step - loss: 10.0117 - mae: 10.0117\n",
            "Epoch 39/500\n",
            "2/2 [==============================] - 0s 7ms/step - loss: 13.5801 - mae: 13.5801\n",
            "Epoch 40/500\n",
            "2/2 [==============================] - 0s 4ms/step - loss: 18.8332 - mae: 18.8332\n",
            "Epoch 41/500\n",
            "2/2 [==============================] - 0s 7ms/step - loss: 10.1746 - mae: 10.1746\n",
            "Epoch 42/500\n",
            "2/2 [==============================] - 0s 5ms/step - loss: 21.3912 - mae: 21.3912\n",
            "Epoch 43/500\n",
            "2/2 [==============================] - 0s 11ms/step - loss: 32.9135 - mae: 32.9135\n",
            "Epoch 44/500\n",
            "2/2 [==============================] - 0s 8ms/step - loss: 15.4104 - mae: 15.4104\n",
            "Epoch 45/500\n",
            "2/2 [==============================] - 0s 11ms/step - loss: 10.1353 - mae: 10.1353\n",
            "Epoch 46/500\n",
            "2/2 [==============================] - 0s 7ms/step - loss: 14.9830 - mae: 14.9830\n",
            "Epoch 47/500\n",
            "2/2 [==============================] - 0s 21ms/step - loss: 18.2960 - mae: 18.2960\n",
            "Epoch 48/500\n",
            "2/2 [==============================] - 0s 10ms/step - loss: 16.6552 - mae: 16.6552\n",
            "Epoch 49/500\n",
            "2/2 [==============================] - 0s 7ms/step - loss: 22.9331 - mae: 22.9331\n",
            "Epoch 50/500\n",
            "2/2 [==============================] - 0s 4ms/step - loss: 11.9017 - mae: 11.9017\n",
            "Epoch 51/500\n",
            "2/2 [==============================] - 0s 8ms/step - loss: 13.9901 - mae: 13.9901\n",
            "Epoch 52/500\n",
            "2/2 [==============================] - 0s 5ms/step - loss: 10.3209 - mae: 10.3209\n",
            "Epoch 53/500\n",
            "2/2 [==============================] - 0s 8ms/step - loss: 32.7506 - mae: 32.7506\n",
            "Epoch 54/500\n",
            "2/2 [==============================] - 0s 4ms/step - loss: 29.3647 - mae: 29.3647\n",
            "Epoch 55/500\n",
            "2/2 [==============================] - 0s 5ms/step - loss: 9.3447 - mae: 9.3447\n",
            "Epoch 56/500\n",
            "2/2 [==============================] - 0s 3ms/step - loss: 24.0018 - mae: 24.0018\n",
            "Epoch 57/500\n",
            "2/2 [==============================] - 0s 4ms/step - loss: 26.1982 - mae: 26.1982\n",
            "Epoch 58/500\n",
            "2/2 [==============================] - 0s 11ms/step - loss: 19.3890 - mae: 19.3890\n",
            "Epoch 59/500\n",
            "2/2 [==============================] - 0s 6ms/step - loss: 10.3429 - mae: 10.3429\n",
            "Epoch 60/500\n",
            "2/2 [==============================] - 0s 4ms/step - loss: 19.5663 - mae: 19.5663\n",
            "Epoch 61/500\n",
            "2/2 [==============================] - 0s 5ms/step - loss: 11.2657 - mae: 11.2657\n",
            "Epoch 62/500\n",
            "2/2 [==============================] - 0s 3ms/step - loss: 24.9634 - mae: 24.9634\n",
            "Epoch 63/500\n",
            "2/2 [==============================] - 0s 8ms/step - loss: 18.5270 - mae: 18.5270\n",
            "Epoch 64/500\n",
            "2/2 [==============================] - 0s 3ms/step - loss: 12.2705 - mae: 12.2705\n",
            "Epoch 65/500\n",
            "2/2 [==============================] - 0s 6ms/step - loss: 8.4652 - mae: 8.4652\n",
            "Epoch 66/500\n",
            "2/2 [==============================] - 0s 6ms/step - loss: 16.5281 - mae: 16.5281\n",
            "Epoch 67/500\n",
            "2/2 [==============================] - 0s 6ms/step - loss: 9.9267 - mae: 9.9267\n",
            "Epoch 68/500\n",
            "2/2 [==============================] - 0s 4ms/step - loss: 12.7090 - mae: 12.7090\n",
            "Epoch 69/500\n",
            "2/2 [==============================] - 0s 4ms/step - loss: 15.1646 - mae: 15.1646\n",
            "Epoch 70/500\n",
            "2/2 [==============================] - 0s 7ms/step - loss: 6.7807 - mae: 6.7807\n",
            "Epoch 71/500\n",
            "2/2 [==============================] - 0s 6ms/step - loss: 18.6514 - mae: 18.6514\n",
            "Epoch 72/500\n",
            "2/2 [==============================] - 0s 4ms/step - loss: 24.5093 - mae: 24.5093\n",
            "Epoch 73/500\n",
            "2/2 [==============================] - 0s 7ms/step - loss: 10.9038 - mae: 10.9038\n",
            "Epoch 74/500\n",
            "2/2 [==============================] - 0s 9ms/step - loss: 10.2124 - mae: 10.2124\n",
            "Epoch 75/500\n",
            "2/2 [==============================] - 0s 5ms/step - loss: 29.0037 - mae: 29.0037\n",
            "Epoch 76/500\n",
            "2/2 [==============================] - 0s 5ms/step - loss: 10.7814 - mae: 10.7814\n",
            "Epoch 77/500\n",
            "2/2 [==============================] - 0s 6ms/step - loss: 22.1226 - mae: 22.1226\n",
            "Epoch 78/500\n",
            "2/2 [==============================] - 0s 7ms/step - loss: 10.0321 - mae: 10.0321\n",
            "Epoch 79/500\n",
            "2/2 [==============================] - 0s 5ms/step - loss: 24.2004 - mae: 24.2004\n",
            "Epoch 80/500\n",
            "2/2 [==============================] - 0s 7ms/step - loss: 10.7018 - mae: 10.7018\n",
            "Epoch 81/500\n",
            "2/2 [==============================] - 0s 7ms/step - loss: 15.6851 - mae: 15.6851\n",
            "Epoch 82/500\n",
            "2/2 [==============================] - 0s 10ms/step - loss: 21.0480 - mae: 21.0480\n",
            "Epoch 83/500\n",
            "2/2 [==============================] - 0s 4ms/step - loss: 22.0836 - mae: 22.0836\n",
            "Epoch 84/500\n",
            "2/2 [==============================] - 0s 6ms/step - loss: 11.6788 - mae: 11.6788\n",
            "Epoch 85/500\n",
            "2/2 [==============================] - 0s 4ms/step - loss: 11.2943 - mae: 11.2943\n",
            "Epoch 86/500\n",
            "2/2 [==============================] - 0s 6ms/step - loss: 19.7094 - mae: 19.7094\n",
            "Epoch 87/500\n",
            "2/2 [==============================] - 0s 23ms/step - loss: 10.9959 - mae: 10.9959\n",
            "Epoch 88/500\n",
            "2/2 [==============================] - 0s 5ms/step - loss: 16.2967 - mae: 16.2967\n",
            "Epoch 89/500\n",
            "2/2 [==============================] - 0s 5ms/step - loss: 11.2131 - mae: 11.2131\n",
            "Epoch 90/500\n",
            "2/2 [==============================] - 0s 8ms/step - loss: 21.9447 - mae: 21.9447\n",
            "Epoch 91/500\n",
            "2/2 [==============================] - 0s 6ms/step - loss: 23.5388 - mae: 23.5388\n",
            "Epoch 92/500\n",
            "2/2 [==============================] - 0s 3ms/step - loss: 9.2922 - mae: 9.2922\n",
            "Epoch 93/500\n",
            "2/2 [==============================] - 0s 7ms/step - loss: 15.6420 - mae: 15.6420\n",
            "Epoch 94/500\n",
            "2/2 [==============================] - 0s 6ms/step - loss: 15.0264 - mae: 15.0264\n",
            "Epoch 95/500\n",
            "2/2 [==============================] - 0s 7ms/step - loss: 11.9914 - mae: 11.9914\n",
            "Epoch 96/500\n",
            "2/2 [==============================] - 0s 6ms/step - loss: 16.1956 - mae: 16.1956\n",
            "Epoch 97/500\n",
            "2/2 [==============================] - 0s 5ms/step - loss: 6.9564 - mae: 6.9564\n",
            "Epoch 98/500\n",
            "2/2 [==============================] - 0s 6ms/step - loss: 11.2623 - mae: 11.2623\n",
            "Epoch 99/500\n",
            "2/2 [==============================] - 0s 7ms/step - loss: 15.5832 - mae: 15.5832\n",
            "Epoch 100/500\n",
            "2/2 [==============================] - 0s 9ms/step - loss: 17.1487 - mae: 17.1487\n",
            "Epoch 101/500\n",
            "2/2 [==============================] - 0s 6ms/step - loss: 12.4535 - mae: 12.4535\n",
            "Epoch 102/500\n",
            "2/2 [==============================] - 0s 17ms/step - loss: 22.2622 - mae: 22.2622\n",
            "Epoch 103/500\n",
            "2/2 [==============================] - 0s 10ms/step - loss: 16.3870 - mae: 16.3870\n",
            "Epoch 104/500\n",
            "2/2 [==============================] - 0s 22ms/step - loss: 9.8105 - mae: 9.8105\n",
            "Epoch 105/500\n",
            "2/2 [==============================] - 0s 10ms/step - loss: 18.4490 - mae: 18.4490\n",
            "Epoch 106/500\n",
            "2/2 [==============================] - 0s 9ms/step - loss: 21.1390 - mae: 21.1390\n",
            "Epoch 107/500\n",
            "2/2 [==============================] - 0s 8ms/step - loss: 14.0133 - mae: 14.0133\n",
            "Epoch 108/500\n",
            "2/2 [==============================] - 0s 12ms/step - loss: 12.2027 - mae: 12.2027\n",
            "Epoch 109/500\n",
            "2/2 [==============================] - 0s 5ms/step - loss: 11.5534 - mae: 11.5534\n",
            "Epoch 110/500\n",
            "2/2 [==============================] - 0s 5ms/step - loss: 24.9209 - mae: 24.9209\n",
            "Epoch 111/500\n",
            "2/2 [==============================] - 0s 4ms/step - loss: 8.5011 - mae: 8.5011\n",
            "Epoch 112/500\n",
            "2/2 [==============================] - 0s 5ms/step - loss: 26.1136 - mae: 26.1136\n",
            "Epoch 113/500\n",
            "2/2 [==============================] - 0s 8ms/step - loss: 12.0256 - mae: 12.0256\n",
            "Epoch 114/500\n",
            "2/2 [==============================] - 0s 4ms/step - loss: 9.6488 - mae: 9.6488\n",
            "Epoch 115/500\n",
            "2/2 [==============================] - 0s 6ms/step - loss: 19.6159 - mae: 19.6159\n",
            "Epoch 116/500\n",
            "2/2 [==============================] - 0s 5ms/step - loss: 9.6060 - mae: 9.6060\n",
            "Epoch 117/500\n",
            "2/2 [==============================] - 0s 10ms/step - loss: 19.5659 - mae: 19.5659\n",
            "Epoch 118/500\n",
            "2/2 [==============================] - 0s 7ms/step - loss: 32.5001 - mae: 32.5001\n",
            "Epoch 119/500\n",
            "2/2 [==============================] - 0s 7ms/step - loss: 12.3542 - mae: 12.3542\n",
            "Epoch 120/500\n",
            "2/2 [==============================] - 0s 3ms/step - loss: 22.6571 - mae: 22.6571\n",
            "Epoch 121/500\n",
            "2/2 [==============================] - 0s 7ms/step - loss: 16.7324 - mae: 16.7324\n",
            "Epoch 122/500\n",
            "2/2 [==============================] - 0s 4ms/step - loss: 16.3527 - mae: 16.3527\n",
            "Epoch 123/500\n",
            "2/2 [==============================] - 0s 4ms/step - loss: 12.3573 - mae: 12.3573\n",
            "Epoch 124/500\n",
            "2/2 [==============================] - 0s 4ms/step - loss: 17.1549 - mae: 17.1549\n",
            "Epoch 125/500\n",
            "2/2 [==============================] - 0s 5ms/step - loss: 20.3465 - mae: 20.3465\n",
            "Epoch 126/500\n",
            "2/2 [==============================] - 0s 4ms/step - loss: 23.2487 - mae: 23.2487\n",
            "Epoch 127/500\n",
            "2/2 [==============================] - 0s 4ms/step - loss: 11.3580 - mae: 11.3580\n",
            "Epoch 128/500\n",
            "2/2 [==============================] - 0s 5ms/step - loss: 27.0546 - mae: 27.0546\n",
            "Epoch 129/500\n",
            "2/2 [==============================] - 0s 4ms/step - loss: 10.6434 - mae: 10.6434\n",
            "Epoch 130/500\n",
            "2/2 [==============================] - 0s 6ms/step - loss: 15.0188 - mae: 15.0188\n",
            "Epoch 131/500\n",
            "2/2 [==============================] - 0s 8ms/step - loss: 18.0978 - mae: 18.0978\n",
            "Epoch 132/500\n",
            "2/2 [==============================] - 0s 8ms/step - loss: 9.4764 - mae: 9.4764\n",
            "Epoch 133/500\n",
            "2/2 [==============================] - 0s 5ms/step - loss: 8.9352 - mae: 8.9352\n",
            "Epoch 134/500\n",
            "2/2 [==============================] - 0s 3ms/step - loss: 11.8122 - mae: 11.8122\n",
            "Epoch 135/500\n",
            "2/2 [==============================] - 0s 20ms/step - loss: 35.7391 - mae: 35.7391\n",
            "Epoch 136/500\n",
            "2/2 [==============================] - 0s 9ms/step - loss: 10.3923 - mae: 10.3923\n",
            "Epoch 137/500\n",
            "2/2 [==============================] - 0s 4ms/step - loss: 10.9777 - mae: 10.9777\n",
            "Epoch 138/500\n",
            "2/2 [==============================] - 0s 7ms/step - loss: 19.5304 - mae: 19.5304\n",
            "Epoch 139/500\n",
            "2/2 [==============================] - 0s 4ms/step - loss: 16.9500 - mae: 16.9500\n",
            "Epoch 140/500\n",
            "2/2 [==============================] - 0s 6ms/step - loss: 8.1526 - mae: 8.1526\n",
            "Epoch 141/500\n",
            "2/2 [==============================] - 0s 7ms/step - loss: 18.2241 - mae: 18.2241\n",
            "Epoch 142/500\n",
            "2/2 [==============================] - 0s 7ms/step - loss: 16.8187 - mae: 16.8187\n",
            "Epoch 143/500\n",
            "2/2 [==============================] - 0s 6ms/step - loss: 9.8522 - mae: 9.8522\n",
            "Epoch 144/500\n",
            "2/2 [==============================] - 0s 6ms/step - loss: 10.2052 - mae: 10.2052\n",
            "Epoch 145/500\n",
            "2/2 [==============================] - 0s 6ms/step - loss: 20.9928 - mae: 20.9928\n",
            "Epoch 146/500\n",
            "2/2 [==============================] - 0s 5ms/step - loss: 14.1875 - mae: 14.1875\n",
            "Epoch 147/500\n",
            "2/2 [==============================] - 0s 19ms/step - loss: 16.1462 - mae: 16.1462\n",
            "Epoch 148/500\n",
            "2/2 [==============================] - 0s 9ms/step - loss: 16.4229 - mae: 16.4229\n",
            "Epoch 149/500\n",
            "2/2 [==============================] - 0s 4ms/step - loss: 13.9455 - mae: 13.9455\n",
            "Epoch 150/500\n",
            "2/2 [==============================] - 0s 6ms/step - loss: 16.3373 - mae: 16.3373\n",
            "Epoch 151/500\n",
            "2/2 [==============================] - 0s 4ms/step - loss: 23.3920 - mae: 23.3920\n",
            "Epoch 152/500\n",
            "2/2 [==============================] - 0s 5ms/step - loss: 10.3521 - mae: 10.3521\n",
            "Epoch 153/500\n",
            "2/2 [==============================] - 0s 9ms/step - loss: 7.0691 - mae: 7.0691\n",
            "Epoch 154/500\n",
            "2/2 [==============================] - 0s 5ms/step - loss: 18.7343 - mae: 18.7343\n",
            "Epoch 155/500\n",
            "2/2 [==============================] - 0s 4ms/step - loss: 8.7090 - mae: 8.7090\n",
            "Epoch 156/500\n",
            "2/2 [==============================] - 0s 4ms/step - loss: 16.2251 - mae: 16.2251\n",
            "Epoch 157/500\n",
            "2/2 [==============================] - 0s 4ms/step - loss: 12.1047 - mae: 12.1047\n",
            "Epoch 158/500\n",
            "2/2 [==============================] - 0s 7ms/step - loss: 12.8951 - mae: 12.8951\n",
            "Epoch 159/500\n",
            "2/2 [==============================] - 0s 5ms/step - loss: 25.8633 - mae: 25.8633\n",
            "Epoch 160/500\n",
            "2/2 [==============================] - 0s 8ms/step - loss: 9.4101 - mae: 9.4101\n",
            "Epoch 161/500\n",
            "2/2 [==============================] - 0s 5ms/step - loss: 15.7608 - mae: 15.7608\n",
            "Epoch 162/500\n",
            "2/2 [==============================] - 0s 4ms/step - loss: 15.8603 - mae: 15.8603\n",
            "Epoch 163/500\n",
            "2/2 [==============================] - 0s 4ms/step - loss: 7.6136 - mae: 7.6136\n",
            "Epoch 164/500\n",
            "2/2 [==============================] - 0s 4ms/step - loss: 21.6880 - mae: 21.6880\n",
            "Epoch 165/500\n",
            "2/2 [==============================] - 0s 9ms/step - loss: 7.7069 - mae: 7.7069\n",
            "Epoch 166/500\n",
            "2/2 [==============================] - 0s 12ms/step - loss: 24.6823 - mae: 24.6823\n",
            "Epoch 167/500\n",
            "2/2 [==============================] - 0s 7ms/step - loss: 8.7435 - mae: 8.7435\n",
            "Epoch 168/500\n",
            "2/2 [==============================] - 0s 5ms/step - loss: 19.1481 - mae: 19.1481\n",
            "Epoch 169/500\n",
            "2/2 [==============================] - 0s 7ms/step - loss: 10.7023 - mae: 10.7023\n",
            "Epoch 170/500\n",
            "2/2 [==============================] - 0s 5ms/step - loss: 25.5164 - mae: 25.5164\n",
            "Epoch 171/500\n",
            "2/2 [==============================] - 0s 7ms/step - loss: 9.2707 - mae: 9.2707\n",
            "Epoch 172/500\n",
            "2/2 [==============================] - 0s 6ms/step - loss: 15.8350 - mae: 15.8350\n",
            "Epoch 173/500\n",
            "2/2 [==============================] - 0s 4ms/step - loss: 7.4867 - mae: 7.4867\n",
            "Epoch 174/500\n",
            "2/2 [==============================] - 0s 4ms/step - loss: 21.1076 - mae: 21.1076\n",
            "Epoch 175/500\n",
            "2/2 [==============================] - 0s 4ms/step - loss: 30.4246 - mae: 30.4246\n",
            "Epoch 176/500\n",
            "2/2 [==============================] - 0s 7ms/step - loss: 14.2853 - mae: 14.2853\n",
            "Epoch 177/500\n",
            "2/2 [==============================] - 0s 7ms/step - loss: 8.0355 - mae: 8.0355\n",
            "Epoch 178/500\n",
            "2/2 [==============================] - 0s 8ms/step - loss: 17.8720 - mae: 17.8720\n",
            "Epoch 179/500\n",
            "2/2 [==============================] - 0s 6ms/step - loss: 9.9129 - mae: 9.9129\n",
            "Epoch 180/500\n",
            "2/2 [==============================] - 0s 7ms/step - loss: 15.8586 - mae: 15.8586\n",
            "Epoch 181/500\n",
            "2/2 [==============================] - 0s 6ms/step - loss: 21.6832 - mae: 21.6832\n",
            "Epoch 182/500\n",
            "2/2 [==============================] - 0s 7ms/step - loss: 28.0731 - mae: 28.0731\n",
            "Epoch 183/500\n",
            "2/2 [==============================] - 0s 15ms/step - loss: 7.6001 - mae: 7.6001\n",
            "Epoch 184/500\n",
            "2/2 [==============================] - 0s 4ms/step - loss: 8.4737 - mae: 8.4737\n",
            "Epoch 185/500\n",
            "2/2 [==============================] - 0s 4ms/step - loss: 20.8113 - mae: 20.8113\n",
            "Epoch 186/500\n",
            "2/2 [==============================] - 0s 7ms/step - loss: 18.3438 - mae: 18.3438\n",
            "Epoch 187/500\n",
            "2/2 [==============================] - 0s 7ms/step - loss: 16.8219 - mae: 16.8219\n",
            "Epoch 188/500\n",
            "2/2 [==============================] - 0s 4ms/step - loss: 19.1393 - mae: 19.1393\n",
            "Epoch 189/500\n",
            "2/2 [==============================] - 0s 7ms/step - loss: 12.6538 - mae: 12.6538\n",
            "Epoch 190/500\n",
            "2/2 [==============================] - 0s 11ms/step - loss: 21.9165 - mae: 21.9165\n",
            "Epoch 191/500\n",
            "2/2 [==============================] - 0s 10ms/step - loss: 12.1248 - mae: 12.1248\n",
            "Epoch 192/500\n",
            "2/2 [==============================] - 0s 4ms/step - loss: 17.4691 - mae: 17.4691\n",
            "Epoch 193/500\n",
            "2/2 [==============================] - 0s 15ms/step - loss: 20.7277 - mae: 20.7277\n",
            "Epoch 194/500\n",
            "2/2 [==============================] - 0s 5ms/step - loss: 21.4411 - mae: 21.4411\n",
            "Epoch 195/500\n",
            "2/2 [==============================] - 0s 4ms/step - loss: 11.4418 - mae: 11.4418\n",
            "Epoch 196/500\n",
            "2/2 [==============================] - 0s 11ms/step - loss: 5.7549 - mae: 5.7549\n",
            "Epoch 197/500\n",
            "2/2 [==============================] - 0s 5ms/step - loss: 16.6173 - mae: 16.6173\n",
            "Epoch 198/500\n",
            "2/2 [==============================] - 0s 9ms/step - loss: 19.1521 - mae: 19.1521\n",
            "Epoch 199/500\n",
            "2/2 [==============================] - 0s 4ms/step - loss: 15.4995 - mae: 15.4995\n",
            "Epoch 200/500\n",
            "2/2 [==============================] - 0s 4ms/step - loss: 14.8201 - mae: 14.8201\n",
            "Epoch 201/500\n",
            "2/2 [==============================] - 0s 11ms/step - loss: 8.6087 - mae: 8.6087\n",
            "Epoch 202/500\n",
            "2/2 [==============================] - 0s 24ms/step - loss: 22.7435 - mae: 22.7435\n",
            "Epoch 203/500\n",
            "2/2 [==============================] - 0s 3ms/step - loss: 28.4643 - mae: 28.4643\n",
            "Epoch 204/500\n",
            "2/2 [==============================] - 0s 17ms/step - loss: 19.7949 - mae: 19.7949\n",
            "Epoch 205/500\n",
            "2/2 [==============================] - 0s 7ms/step - loss: 10.0909 - mae: 10.0909\n",
            "Epoch 206/500\n",
            "2/2 [==============================] - 0s 4ms/step - loss: 18.0728 - mae: 18.0728\n",
            "Epoch 207/500\n",
            "2/2 [==============================] - 0s 4ms/step - loss: 9.3615 - mae: 9.3615\n",
            "Epoch 208/500\n",
            "2/2 [==============================] - 0s 4ms/step - loss: 5.5313 - mae: 5.5313\n",
            "Epoch 209/500\n",
            "2/2 [==============================] - 0s 7ms/step - loss: 21.9466 - mae: 21.9466\n",
            "Epoch 210/500\n",
            "2/2 [==============================] - 0s 5ms/step - loss: 9.6359 - mae: 9.6359\n",
            "Epoch 211/500\n",
            "2/2 [==============================] - 0s 14ms/step - loss: 7.7192 - mae: 7.7192\n",
            "Epoch 212/500\n",
            "2/2 [==============================] - 0s 17ms/step - loss: 20.9807 - mae: 20.9807\n",
            "Epoch 213/500\n",
            "2/2 [==============================] - 0s 4ms/step - loss: 8.4373 - mae: 8.4373\n",
            "Epoch 214/500\n",
            "2/2 [==============================] - 0s 5ms/step - loss: 18.6793 - mae: 18.6793\n",
            "Epoch 215/500\n",
            "2/2 [==============================] - 0s 13ms/step - loss: 14.3891 - mae: 14.3891\n",
            "Epoch 216/500\n",
            "2/2 [==============================] - 0s 4ms/step - loss: 27.8992 - mae: 27.8992\n",
            "Epoch 217/500\n",
            "2/2 [==============================] - 0s 5ms/step - loss: 10.6911 - mae: 10.6911\n",
            "Epoch 218/500\n",
            "2/2 [==============================] - 0s 18ms/step - loss: 8.3109 - mae: 8.3109\n",
            "Epoch 219/500\n",
            "2/2 [==============================] - 0s 7ms/step - loss: 30.9154 - mae: 30.9154\n",
            "Epoch 220/500\n",
            "2/2 [==============================] - 0s 4ms/step - loss: 11.4767 - mae: 11.4767\n",
            "Epoch 221/500\n",
            "2/2 [==============================] - 0s 4ms/step - loss: 21.3468 - mae: 21.3468\n",
            "Epoch 222/500\n",
            "2/2 [==============================] - 0s 4ms/step - loss: 7.9534 - mae: 7.9534\n",
            "Epoch 223/500\n",
            "2/2 [==============================] - 0s 4ms/step - loss: 30.6159 - mae: 30.6159\n",
            "Epoch 224/500\n",
            "2/2 [==============================] - 0s 4ms/step - loss: 7.6624 - mae: 7.6624\n",
            "Epoch 225/500\n",
            "2/2 [==============================] - 0s 4ms/step - loss: 8.8508 - mae: 8.8508\n",
            "Epoch 226/500\n",
            "2/2 [==============================] - 0s 4ms/step - loss: 8.1936 - mae: 8.1936\n",
            "Epoch 227/500\n",
            "2/2 [==============================] - 0s 6ms/step - loss: 8.9901 - mae: 8.9901\n",
            "Epoch 228/500\n",
            "2/2 [==============================] - 0s 5ms/step - loss: 18.0799 - mae: 18.0799\n",
            "Epoch 229/500\n",
            "2/2 [==============================] - 0s 12ms/step - loss: 15.7416 - mae: 15.7416\n",
            "Epoch 230/500\n",
            "2/2 [==============================] - 0s 4ms/step - loss: 10.2902 - mae: 10.2902\n",
            "Epoch 231/500\n",
            "2/2 [==============================] - 0s 4ms/step - loss: 8.3287 - mae: 8.3287\n",
            "Epoch 232/500\n",
            "2/2 [==============================] - 0s 4ms/step - loss: 7.6503 - mae: 7.6503\n",
            "Epoch 233/500\n",
            "2/2 [==============================] - 0s 4ms/step - loss: 23.5124 - mae: 23.5124\n",
            "Epoch 234/500\n",
            "2/2 [==============================] - 0s 4ms/step - loss: 15.8736 - mae: 15.8736\n",
            "Epoch 235/500\n",
            "2/2 [==============================] - 0s 11ms/step - loss: 14.9713 - mae: 14.9713\n",
            "Epoch 236/500\n",
            "2/2 [==============================] - 0s 4ms/step - loss: 7.9629 - mae: 7.9629\n",
            "Epoch 237/500\n",
            "2/2 [==============================] - 0s 16ms/step - loss: 22.0117 - mae: 22.0117\n",
            "Epoch 238/500\n",
            "2/2 [==============================] - 0s 6ms/step - loss: 30.7023 - mae: 30.7023\n",
            "Epoch 239/500\n",
            "2/2 [==============================] - 0s 4ms/step - loss: 12.9340 - mae: 12.9340\n",
            "Epoch 240/500\n",
            "2/2 [==============================] - 0s 4ms/step - loss: 10.3610 - mae: 10.3610\n",
            "Epoch 241/500\n",
            "2/2 [==============================] - 0s 4ms/step - loss: 14.8574 - mae: 14.8574\n",
            "Epoch 242/500\n",
            "2/2 [==============================] - 0s 4ms/step - loss: 10.1628 - mae: 10.1628\n",
            "Epoch 243/500\n",
            "2/2 [==============================] - 0s 5ms/step - loss: 8.3757 - mae: 8.3757\n",
            "Epoch 244/500\n",
            "2/2 [==============================] - 0s 13ms/step - loss: 6.1893 - mae: 6.1893\n",
            "Epoch 245/500\n",
            "2/2 [==============================] - 0s 6ms/step - loss: 28.2078 - mae: 28.2078\n",
            "Epoch 246/500\n",
            "2/2 [==============================] - 0s 4ms/step - loss: 20.2671 - mae: 20.2671\n",
            "Epoch 247/500\n",
            "2/2 [==============================] - 0s 12ms/step - loss: 8.2550 - mae: 8.2550\n",
            "Epoch 248/500\n",
            "2/2 [==============================] - 0s 9ms/step - loss: 16.8980 - mae: 16.8980\n",
            "Epoch 249/500\n",
            "2/2 [==============================] - 0s 15ms/step - loss: 9.6420 - mae: 9.6420\n",
            "Epoch 250/500\n",
            "2/2 [==============================] - 0s 9ms/step - loss: 24.8813 - mae: 24.8813\n",
            "Epoch 251/500\n",
            "2/2 [==============================] - 0s 5ms/step - loss: 18.8394 - mae: 18.8394\n",
            "Epoch 252/500\n",
            "2/2 [==============================] - 0s 4ms/step - loss: 19.6233 - mae: 19.6233\n",
            "Epoch 253/500\n",
            "2/2 [==============================] - 0s 7ms/step - loss: 5.8185 - mae: 5.8185\n",
            "Epoch 254/500\n",
            "2/2 [==============================] - 0s 18ms/step - loss: 19.8627 - mae: 19.8627\n",
            "Epoch 255/500\n",
            "2/2 [==============================] - 0s 9ms/step - loss: 19.3084 - mae: 19.3084\n",
            "Epoch 256/500\n",
            "2/2 [==============================] - 0s 8ms/step - loss: 9.9682 - mae: 9.9682\n",
            "Epoch 257/500\n",
            "2/2 [==============================] - 0s 4ms/step - loss: 20.7187 - mae: 20.7187\n",
            "Epoch 258/500\n",
            "2/2 [==============================] - 0s 11ms/step - loss: 9.2513 - mae: 9.2513\n",
            "Epoch 259/500\n",
            "2/2 [==============================] - 0s 4ms/step - loss: 10.1776 - mae: 10.1776\n",
            "Epoch 260/500\n",
            "2/2 [==============================] - 0s 4ms/step - loss: 13.5081 - mae: 13.5081\n",
            "Epoch 261/500\n",
            "2/2 [==============================] - 0s 7ms/step - loss: 16.3095 - mae: 16.3095\n",
            "Epoch 262/500\n",
            "2/2 [==============================] - 0s 6ms/step - loss: 8.5808 - mae: 8.5808\n",
            "Epoch 263/500\n",
            "2/2 [==============================] - 0s 4ms/step - loss: 18.7086 - mae: 18.7086\n",
            "Epoch 264/500\n",
            "2/2 [==============================] - 0s 4ms/step - loss: 17.7317 - mae: 17.7317\n",
            "Epoch 265/500\n",
            "2/2 [==============================] - 0s 4ms/step - loss: 11.0274 - mae: 11.0274\n",
            "Epoch 266/500\n",
            "2/2 [==============================] - 0s 4ms/step - loss: 13.4468 - mae: 13.4468\n",
            "Epoch 267/500\n",
            "2/2 [==============================] - 0s 4ms/step - loss: 18.6227 - mae: 18.6227\n",
            "Epoch 268/500\n",
            "2/2 [==============================] - 0s 4ms/step - loss: 25.1841 - mae: 25.1841\n",
            "Epoch 269/500\n",
            "2/2 [==============================] - 0s 7ms/step - loss: 11.7103 - mae: 11.7103\n",
            "Epoch 270/500\n",
            "2/2 [==============================] - 0s 4ms/step - loss: 9.1205 - mae: 9.1205\n",
            "Epoch 271/500\n",
            "2/2 [==============================] - 0s 4ms/step - loss: 16.9331 - mae: 16.9331\n",
            "Epoch 272/500\n",
            "2/2 [==============================] - 0s 4ms/step - loss: 7.8830 - mae: 7.8830\n",
            "Epoch 273/500\n",
            "2/2 [==============================] - 0s 15ms/step - loss: 29.3674 - mae: 29.3674\n",
            "Epoch 274/500\n",
            "2/2 [==============================] - 0s 4ms/step - loss: 12.3034 - mae: 12.3034\n",
            "Epoch 275/500\n",
            "2/2 [==============================] - 0s 4ms/step - loss: 16.5312 - mae: 16.5312\n",
            "Epoch 276/500\n",
            "2/2 [==============================] - 0s 4ms/step - loss: 17.0738 - mae: 17.0738\n",
            "Epoch 277/500\n",
            "2/2 [==============================] - 0s 4ms/step - loss: 13.9041 - mae: 13.9041\n",
            "Epoch 278/500\n",
            "2/2 [==============================] - 0s 4ms/step - loss: 14.2882 - mae: 14.2882\n",
            "Epoch 279/500\n",
            "2/2 [==============================] - 0s 8ms/step - loss: 14.5255 - mae: 14.5255\n",
            "Epoch 280/500\n",
            "2/2 [==============================] - 0s 7ms/step - loss: 23.4373 - mae: 23.4373\n",
            "Epoch 281/500\n",
            "2/2 [==============================] - 0s 4ms/step - loss: 15.0939 - mae: 15.0939\n",
            "Epoch 282/500\n",
            "2/2 [==============================] - 0s 5ms/step - loss: 8.8658 - mae: 8.8658\n",
            "Epoch 283/500\n",
            "2/2 [==============================] - 0s 6ms/step - loss: 24.1044 - mae: 24.1044\n",
            "Epoch 284/500\n",
            "2/2 [==============================] - 0s 5ms/step - loss: 13.6038 - mae: 13.6038\n",
            "Epoch 285/500\n",
            "2/2 [==============================] - 0s 4ms/step - loss: 7.1599 - mae: 7.1599\n",
            "Epoch 286/500\n",
            "2/2 [==============================] - 0s 4ms/step - loss: 13.4465 - mae: 13.4465\n",
            "Epoch 287/500\n",
            "2/2 [==============================] - 0s 4ms/step - loss: 13.2975 - mae: 13.2975\n",
            "Epoch 288/500\n",
            "2/2 [==============================] - 0s 10ms/step - loss: 10.5801 - mae: 10.5801\n",
            "Epoch 289/500\n",
            "2/2 [==============================] - 0s 5ms/step - loss: 7.5589 - mae: 7.5589\n",
            "Epoch 290/500\n",
            "2/2 [==============================] - 0s 5ms/step - loss: 7.2447 - mae: 7.2447\n",
            "Epoch 291/500\n",
            "2/2 [==============================] - 0s 3ms/step - loss: 20.3223 - mae: 20.3223\n",
            "Epoch 292/500\n",
            "2/2 [==============================] - 0s 3ms/step - loss: 12.8390 - mae: 12.8390\n",
            "Epoch 293/500\n",
            "2/2 [==============================] - 0s 12ms/step - loss: 26.1088 - mae: 26.1088\n",
            "Epoch 294/500\n",
            "2/2 [==============================] - 0s 5ms/step - loss: 11.3797 - mae: 11.3797\n",
            "Epoch 295/500\n",
            "2/2 [==============================] - 0s 4ms/step - loss: 12.6757 - mae: 12.6757\n",
            "Epoch 296/500\n",
            "2/2 [==============================] - 0s 6ms/step - loss: 8.5123 - mae: 8.5123\n",
            "Epoch 297/500\n",
            "2/2 [==============================] - 0s 10ms/step - loss: 23.3989 - mae: 23.3989\n",
            "Epoch 298/500\n",
            "2/2 [==============================] - 0s 11ms/step - loss: 6.9628 - mae: 6.9628\n",
            "Epoch 299/500\n",
            "2/2 [==============================] - 0s 6ms/step - loss: 5.8825 - mae: 5.8825\n",
            "Epoch 300/500\n",
            "2/2 [==============================] - 0s 4ms/step - loss: 6.8952 - mae: 6.8952\n",
            "Epoch 301/500\n",
            "2/2 [==============================] - 0s 4ms/step - loss: 13.8576 - mae: 13.8576\n",
            "Epoch 302/500\n",
            "2/2 [==============================] - 0s 14ms/step - loss: 8.5220 - mae: 8.5220\n",
            "Epoch 303/500\n",
            "2/2 [==============================] - 0s 8ms/step - loss: 17.7972 - mae: 17.7972\n",
            "Epoch 304/500\n",
            "2/2 [==============================] - 0s 17ms/step - loss: 14.1395 - mae: 14.1395\n",
            "Epoch 305/500\n",
            "2/2 [==============================] - 0s 6ms/step - loss: 16.2032 - mae: 16.2032\n",
            "Epoch 306/500\n",
            "2/2 [==============================] - 0s 4ms/step - loss: 25.0484 - mae: 25.0484\n",
            "Epoch 307/500\n",
            "2/2 [==============================] - 0s 8ms/step - loss: 8.2643 - mae: 8.2643\n",
            "Epoch 308/500\n",
            "2/2 [==============================] - 0s 4ms/step - loss: 13.2997 - mae: 13.2997\n",
            "Epoch 309/500\n",
            "2/2 [==============================] - 0s 4ms/step - loss: 22.9068 - mae: 22.9068\n",
            "Epoch 310/500\n",
            "2/2 [==============================] - 0s 4ms/step - loss: 16.4949 - mae: 16.4949\n",
            "Epoch 311/500\n",
            "2/2 [==============================] - 0s 14ms/step - loss: 11.9691 - mae: 11.9691\n",
            "Epoch 312/500\n",
            "2/2 [==============================] - 0s 6ms/step - loss: 16.2334 - mae: 16.2334\n",
            "Epoch 313/500\n",
            "2/2 [==============================] - 0s 19ms/step - loss: 16.4496 - mae: 16.4496\n",
            "Epoch 314/500\n",
            "2/2 [==============================] - 0s 4ms/step - loss: 6.5095 - mae: 6.5095\n",
            "Epoch 315/500\n",
            "2/2 [==============================] - 0s 6ms/step - loss: 21.3074 - mae: 21.3074\n",
            "Epoch 316/500\n",
            "2/2 [==============================] - 0s 7ms/step - loss: 10.3654 - mae: 10.3654\n",
            "Epoch 317/500\n",
            "2/2 [==============================] - 0s 4ms/step - loss: 8.6345 - mae: 8.6345\n",
            "Epoch 318/500\n",
            "2/2 [==============================] - 0s 6ms/step - loss: 19.4013 - mae: 19.4013\n",
            "Epoch 319/500\n",
            "2/2 [==============================] - 0s 4ms/step - loss: 13.3271 - mae: 13.3271\n",
            "Epoch 320/500\n",
            "2/2 [==============================] - 0s 4ms/step - loss: 20.9836 - mae: 20.9836\n",
            "Epoch 321/500\n",
            "2/2 [==============================] - 0s 9ms/step - loss: 26.1426 - mae: 26.1426\n",
            "Epoch 322/500\n",
            "2/2 [==============================] - 0s 14ms/step - loss: 28.0238 - mae: 28.0238\n",
            "Epoch 323/500\n",
            "2/2 [==============================] - 0s 13ms/step - loss: 6.1284 - mae: 6.1284\n",
            "Epoch 324/500\n",
            "2/2 [==============================] - 0s 10ms/step - loss: 19.9564 - mae: 19.9564\n",
            "Epoch 325/500\n",
            "2/2 [==============================] - 0s 16ms/step - loss: 33.8048 - mae: 33.8048\n",
            "Epoch 326/500\n",
            "2/2 [==============================] - 0s 6ms/step - loss: 11.3918 - mae: 11.3918\n",
            "Epoch 327/500\n",
            "2/2 [==============================] - 0s 5ms/step - loss: 19.2956 - mae: 19.2956\n",
            "Epoch 328/500\n",
            "2/2 [==============================] - 0s 4ms/step - loss: 13.9991 - mae: 13.9991\n",
            "Epoch 329/500\n",
            "2/2 [==============================] - 0s 9ms/step - loss: 22.4079 - mae: 22.4079\n",
            "Epoch 330/500\n",
            "2/2 [==============================] - 0s 5ms/step - loss: 23.7109 - mae: 23.7109\n",
            "Epoch 331/500\n",
            "2/2 [==============================] - 0s 11ms/step - loss: 10.7072 - mae: 10.7072\n",
            "Epoch 332/500\n",
            "2/2 [==============================] - 0s 3ms/step - loss: 25.4404 - mae: 25.4404\n",
            "Epoch 333/500\n",
            "2/2 [==============================] - 0s 7ms/step - loss: 14.0144 - mae: 14.0144\n",
            "Epoch 334/500\n",
            "2/2 [==============================] - 0s 6ms/step - loss: 14.6495 - mae: 14.6495\n",
            "Epoch 335/500\n",
            "2/2 [==============================] - 0s 11ms/step - loss: 17.3848 - mae: 17.3848\n",
            "Epoch 336/500\n",
            "2/2 [==============================] - 0s 5ms/step - loss: 7.1322 - mae: 7.1322\n",
            "Epoch 337/500\n",
            "2/2 [==============================] - 0s 5ms/step - loss: 12.1222 - mae: 12.1222\n",
            "Epoch 338/500\n",
            "2/2 [==============================] - 0s 4ms/step - loss: 11.7225 - mae: 11.7225\n",
            "Epoch 339/500\n",
            "2/2 [==============================] - 0s 9ms/step - loss: 19.0839 - mae: 19.0839\n",
            "Epoch 340/500\n",
            "2/2 [==============================] - 0s 23ms/step - loss: 32.3300 - mae: 32.3300\n",
            "Epoch 341/500\n",
            "2/2 [==============================] - 0s 11ms/step - loss: 17.8131 - mae: 17.8131\n",
            "Epoch 342/500\n",
            "2/2 [==============================] - 0s 22ms/step - loss: 7.6313 - mae: 7.6313\n",
            "Epoch 343/500\n",
            "2/2 [==============================] - 0s 9ms/step - loss: 11.2166 - mae: 11.2166\n",
            "Epoch 344/500\n",
            "2/2 [==============================] - 0s 4ms/step - loss: 14.0696 - mae: 14.0696\n",
            "Epoch 345/500\n",
            "2/2 [==============================] - 0s 9ms/step - loss: 7.2585 - mae: 7.2585\n",
            "Epoch 346/500\n",
            "2/2 [==============================] - 0s 3ms/step - loss: 15.4296 - mae: 15.4296\n",
            "Epoch 347/500\n",
            "2/2 [==============================] - 0s 7ms/step - loss: 11.1077 - mae: 11.1077\n",
            "Epoch 348/500\n",
            "2/2 [==============================] - 0s 4ms/step - loss: 14.6621 - mae: 14.6621\n",
            "Epoch 349/500\n",
            "2/2 [==============================] - 0s 5ms/step - loss: 24.4254 - mae: 24.4254\n",
            "Epoch 350/500\n",
            "2/2 [==============================] - 0s 5ms/step - loss: 15.8250 - mae: 15.8250\n",
            "Epoch 351/500\n",
            "2/2 [==============================] - 0s 3ms/step - loss: 15.3923 - mae: 15.3923\n",
            "Epoch 352/500\n",
            "2/2 [==============================] - 0s 6ms/step - loss: 13.0572 - mae: 13.0572\n",
            "Epoch 353/500\n",
            "2/2 [==============================] - 0s 4ms/step - loss: 7.3398 - mae: 7.3398\n",
            "Epoch 354/500\n",
            "2/2 [==============================] - 0s 4ms/step - loss: 24.4541 - mae: 24.4541\n",
            "Epoch 355/500\n",
            "2/2 [==============================] - 0s 5ms/step - loss: 9.8866 - mae: 9.8866\n",
            "Epoch 356/500\n",
            "2/2 [==============================] - 0s 4ms/step - loss: 15.9823 - mae: 15.9823\n",
            "Epoch 357/500\n",
            "2/2 [==============================] - 0s 5ms/step - loss: 4.3354 - mae: 4.3354\n",
            "Epoch 358/500\n",
            "2/2 [==============================] - 0s 11ms/step - loss: 12.0112 - mae: 12.0112\n",
            "Epoch 359/500\n",
            "2/2 [==============================] - 0s 9ms/step - loss: 21.7552 - mae: 21.7552\n",
            "Epoch 360/500\n",
            "2/2 [==============================] - 0s 4ms/step - loss: 35.1330 - mae: 35.1330\n",
            "Epoch 361/500\n",
            "2/2 [==============================] - 0s 7ms/step - loss: 9.3366 - mae: 9.3366\n",
            "Epoch 362/500\n",
            "2/2 [==============================] - 0s 8ms/step - loss: 6.5312 - mae: 6.5312\n",
            "Epoch 363/500\n",
            "2/2 [==============================] - 0s 5ms/step - loss: 21.2975 - mae: 21.2975\n",
            "Epoch 364/500\n",
            "2/2 [==============================] - 0s 9ms/step - loss: 10.7048 - mae: 10.7048\n",
            "Epoch 365/500\n",
            "2/2 [==============================] - 0s 8ms/step - loss: 7.1595 - mae: 7.1595\n",
            "Epoch 366/500\n",
            "2/2 [==============================] - 0s 11ms/step - loss: 27.0317 - mae: 27.0317\n",
            "Epoch 367/500\n",
            "2/2 [==============================] - 0s 4ms/step - loss: 11.6610 - mae: 11.6610\n",
            "Epoch 368/500\n",
            "2/2 [==============================] - 0s 5ms/step - loss: 9.1797 - mae: 9.1797\n",
            "Epoch 369/500\n",
            "2/2 [==============================] - 0s 12ms/step - loss: 12.9471 - mae: 12.9471\n",
            "Epoch 370/500\n",
            "2/2 [==============================] - 0s 5ms/step - loss: 13.5346 - mae: 13.5346\n",
            "Epoch 371/500\n",
            "2/2 [==============================] - 0s 5ms/step - loss: 17.1142 - mae: 17.1142\n",
            "Epoch 372/500\n",
            "2/2 [==============================] - 0s 8ms/step - loss: 16.6781 - mae: 16.6781\n",
            "Epoch 373/500\n",
            "2/2 [==============================] - 0s 8ms/step - loss: 14.2110 - mae: 14.2110\n",
            "Epoch 374/500\n",
            "2/2 [==============================] - 0s 6ms/step - loss: 15.0450 - mae: 15.0450\n",
            "Epoch 375/500\n",
            "2/2 [==============================] - 0s 10ms/step - loss: 13.1406 - mae: 13.1406\n",
            "Epoch 376/500\n",
            "2/2 [==============================] - 0s 45ms/step - loss: 27.5070 - mae: 27.5070\n",
            "Epoch 377/500\n",
            "2/2 [==============================] - 0s 12ms/step - loss: 14.2683 - mae: 14.2683\n",
            "Epoch 378/500\n",
            "2/2 [==============================] - 0s 9ms/step - loss: 6.7987 - mae: 6.7987\n",
            "Epoch 379/500\n",
            "2/2 [==============================] - 0s 8ms/step - loss: 9.8300 - mae: 9.8300\n",
            "Epoch 380/500\n",
            "2/2 [==============================] - 0s 6ms/step - loss: 26.1158 - mae: 26.1158\n",
            "Epoch 381/500\n",
            "2/2 [==============================] - 0s 5ms/step - loss: 9.0139 - mae: 9.0139\n",
            "Epoch 382/500\n",
            "2/2 [==============================] - 0s 8ms/step - loss: 11.4100 - mae: 11.4100\n",
            "Epoch 383/500\n",
            "2/2 [==============================] - 0s 7ms/step - loss: 8.0804 - mae: 8.0804\n",
            "Epoch 384/500\n",
            "2/2 [==============================] - 0s 10ms/step - loss: 15.8060 - mae: 15.8060\n",
            "Epoch 385/500\n",
            "2/2 [==============================] - 0s 18ms/step - loss: 11.9168 - mae: 11.9168\n",
            "Epoch 386/500\n",
            "2/2 [==============================] - 0s 9ms/step - loss: 14.8001 - mae: 14.8001\n",
            "Epoch 387/500\n",
            "2/2 [==============================] - 0s 4ms/step - loss: 26.2642 - mae: 26.2642\n",
            "Epoch 388/500\n",
            "2/2 [==============================] - 0s 7ms/step - loss: 14.4194 - mae: 14.4194\n",
            "Epoch 389/500\n",
            "2/2 [==============================] - 0s 4ms/step - loss: 8.1601 - mae: 8.1601\n",
            "Epoch 390/500\n",
            "2/2 [==============================] - 0s 8ms/step - loss: 5.8875 - mae: 5.8875\n",
            "Epoch 391/500\n",
            "2/2 [==============================] - 0s 5ms/step - loss: 15.1722 - mae: 15.1722\n",
            "Epoch 392/500\n",
            "2/2 [==============================] - 0s 17ms/step - loss: 14.7687 - mae: 14.7687\n",
            "Epoch 393/500\n",
            "2/2 [==============================] - 0s 10ms/step - loss: 21.7954 - mae: 21.7954\n",
            "Epoch 394/500\n",
            "2/2 [==============================] - 0s 5ms/step - loss: 22.6463 - mae: 22.6463\n",
            "Epoch 395/500\n",
            "2/2 [==============================] - 0s 9ms/step - loss: 5.9655 - mae: 5.9655\n",
            "Epoch 396/500\n",
            "2/2 [==============================] - 0s 27ms/step - loss: 9.9103 - mae: 9.9103\n",
            "Epoch 397/500\n",
            "2/2 [==============================] - 0s 5ms/step - loss: 6.8985 - mae: 6.8985\n",
            "Epoch 398/500\n",
            "2/2 [==============================] - 0s 13ms/step - loss: 7.5395 - mae: 7.5395\n",
            "Epoch 399/500\n",
            "2/2 [==============================] - 0s 10ms/step - loss: 16.2033 - mae: 16.2033\n",
            "Epoch 400/500\n",
            "2/2 [==============================] - 0s 7ms/step - loss: 13.6737 - mae: 13.6737\n",
            "Epoch 401/500\n",
            "2/2 [==============================] - 0s 13ms/step - loss: 24.3904 - mae: 24.3904\n",
            "Epoch 402/500\n",
            "2/2 [==============================] - 0s 6ms/step - loss: 16.0281 - mae: 16.0281\n",
            "Epoch 403/500\n",
            "2/2 [==============================] - 0s 5ms/step - loss: 7.3876 - mae: 7.3876\n",
            "Epoch 404/500\n",
            "2/2 [==============================] - 0s 5ms/step - loss: 25.6475 - mae: 25.6475\n",
            "Epoch 405/500\n",
            "2/2 [==============================] - 0s 13ms/step - loss: 9.8299 - mae: 9.8299\n",
            "Epoch 406/500\n",
            "2/2 [==============================] - 0s 5ms/step - loss: 12.3231 - mae: 12.3231\n",
            "Epoch 407/500\n",
            "2/2 [==============================] - 0s 8ms/step - loss: 7.6173 - mae: 7.6173\n",
            "Epoch 408/500\n",
            "2/2 [==============================] - 0s 8ms/step - loss: 12.2569 - mae: 12.2569\n",
            "Epoch 409/500\n",
            "2/2 [==============================] - 0s 11ms/step - loss: 6.7091 - mae: 6.7091\n",
            "Epoch 410/500\n",
            "2/2 [==============================] - 0s 27ms/step - loss: 23.0443 - mae: 23.0443\n",
            "Epoch 411/500\n",
            "2/2 [==============================] - 0s 16ms/step - loss: 16.6521 - mae: 16.6521\n",
            "Epoch 412/500\n",
            "2/2 [==============================] - 0s 11ms/step - loss: 15.3610 - mae: 15.3610\n",
            "Epoch 413/500\n",
            "2/2 [==============================] - 0s 12ms/step - loss: 19.0551 - mae: 19.0551\n",
            "Epoch 414/500\n",
            "2/2 [==============================] - 0s 4ms/step - loss: 11.4757 - mae: 11.4757\n",
            "Epoch 415/500\n",
            "2/2 [==============================] - 0s 6ms/step - loss: 12.5805 - mae: 12.5805\n",
            "Epoch 416/500\n",
            "2/2 [==============================] - 0s 4ms/step - loss: 14.9245 - mae: 14.9245\n",
            "Epoch 417/500\n",
            "2/2 [==============================] - 0s 5ms/step - loss: 13.4319 - mae: 13.4319\n",
            "Epoch 418/500\n",
            "2/2 [==============================] - 0s 20ms/step - loss: 14.1125 - mae: 14.1125\n",
            "Epoch 419/500\n",
            "2/2 [==============================] - 0s 7ms/step - loss: 17.6560 - mae: 17.6560\n",
            "Epoch 420/500\n",
            "2/2 [==============================] - 0s 6ms/step - loss: 26.6559 - mae: 26.6559\n",
            "Epoch 421/500\n",
            "2/2 [==============================] - 0s 5ms/step - loss: 20.9000 - mae: 20.9000\n",
            "Epoch 422/500\n",
            "2/2 [==============================] - 0s 3ms/step - loss: 3.8927 - mae: 3.8927\n",
            "Epoch 423/500\n",
            "2/2 [==============================] - 0s 8ms/step - loss: 22.2570 - mae: 22.2570\n",
            "Epoch 424/500\n",
            "2/2 [==============================] - 0s 17ms/step - loss: 9.8205 - mae: 9.8205\n",
            "Epoch 425/500\n",
            "2/2 [==============================] - 0s 4ms/step - loss: 8.1897 - mae: 8.1897\n",
            "Epoch 426/500\n",
            "2/2 [==============================] - 0s 4ms/step - loss: 5.0789 - mae: 5.0789\n",
            "Epoch 427/500\n",
            "2/2 [==============================] - 0s 8ms/step - loss: 15.5144 - mae: 15.5144\n",
            "Epoch 428/500\n",
            "2/2 [==============================] - 0s 8ms/step - loss: 16.8760 - mae: 16.8760\n",
            "Epoch 429/500\n",
            "2/2 [==============================] - 0s 19ms/step - loss: 16.0685 - mae: 16.0685\n",
            "Epoch 430/500\n",
            "2/2 [==============================] - 0s 8ms/step - loss: 20.6792 - mae: 20.6792\n",
            "Epoch 431/500\n",
            "2/2 [==============================] - 0s 9ms/step - loss: 28.2115 - mae: 28.2115\n",
            "Epoch 432/500\n",
            "2/2 [==============================] - 0s 6ms/step - loss: 11.6270 - mae: 11.6270\n",
            "Epoch 433/500\n",
            "2/2 [==============================] - 0s 3ms/step - loss: 10.1595 - mae: 10.1595\n",
            "Epoch 434/500\n",
            "2/2 [==============================] - 0s 6ms/step - loss: 16.6650 - mae: 16.6650\n",
            "Epoch 435/500\n",
            "2/2 [==============================] - 0s 4ms/step - loss: 13.5583 - mae: 13.5583\n",
            "Epoch 436/500\n",
            "2/2 [==============================] - 0s 4ms/step - loss: 18.9865 - mae: 18.9865\n",
            "Epoch 437/500\n",
            "2/2 [==============================] - 0s 5ms/step - loss: 9.8936 - mae: 9.8936\n",
            "Epoch 438/500\n",
            "2/2 [==============================] - 0s 6ms/step - loss: 11.2120 - mae: 11.2120\n",
            "Epoch 439/500\n",
            "2/2 [==============================] - 0s 7ms/step - loss: 8.4141 - mae: 8.4141\n",
            "Epoch 440/500\n",
            "2/2 [==============================] - 0s 7ms/step - loss: 27.5003 - mae: 27.5003\n",
            "Epoch 441/500\n",
            "2/2 [==============================] - 0s 15ms/step - loss: 9.8928 - mae: 9.8928\n",
            "Epoch 442/500\n",
            "2/2 [==============================] - 0s 6ms/step - loss: 12.7327 - mae: 12.7327\n",
            "Epoch 443/500\n",
            "2/2 [==============================] - 0s 13ms/step - loss: 7.8909 - mae: 7.8909\n",
            "Epoch 444/500\n",
            "2/2 [==============================] - 0s 8ms/step - loss: 19.3366 - mae: 19.3366\n",
            "Epoch 445/500\n",
            "2/2 [==============================] - 0s 4ms/step - loss: 5.5135 - mae: 5.5135\n",
            "Epoch 446/500\n",
            "2/2 [==============================] - 0s 11ms/step - loss: 27.8678 - mae: 27.8678\n",
            "Epoch 447/500\n",
            "2/2 [==============================] - 0s 11ms/step - loss: 6.6128 - mae: 6.6128\n",
            "Epoch 448/500\n",
            "2/2 [==============================] - 0s 4ms/step - loss: 15.8217 - mae: 15.8217\n",
            "Epoch 449/500\n",
            "2/2 [==============================] - 0s 7ms/step - loss: 6.9254 - mae: 6.9254\n",
            "Epoch 450/500\n",
            "2/2 [==============================] - 0s 7ms/step - loss: 25.0371 - mae: 25.0371\n",
            "Epoch 451/500\n",
            "2/2 [==============================] - 0s 5ms/step - loss: 16.0633 - mae: 16.0633\n",
            "Epoch 452/500\n",
            "2/2 [==============================] - 0s 12ms/step - loss: 14.6904 - mae: 14.6904\n",
            "Epoch 453/500\n",
            "2/2 [==============================] - 0s 9ms/step - loss: 25.5332 - mae: 25.5332\n",
            "Epoch 454/500\n",
            "2/2 [==============================] - 0s 5ms/step - loss: 15.4620 - mae: 15.4620\n",
            "Epoch 455/500\n",
            "2/2 [==============================] - 0s 4ms/step - loss: 13.1574 - mae: 13.1574\n",
            "Epoch 456/500\n",
            "2/2 [==============================] - 0s 4ms/step - loss: 14.4401 - mae: 14.4401\n",
            "Epoch 457/500\n",
            "2/2 [==============================] - 0s 7ms/step - loss: 24.3761 - mae: 24.3761\n",
            "Epoch 458/500\n",
            "2/2 [==============================] - 0s 10ms/step - loss: 21.4359 - mae: 21.4359\n",
            "Epoch 459/500\n",
            "2/2 [==============================] - 0s 13ms/step - loss: 7.3613 - mae: 7.3613\n",
            "Epoch 460/500\n",
            "2/2 [==============================] - 0s 13ms/step - loss: 14.7233 - mae: 14.7233\n",
            "Epoch 461/500\n",
            "2/2 [==============================] - 0s 5ms/step - loss: 13.6556 - mae: 13.6556\n",
            "Epoch 462/500\n",
            "2/2 [==============================] - 0s 4ms/step - loss: 20.7068 - mae: 20.7068\n",
            "Epoch 463/500\n",
            "2/2 [==============================] - 0s 4ms/step - loss: 21.0813 - mae: 21.0813\n",
            "Epoch 464/500\n",
            "2/2 [==============================] - 0s 14ms/step - loss: 5.7620 - mae: 5.7620\n",
            "Epoch 465/500\n",
            "2/2 [==============================] - 0s 15ms/step - loss: 16.4890 - mae: 16.4890\n",
            "Epoch 466/500\n",
            "2/2 [==============================] - 0s 22ms/step - loss: 10.0887 - mae: 10.0887\n",
            "Epoch 467/500\n",
            "2/2 [==============================] - 0s 11ms/step - loss: 9.4308 - mae: 9.4308\n",
            "Epoch 468/500\n",
            "2/2 [==============================] - 0s 35ms/step - loss: 16.0311 - mae: 16.0311\n",
            "Epoch 469/500\n",
            "2/2 [==============================] - 0s 20ms/step - loss: 15.7463 - mae: 15.7463\n",
            "Epoch 470/500\n",
            "2/2 [==============================] - 0s 6ms/step - loss: 17.7922 - mae: 17.7922\n",
            "Epoch 471/500\n",
            "2/2 [==============================] - 0s 10ms/step - loss: 18.0099 - mae: 18.0099\n",
            "Epoch 472/500\n",
            "2/2 [==============================] - 0s 5ms/step - loss: 11.3997 - mae: 11.3997\n",
            "Epoch 473/500\n",
            "2/2 [==============================] - 0s 8ms/step - loss: 17.5431 - mae: 17.5431\n",
            "Epoch 474/500\n",
            "2/2 [==============================] - 0s 6ms/step - loss: 41.8415 - mae: 41.8415\n",
            "Epoch 475/500\n",
            "2/2 [==============================] - 0s 8ms/step - loss: 14.5488 - mae: 14.5488\n",
            "Epoch 476/500\n",
            "2/2 [==============================] - 0s 6ms/step - loss: 13.0528 - mae: 13.0528\n",
            "Epoch 477/500\n",
            "2/2 [==============================] - 0s 8ms/step - loss: 18.6778 - mae: 18.6778\n",
            "Epoch 478/500\n",
            "2/2 [==============================] - 0s 8ms/step - loss: 28.2152 - mae: 28.2152\n",
            "Epoch 479/500\n",
            "2/2 [==============================] - 0s 7ms/step - loss: 8.4854 - mae: 8.4854\n",
            "Epoch 480/500\n",
            "2/2 [==============================] - 0s 3ms/step - loss: 13.9217 - mae: 13.9217\n",
            "Epoch 481/500\n",
            "2/2 [==============================] - 0s 7ms/step - loss: 15.2876 - mae: 15.2876\n",
            "Epoch 482/500\n",
            "2/2 [==============================] - 0s 8ms/step - loss: 25.5136 - mae: 25.5136\n",
            "Epoch 483/500\n",
            "2/2 [==============================] - 0s 13ms/step - loss: 13.5585 - mae: 13.5585\n",
            "Epoch 484/500\n",
            "2/2 [==============================] - 0s 5ms/step - loss: 13.6915 - mae: 13.6915\n",
            "Epoch 485/500\n",
            "2/2 [==============================] - 0s 7ms/step - loss: 23.0079 - mae: 23.0079\n",
            "Epoch 486/500\n",
            "2/2 [==============================] - 0s 8ms/step - loss: 26.6690 - mae: 26.6690\n",
            "Epoch 487/500\n",
            "2/2 [==============================] - 0s 17ms/step - loss: 6.5991 - mae: 6.5991\n",
            "Epoch 488/500\n",
            "2/2 [==============================] - 0s 7ms/step - loss: 35.8616 - mae: 35.8616\n",
            "Epoch 489/500\n",
            "2/2 [==============================] - 0s 12ms/step - loss: 11.4870 - mae: 11.4870\n",
            "Epoch 490/500\n",
            "2/2 [==============================] - 0s 10ms/step - loss: 19.0420 - mae: 19.0420\n",
            "Epoch 491/500\n",
            "2/2 [==============================] - 0s 9ms/step - loss: 23.1684 - mae: 23.1684\n",
            "Epoch 492/500\n",
            "2/2 [==============================] - 0s 8ms/step - loss: 6.2633 - mae: 6.2633\n",
            "Epoch 493/500\n",
            "2/2 [==============================] - 0s 6ms/step - loss: 13.8024 - mae: 13.8024\n",
            "Epoch 494/500\n",
            "2/2 [==============================] - 0s 7ms/step - loss: 6.7541 - mae: 6.7541\n",
            "Epoch 495/500\n",
            "2/2 [==============================] - 0s 8ms/step - loss: 14.6186 - mae: 14.6186\n",
            "Epoch 496/500\n",
            "2/2 [==============================] - 0s 15ms/step - loss: 7.8262 - mae: 7.8262\n",
            "Epoch 497/500\n",
            "2/2 [==============================] - 0s 9ms/step - loss: 7.2548 - mae: 7.2548\n",
            "Epoch 498/500\n",
            "2/2 [==============================] - 0s 8ms/step - loss: 23.4650 - mae: 23.4650\n",
            "Epoch 499/500\n",
            "2/2 [==============================] - 0s 7ms/step - loss: 6.3308 - mae: 6.3308\n",
            "Epoch 500/500\n",
            "2/2 [==============================] - 0s 9ms/step - loss: 14.5672 - mae: 14.5672\n"
          ],
          "name": "stdout"
        },
        {
          "output_type": "execute_result",
          "data": {
            "text/plain": [
              "<tensorflow.python.keras.callbacks.History at 0x7ff611f7a350>"
            ]
          },
          "metadata": {
            "tags": []
          },
          "execution_count": 49
        }
      ]
    },
    {
      "cell_type": "code",
      "metadata": {
        "colab": {
          "base_uri": "https://localhost:8080/",
          "height": 428
        },
        "id": "3hwC1fOxfuUE",
        "outputId": "3707fa73-02aa-4cc5-d232-9249ae6b8d4c"
      },
      "source": [
        "# Make and plot predictions\n",
        "y_preds_3 = model_3.predict(X_test)\n",
        "len(y_preds_3)\n",
        "plot_predictions(predictions=y_preds_3)"
      ],
      "execution_count": null,
      "outputs": [
        {
          "output_type": "display_data",
          "data": {
            "image/png": "[encoded data removed]",
            "text/plain": [
              "<Figure size 720x504 with 1 Axes>"
            ]
          },
          "metadata": {
            "tags": [],
            "needs_background": "light"
          }
        }
      ]
    },
    {
      "cell_type": "markdown",
      "metadata": {
        "id": "b-AL-Qxi7Fcs"
      },
      "source": [
        "Shows failure to converge..."
      ]
    },
    {
      "cell_type": "code",
      "metadata": {
        "id": "KeQevAq5f9bT",
        "colab": {
          "base_uri": "https://localhost:8080/"
        },
        "outputId": "6e847b24-85b9-40e3-9793-2e31aac68430"
      },
      "source": [
        "mae_3 = mae(y_test, y_preds_3)\n",
        "mse_3 = mse(y_test, y_preds_3)\n",
        "mae_3, mse_3\n"
      ],
      "execution_count": null,
      "outputs": [
        {
          "output_type": "execute_result",
          "data": {
            "text/plain": [
              "(<tf.Tensor: shape=(), dtype=float32, numpy=25.548985>,\n",
              " <tf.Tensor: shape=(), dtype=float32, numpy=662.62115>)"
            ]
          },
          "metadata": {
            "tags": []
          },
          "execution_count": 51
        }
      ]
    },
    {
      "cell_type": "markdown",
      "metadata": {
        "id": "8XzMnOGB64-l"
      },
      "source": [
        "### Comparing results of experiments"
      ]
    },
    {
      "cell_type": "code",
      "metadata": {
        "colab": {
          "base_uri": "https://localhost:8080/",
          "height": 143
        },
        "id": "TXSleQSp6_C8",
        "outputId": "8fd1349c-33ac-44b3-96b9-1993b2bbd0d8"
      },
      "source": [
        "import pandas as pd\n",
        "\n",
        "model_results = [[\"model_1\", mae_1.numpy(), mse_1.numpy()],\n",
        "                 [\"model_2\", mae_2.numpy(), mse_2.numpy()],\n",
        "                 [\"model_3\", mae_3.numpy(), mse_3.numpy()]]\n",
        "\n",
        "all_results = pd.DataFrame(model_results, columns=[\"model\", \"mae\", \"mse\"])\n",
        "all_results"
      ],
      "execution_count": null,
      "outputs": [
        {
          "output_type": "execute_result",
          "data": {
            "text/html": [
              "<div>\n",
              "<style scoped>\n",
              "    .dataframe tbody tr th:only-of-type {\n",
              "        vertical-align: middle;\n",
              "    }\n",
              "\n",
              "    .dataframe tbody tr th {\n",
              "        vertical-align: top;\n",
              "    }\n",
              "\n",
              "    .dataframe thead th {\n",
              "        text-align: right;\n",
              "    }\n",
              "</style>\n",
              "<table border=\"1\" class=\"dataframe\">\n",
              "  <thead>\n",
              "    <tr style=\"text-align: right;\">\n",
              "      <th></th>\n",
              "      <th>model</th>\n",
              "      <th>mae</th>\n",
              "      <th>mse</th>\n",
              "    </tr>\n",
              "  </thead>\n",
              "  <tbody>\n",
              "    <tr>\n",
              "      <th>0</th>\n",
              "      <td>model_1</td>\n",
              "      <td>1.170250</td>\n",
              "      <td>1.855222</td>\n",
              "    </tr>\n",
              "    <tr>\n",
              "      <th>1</th>\n",
              "      <td>model_2</td>\n",
              "      <td>6.808917</td>\n",
              "      <td>51.311596</td>\n",
              "    </tr>\n",
              "    <tr>\n",
              "      <th>2</th>\n",
              "      <td>model_3</td>\n",
              "      <td>25.548985</td>\n",
              "      <td>662.621155</td>\n",
              "    </tr>\n",
              "  </tbody>\n",
              "</table>\n",
              "</div>"
            ],
            "text/plain": [
              "     model        mae         mse\n",
              "0  model_1   1.170250    1.855222\n",
              "1  model_2   6.808917   51.311596\n",
              "2  model_3  25.548985  662.621155"
            ]
          },
          "metadata": {
            "tags": []
          },
          "execution_count": 54
        }
      ]
    },
    {
      "cell_type": "code",
      "metadata": {
        "colab": {
          "base_uri": "https://localhost:8080/"
        },
        "id": "urVwhpv98aPD",
        "outputId": "118c2ede-f149-4243-d348-cb737ec7b01e"
      },
      "source": [
        "model_1.summary()"
      ],
      "execution_count": null,
      "outputs": [
        {
          "output_type": "stream",
          "text": [
            "Model: \"sequential_5\"\n",
            "_________________________________________________________________\n",
            "Layer (type)                 Output Shape              Param #   \n",
            "=================================================================\n",
            "dense_6 (Dense)              (None, 1)                 2         \n",
            "=================================================================\n",
            "Total params: 2\n",
            "Trainable params: 2\n",
            "Non-trainable params: 0\n",
            "_________________________________________________________________\n"
          ],
          "name": "stdout"
        }
      ]
    },
    {
      "cell_type": "markdown",
      "metadata": {
        "id": "vpjCsCEg8cLc"
      },
      "source": [
        "One of the major goals is to limit time between experiments.\n",
        "\n",
        "## Tracking experiments\n",
        "\n",
        "One good habit is to track the results of our experiments. When doing so, it can be\n",
        "tedious, but fortunately there are tools to assist us.\n",
        "\n",
        "We will look into using:\n",
        "\n",
        "* [TensorBoard](https://www.tensorflow.org/tensorboard) - a component of TensorFlow library to help track modelling experiments \n",
        "* [Weights & Biases](https://wandb.ai/site) - a tool for tracking all kinds of machine learning experiments.\n",
        "\n",
        "## Saving our models\n",
        "\n",
        "Saving our models allows us to use them outside of Google Colab i.e. in a web application or mobile app\n",
        "\n",
        "There are two main formats we can save to:\n",
        "1. The SavedModel format\n",
        "2. The HDF5 format"
      ]
    },
    {
      "cell_type": "code",
      "metadata": {
        "id": "xQiVzfqK9450",
        "colab": {
          "base_uri": "https://localhost:8080/"
        },
        "outputId": "9574b4d6-c16b-471c-d334-567634609ce1"
      },
      "source": [
        "# Save model using SavedModel format\n",
        "model_1.save(\"best_model1_SavedModel\")\n"
      ],
      "execution_count": 57,
      "outputs": [
        {
          "output_type": "stream",
          "text": [
            "INFO:tensorflow:Assets written to: best_model1_SavedModel/assets\n"
          ],
          "name": "stdout"
        }
      ]
    },
    {
      "cell_type": "code",
      "metadata": {
        "id": "hGS8ZbVs_YRr"
      },
      "source": [
        "model_1.save(\"best_model1_SavedModel.h5\")"
      ],
      "execution_count": 58,
      "outputs": []
    },
    {
      "cell_type": "markdown",
      "metadata": {
        "id": "l9vo_Pyv_9Ws"
      },
      "source": [
        "## Loading in a saved model"
      ]
    },
    {
      "cell_type": "code",
      "metadata": {
        "colab": {
          "base_uri": "https://localhost:8080/"
        },
        "id": "y_4BVZTmAjmz",
        "outputId": "0090da9a-c995-4e78-8101-affa8c7beec5"
      },
      "source": [
        "# Load in SavedModel format model\n",
        "loaded_SavedModel = tf.keras.models.load_model(\"/content/best_model1_SavedModel\")\n",
        "loaded_SavedModel.summary()"
      ],
      "execution_count": 59,
      "outputs": [
        {
          "output_type": "stream",
          "text": [
            "Model: \"sequential_5\"\n",
            "_________________________________________________________________\n",
            "Layer (type)                 Output Shape              Param #   \n",
            "=================================================================\n",
            "dense_6 (Dense)              (None, 1)                 2         \n",
            "=================================================================\n",
            "Total params: 2\n",
            "Trainable params: 2\n",
            "Non-trainable params: 0\n",
            "_________________________________________________________________\n"
          ],
          "name": "stdout"
        }
      ]
    },
    {
      "cell_type": "code",
      "metadata": {
        "colab": {
          "base_uri": "https://localhost:8080/"
        },
        "id": "5NgCp5bpA2p7",
        "outputId": "e7f6fa31-e0d7-4b7b-9373-d5a9df7c818e"
      },
      "source": [
        "# Load model with .h5 format\n",
        "loaded_h5Model = tf.keras.models.load_model(\"/content/best_model1_SavedModel.h5\")\n",
        "loaded_h5Model.summary()"
      ],
      "execution_count": 60,
      "outputs": [
        {
          "output_type": "stream",
          "text": [
            "Model: \"sequential_5\"\n",
            "_________________________________________________________________\n",
            "Layer (type)                 Output Shape              Param #   \n",
            "=================================================================\n",
            "dense_6 (Dense)              (None, 1)                 2         \n",
            "=================================================================\n",
            "Total params: 2\n",
            "Trainable params: 2\n",
            "Non-trainable params: 0\n",
            "_________________________________________________________________\n"
          ],
          "name": "stdout"
        }
      ]
    },
    {
      "cell_type": "markdown",
      "metadata": {
        "id": "6M9BuzOHCD7s"
      },
      "source": [
        "## Download a model (or any other file) from Google Colab\n",
        "\n",
        "If you want to download your files from Google Colab:\n",
        "1. Download directly from 'files' tab\n",
        "2. Use code below\n",
        "3. Save to Google Drive by mounting drive and copying it"
      ]
    },
    {
      "cell_type": "code",
      "metadata": {
        "colab": {
          "base_uri": "https://localhost:8080/",
          "height": 17
        },
        "id": "b_GpK3H1DNLL",
        "outputId": "7cdd87a2-2bca-43da-ae17-28ed56b04ffb"
      },
      "source": [
        "# Download file from Colab\n",
        "from google.colab import files\n",
        "files.download('/content/best_model1_SavedModel.h5')"
      ],
      "execution_count": 62,
      "outputs": [
        {
          "output_type": "display_data",
          "data": {
            "application/javascript": [
              "\n",
              "    async function download(id, filename, size) {\n",
              "      if (!google.colab.kernel.accessAllowed) {\n",
              "        return;\n",
              "      }\n",
              "      const div = document.createElement('div');\n",
              "      const label = document.createElement('label');\n",
              "      label.textContent = `Downloading \"${filename}\": `;\n",
              "      div.appendChild(label);\n",
              "      const progress = document.createElement('progress');\n",
              "      progress.max = size;\n",
              "      div.appendChild(progress);\n",
              "      document.body.appendChild(div);\n",
              "\n",
              "      const buffers = [];\n",
              "      let downloaded = 0;\n",
              "\n",
              "      const channel = await google.colab.kernel.comms.open(id);\n",
              "      // Send a message to notify the kernel that we're ready.\n",
              "      channel.send({})\n",
              "\n",
              "      for await (const message of channel.messages) {\n",
              "        // Send a message to notify the kernel that we're ready.\n",
              "        channel.send({})\n",
              "        if (message.buffers) {\n",
              "          for (const buffer of message.buffers) {\n",
              "            buffers.push(buffer);\n",
              "            downloaded += buffer.byteLength;\n",
              "            progress.value = downloaded;\n",
              "          }\n",
              "        }\n",
              "      }\n",
              "      const blob = new Blob(buffers, {type: 'application/binary'});\n",
              "      const a = document.createElement('a');\n",
              "      a.href = window.URL.createObjectURL(blob);\n",
              "      a.download = filename;\n",
              "      div.appendChild(a);\n",
              "      a.click();\n",
              "      div.remove();\n",
              "    }\n",
              "  "
            ],
            "text/plain": [
              "<IPython.core.display.Javascript object>"
            ]
          },
          "metadata": {
            "tags": []
          }
        },
        {
          "output_type": "display_data",
          "data": {
            "application/javascript": [
              "download(\"download_d2aa6ef3-903d-4457-9c1f-d821f5d71fb1\", \"best_model1_SavedModel.h5\", 14232)"
            ],
            "text/plain": [
              "<IPython.core.display.Javascript object>"
            ]
          },
          "metadata": {
            "tags": []
          }
        }
      ]
    },
    {
      "cell_type": "code",
      "metadata": {
        "id": "dRTreMvsDVBb"
      },
      "source": [
        "# Save a file from Colab to Drive\n",
        "!cp /content/best_model1_SavedModel.h5 /content/drive/MyDrive/Machine_Learning"
      ],
      "execution_count": 63,
      "outputs": []
    },
    {
      "cell_type": "code",
      "metadata": {
        "colab": {
          "base_uri": "https://localhost:8080/"
        },
        "id": "HNEtyvZWFnJb",
        "outputId": "25ef0fe5-d691-475a-eeb5-59935542f36e"
      },
      "source": [
        "!ls /content/drive/MyDrive/Machine_Learning"
      ],
      "execution_count": 64,
      "outputs": [
        {
          "output_type": "stream",
          "text": [
            "best_model1_SavedModel.h5\n"
          ],
          "name": "stdout"
        }
      ]
    },
    {
      "cell_type": "code",
      "metadata": {
        "id": "Os0Z0HI0Fqb7"
      },
      "source": [
        "# Import required libraries\n",
        "import tensorflow as tf\n",
        "import pandas as pd\n",
        "import matplotlib.pyplot as plt"
      ],
      "execution_count": 65,
      "outputs": []
    },
    {
      "cell_type": "code",
      "metadata": {
        "id": "zWRQzsUDGk4T"
      },
      "source": [
        "# Read in insurance dataset\n",
        "insurance = pd.read_csv('https://raw.githubusercontent.com/stedy/Machine-Learning-with-R-datasets/master/insurance.csv')"
      ],
      "execution_count": 68,
      "outputs": []
    },
    {
      "cell_type": "code",
      "metadata": {
        "colab": {
          "base_uri": "https://localhost:8080/",
          "height": 424
        },
        "id": "H_T3m9niIHOD",
        "outputId": "492d2507-f09e-4cf2-ba82-0577e1fc420f"
      },
      "source": [
        "insurance"
      ],
      "execution_count": 69,
      "outputs": [
        {
          "output_type": "execute_result",
          "data": {
            "text/html": [
              "<div>\n",
              "<style scoped>\n",
              "    .dataframe tbody tr th:only-of-type {\n",
              "        vertical-align: middle;\n",
              "    }\n",
              "\n",
              "    .dataframe tbody tr th {\n",
              "        vertical-align: top;\n",
              "    }\n",
              "\n",
              "    .dataframe thead th {\n",
              "        text-align: right;\n",
              "    }\n",
              "</style>\n",
              "<table border=\"1\" class=\"dataframe\">\n",
              "  <thead>\n",
              "    <tr style=\"text-align: right;\">\n",
              "      <th></th>\n",
              "      <th>age</th>\n",
              "      <th>sex</th>\n",
              "      <th>bmi</th>\n",
              "      <th>children</th>\n",
              "      <th>smoker</th>\n",
              "      <th>region</th>\n",
              "      <th>charges</th>\n",
              "    </tr>\n",
              "  </thead>\n",
              "  <tbody>\n",
              "    <tr>\n",
              "      <th>0</th>\n",
              "      <td>19</td>\n",
              "      <td>female</td>\n",
              "      <td>27.900</td>\n",
              "      <td>0</td>\n",
              "      <td>yes</td>\n",
              "      <td>southwest</td>\n",
              "      <td>16884.92400</td>\n",
              "    </tr>\n",
              "    <tr>\n",
              "      <th>1</th>\n",
              "      <td>18</td>\n",
              "      <td>male</td>\n",
              "      <td>33.770</td>\n",
              "      <td>1</td>\n",
              "      <td>no</td>\n",
              "      <td>southeast</td>\n",
              "      <td>1725.55230</td>\n",
              "    </tr>\n",
              "    <tr>\n",
              "      <th>2</th>\n",
              "      <td>28</td>\n",
              "      <td>male</td>\n",
              "      <td>33.000</td>\n",
              "      <td>3</td>\n",
              "      <td>no</td>\n",
              "      <td>southeast</td>\n",
              "      <td>4449.46200</td>\n",
              "    </tr>\n",
              "    <tr>\n",
              "      <th>3</th>\n",
              "      <td>33</td>\n",
              "      <td>male</td>\n",
              "      <td>22.705</td>\n",
              "      <td>0</td>\n",
              "      <td>no</td>\n",
              "      <td>northwest</td>\n",
              "      <td>21984.47061</td>\n",
              "    </tr>\n",
              "    <tr>\n",
              "      <th>4</th>\n",
              "      <td>32</td>\n",
              "      <td>male</td>\n",
              "      <td>28.880</td>\n",
              "      <td>0</td>\n",
              "      <td>no</td>\n",
              "      <td>northwest</td>\n",
              "      <td>3866.85520</td>\n",
              "    </tr>\n",
              "    <tr>\n",
              "      <th>...</th>\n",
              "      <td>...</td>\n",
              "      <td>...</td>\n",
              "      <td>...</td>\n",
              "      <td>...</td>\n",
              "      <td>...</td>\n",
              "      <td>...</td>\n",
              "      <td>...</td>\n",
              "    </tr>\n",
              "    <tr>\n",
              "      <th>1333</th>\n",
              "      <td>50</td>\n",
              "      <td>male</td>\n",
              "      <td>30.970</td>\n",
              "      <td>3</td>\n",
              "      <td>no</td>\n",
              "      <td>northwest</td>\n",
              "      <td>10600.54830</td>\n",
              "    </tr>\n",
              "    <tr>\n",
              "      <th>1334</th>\n",
              "      <td>18</td>\n",
              "      <td>female</td>\n",
              "      <td>31.920</td>\n",
              "      <td>0</td>\n",
              "      <td>no</td>\n",
              "      <td>northeast</td>\n",
              "      <td>2205.98080</td>\n",
              "    </tr>\n",
              "    <tr>\n",
              "      <th>1335</th>\n",
              "      <td>18</td>\n",
              "      <td>female</td>\n",
              "      <td>36.850</td>\n",
              "      <td>0</td>\n",
              "      <td>no</td>\n",
              "      <td>southeast</td>\n",
              "      <td>1629.83350</td>\n",
              "    </tr>\n",
              "    <tr>\n",
              "      <th>1336</th>\n",
              "      <td>21</td>\n",
              "      <td>female</td>\n",
              "      <td>25.800</td>\n",
              "      <td>0</td>\n",
              "      <td>no</td>\n",
              "      <td>southwest</td>\n",
              "      <td>2007.94500</td>\n",
              "    </tr>\n",
              "    <tr>\n",
              "      <th>1337</th>\n",
              "      <td>61</td>\n",
              "      <td>female</td>\n",
              "      <td>29.070</td>\n",
              "      <td>0</td>\n",
              "      <td>yes</td>\n",
              "      <td>northwest</td>\n",
              "      <td>29141.36030</td>\n",
              "    </tr>\n",
              "  </tbody>\n",
              "</table>\n",
              "<p>1338 rows × 7 columns</p>\n",
              "</div>"
            ],
            "text/plain": [
              "      age     sex     bmi  children smoker     region      charges\n",
              "0      19  female  27.900         0    yes  southwest  16884.92400\n",
              "1      18    male  33.770         1     no  southeast   1725.55230\n",
              "2      28    male  33.000         3     no  southeast   4449.46200\n",
              "3      33    male  22.705         0     no  northwest  21984.47061\n",
              "4      32    male  28.880         0     no  northwest   3866.85520\n",
              "...   ...     ...     ...       ...    ...        ...          ...\n",
              "1333   50    male  30.970         3     no  northwest  10600.54830\n",
              "1334   18  female  31.920         0     no  northeast   2205.98080\n",
              "1335   18  female  36.850         0     no  southeast   1629.83350\n",
              "1336   21  female  25.800         0     no  southwest   2007.94500\n",
              "1337   61  female  29.070         0    yes  northwest  29141.36030\n",
              "\n",
              "[1338 rows x 7 columns]"
            ]
          },
          "metadata": {
            "tags": []
          },
          "execution_count": 69
        }
      ]
    },
    {
      "cell_type": "code",
      "metadata": {
        "colab": {
          "base_uri": "https://localhost:8080/"
        },
        "id": "CLYcdmOvIT0L",
        "outputId": "c04fbf0e-28b4-49c2-f6cb-797d0c68fa33"
      },
      "source": [
        "insurance['age'], insurance['smoker']"
      ],
      "execution_count": 71,
      "outputs": [
        {
          "output_type": "execute_result",
          "data": {
            "text/plain": [
              "(0       19\n",
              " 1       18\n",
              " 2       28\n",
              " 3       33\n",
              " 4       32\n",
              "         ..\n",
              " 1333    50\n",
              " 1334    18\n",
              " 1335    18\n",
              " 1336    21\n",
              " 1337    61\n",
              " Name: age, Length: 1338, dtype: int64, 0       yes\n",
              " 1        no\n",
              " 2        no\n",
              " 3        no\n",
              " 4        no\n",
              "        ... \n",
              " 1333     no\n",
              " 1334     no\n",
              " 1335     no\n",
              " 1336     no\n",
              " 1337    yes\n",
              " Name: smoker, Length: 1338, dtype: object)"
            ]
          },
          "metadata": {
            "tags": []
          },
          "execution_count": 71
        }
      ]
    },
    {
      "cell_type": "code",
      "metadata": {
        "colab": {
          "base_uri": "https://localhost:8080/",
          "height": 444
        },
        "id": "-fJtb_WXIbzj",
        "outputId": "efa2e071-5f36-43f9-ad32-fd3a2c0e38b3"
      },
      "source": [
        "# One-hot encode our DataFrame so columns are all numbers\n",
        "insurance_one_hot = pd.get_dummies(insurance)\n",
        "insurance_one_hot"
      ],
      "execution_count": 74,
      "outputs": [
        {
          "output_type": "execute_result",
          "data": {
            "text/html": [
              "<div>\n",
              "<style scoped>\n",
              "    .dataframe tbody tr th:only-of-type {\n",
              "        vertical-align: middle;\n",
              "    }\n",
              "\n",
              "    .dataframe tbody tr th {\n",
              "        vertical-align: top;\n",
              "    }\n",
              "\n",
              "    .dataframe thead th {\n",
              "        text-align: right;\n",
              "    }\n",
              "</style>\n",
              "<table border=\"1\" class=\"dataframe\">\n",
              "  <thead>\n",
              "    <tr style=\"text-align: right;\">\n",
              "      <th></th>\n",
              "      <th>age</th>\n",
              "      <th>bmi</th>\n",
              "      <th>children</th>\n",
              "      <th>charges</th>\n",
              "      <th>sex_female</th>\n",
              "      <th>sex_male</th>\n",
              "      <th>smoker_no</th>\n",
              "      <th>smoker_yes</th>\n",
              "      <th>region_northeast</th>\n",
              "      <th>region_northwest</th>\n",
              "      <th>region_southeast</th>\n",
              "      <th>region_southwest</th>\n",
              "    </tr>\n",
              "  </thead>\n",
              "  <tbody>\n",
              "    <tr>\n",
              "      <th>0</th>\n",
              "      <td>19</td>\n",
              "      <td>27.900</td>\n",
              "      <td>0</td>\n",
              "      <td>16884.92400</td>\n",
              "      <td>1</td>\n",
              "      <td>0</td>\n",
              "      <td>0</td>\n",
              "      <td>1</td>\n",
              "      <td>0</td>\n",
              "      <td>0</td>\n",
              "      <td>0</td>\n",
              "      <td>1</td>\n",
              "    </tr>\n",
              "    <tr>\n",
              "      <th>1</th>\n",
              "      <td>18</td>\n",
              "      <td>33.770</td>\n",
              "      <td>1</td>\n",
              "      <td>1725.55230</td>\n",
              "      <td>0</td>\n",
              "      <td>1</td>\n",
              "      <td>1</td>\n",
              "      <td>0</td>\n",
              "      <td>0</td>\n",
              "      <td>0</td>\n",
              "      <td>1</td>\n",
              "      <td>0</td>\n",
              "    </tr>\n",
              "    <tr>\n",
              "      <th>2</th>\n",
              "      <td>28</td>\n",
              "      <td>33.000</td>\n",
              "      <td>3</td>\n",
              "      <td>4449.46200</td>\n",
              "      <td>0</td>\n",
              "      <td>1</td>\n",
              "      <td>1</td>\n",
              "      <td>0</td>\n",
              "      <td>0</td>\n",
              "      <td>0</td>\n",
              "      <td>1</td>\n",
              "      <td>0</td>\n",
              "    </tr>\n",
              "    <tr>\n",
              "      <th>3</th>\n",
              "      <td>33</td>\n",
              "      <td>22.705</td>\n",
              "      <td>0</td>\n",
              "      <td>21984.47061</td>\n",
              "      <td>0</td>\n",
              "      <td>1</td>\n",
              "      <td>1</td>\n",
              "      <td>0</td>\n",
              "      <td>0</td>\n",
              "      <td>1</td>\n",
              "      <td>0</td>\n",
              "      <td>0</td>\n",
              "    </tr>\n",
              "    <tr>\n",
              "      <th>4</th>\n",
              "      <td>32</td>\n",
              "      <td>28.880</td>\n",
              "      <td>0</td>\n",
              "      <td>3866.85520</td>\n",
              "      <td>0</td>\n",
              "      <td>1</td>\n",
              "      <td>1</td>\n",
              "      <td>0</td>\n",
              "      <td>0</td>\n",
              "      <td>1</td>\n",
              "      <td>0</td>\n",
              "      <td>0</td>\n",
              "    </tr>\n",
              "    <tr>\n",
              "      <th>...</th>\n",
              "      <td>...</td>\n",
              "      <td>...</td>\n",
              "      <td>...</td>\n",
              "      <td>...</td>\n",
              "      <td>...</td>\n",
              "      <td>...</td>\n",
              "      <td>...</td>\n",
              "      <td>...</td>\n",
              "      <td>...</td>\n",
              "      <td>...</td>\n",
              "      <td>...</td>\n",
              "      <td>...</td>\n",
              "    </tr>\n",
              "    <tr>\n",
              "      <th>1333</th>\n",
              "      <td>50</td>\n",
              "      <td>30.970</td>\n",
              "      <td>3</td>\n",
              "      <td>10600.54830</td>\n",
              "      <td>0</td>\n",
              "      <td>1</td>\n",
              "      <td>1</td>\n",
              "      <td>0</td>\n",
              "      <td>0</td>\n",
              "      <td>1</td>\n",
              "      <td>0</td>\n",
              "      <td>0</td>\n",
              "    </tr>\n",
              "    <tr>\n",
              "      <th>1334</th>\n",
              "      <td>18</td>\n",
              "      <td>31.920</td>\n",
              "      <td>0</td>\n",
              "      <td>2205.98080</td>\n",
              "      <td>1</td>\n",
              "      <td>0</td>\n",
              "      <td>1</td>\n",
              "      <td>0</td>\n",
              "      <td>1</td>\n",
              "      <td>0</td>\n",
              "      <td>0</td>\n",
              "      <td>0</td>\n",
              "    </tr>\n",
              "    <tr>\n",
              "      <th>1335</th>\n",
              "      <td>18</td>\n",
              "      <td>36.850</td>\n",
              "      <td>0</td>\n",
              "      <td>1629.83350</td>\n",
              "      <td>1</td>\n",
              "      <td>0</td>\n",
              "      <td>1</td>\n",
              "      <td>0</td>\n",
              "      <td>0</td>\n",
              "      <td>0</td>\n",
              "      <td>1</td>\n",
              "      <td>0</td>\n",
              "    </tr>\n",
              "    <tr>\n",
              "      <th>1336</th>\n",
              "      <td>21</td>\n",
              "      <td>25.800</td>\n",
              "      <td>0</td>\n",
              "      <td>2007.94500</td>\n",
              "      <td>1</td>\n",
              "      <td>0</td>\n",
              "      <td>1</td>\n",
              "      <td>0</td>\n",
              "      <td>0</td>\n",
              "      <td>0</td>\n",
              "      <td>0</td>\n",
              "      <td>1</td>\n",
              "    </tr>\n",
              "    <tr>\n",
              "      <th>1337</th>\n",
              "      <td>61</td>\n",
              "      <td>29.070</td>\n",
              "      <td>0</td>\n",
              "      <td>29141.36030</td>\n",
              "      <td>1</td>\n",
              "      <td>0</td>\n",
              "      <td>0</td>\n",
              "      <td>1</td>\n",
              "      <td>0</td>\n",
              "      <td>1</td>\n",
              "      <td>0</td>\n",
              "      <td>0</td>\n",
              "    </tr>\n",
              "  </tbody>\n",
              "</table>\n",
              "<p>1338 rows × 12 columns</p>\n",
              "</div>"
            ],
            "text/plain": [
              "      age     bmi  ...  region_southeast  region_southwest\n",
              "0      19  27.900  ...                 0                 1\n",
              "1      18  33.770  ...                 1                 0\n",
              "2      28  33.000  ...                 1                 0\n",
              "3      33  22.705  ...                 0                 0\n",
              "4      32  28.880  ...                 0                 0\n",
              "...   ...     ...  ...               ...               ...\n",
              "1333   50  30.970  ...                 0                 0\n",
              "1334   18  31.920  ...                 0                 0\n",
              "1335   18  36.850  ...                 1                 0\n",
              "1336   21  25.800  ...                 0                 1\n",
              "1337   61  29.070  ...                 0                 0\n",
              "\n",
              "[1338 rows x 12 columns]"
            ]
          },
          "metadata": {
            "tags": []
          },
          "execution_count": 74
        }
      ]
    },
    {
      "cell_type": "code",
      "metadata": {
        "id": "DqMF7kVTJ3RC"
      },
      "source": [
        "# Create X & y values (features and labels)\n",
        "X = insurance_one_hot.drop(\"charges\", axis=1)\n",
        "y = insurance_one_hot['charges']"
      ],
      "execution_count": 81,
      "outputs": []
    },
    {
      "cell_type": "code",
      "metadata": {
        "colab": {
          "base_uri": "https://localhost:8080/",
          "height": 226
        },
        "id": "0T_Ii7cnMZ5q",
        "outputId": "f5c647ba-e9ef-47b9-97aa-ab7ba9bc593b"
      },
      "source": [
        "# View X\n",
        "X.head()"
      ],
      "execution_count": 82,
      "outputs": [
        {
          "output_type": "execute_result",
          "data": {
            "text/html": [
              "<div>\n",
              "<style scoped>\n",
              "    .dataframe tbody tr th:only-of-type {\n",
              "        vertical-align: middle;\n",
              "    }\n",
              "\n",
              "    .dataframe tbody tr th {\n",
              "        vertical-align: top;\n",
              "    }\n",
              "\n",
              "    .dataframe thead th {\n",
              "        text-align: right;\n",
              "    }\n",
              "</style>\n",
              "<table border=\"1\" class=\"dataframe\">\n",
              "  <thead>\n",
              "    <tr style=\"text-align: right;\">\n",
              "      <th></th>\n",
              "      <th>age</th>\n",
              "      <th>bmi</th>\n",
              "      <th>children</th>\n",
              "      <th>sex_female</th>\n",
              "      <th>sex_male</th>\n",
              "      <th>smoker_no</th>\n",
              "      <th>smoker_yes</th>\n",
              "      <th>region_northeast</th>\n",
              "      <th>region_northwest</th>\n",
              "      <th>region_southeast</th>\n",
              "      <th>region_southwest</th>\n",
              "    </tr>\n",
              "  </thead>\n",
              "  <tbody>\n",
              "    <tr>\n",
              "      <th>0</th>\n",
              "      <td>19</td>\n",
              "      <td>27.900</td>\n",
              "      <td>0</td>\n",
              "      <td>1</td>\n",
              "      <td>0</td>\n",
              "      <td>0</td>\n",
              "      <td>1</td>\n",
              "      <td>0</td>\n",
              "      <td>0</td>\n",
              "      <td>0</td>\n",
              "      <td>1</td>\n",
              "    </tr>\n",
              "    <tr>\n",
              "      <th>1</th>\n",
              "      <td>18</td>\n",
              "      <td>33.770</td>\n",
              "      <td>1</td>\n",
              "      <td>0</td>\n",
              "      <td>1</td>\n",
              "      <td>1</td>\n",
              "      <td>0</td>\n",
              "      <td>0</td>\n",
              "      <td>0</td>\n",
              "      <td>1</td>\n",
              "      <td>0</td>\n",
              "    </tr>\n",
              "    <tr>\n",
              "      <th>2</th>\n",
              "      <td>28</td>\n",
              "      <td>33.000</td>\n",
              "      <td>3</td>\n",
              "      <td>0</td>\n",
              "      <td>1</td>\n",
              "      <td>1</td>\n",
              "      <td>0</td>\n",
              "      <td>0</td>\n",
              "      <td>0</td>\n",
              "      <td>1</td>\n",
              "      <td>0</td>\n",
              "    </tr>\n",
              "    <tr>\n",
              "      <th>3</th>\n",
              "      <td>33</td>\n",
              "      <td>22.705</td>\n",
              "      <td>0</td>\n",
              "      <td>0</td>\n",
              "      <td>1</td>\n",
              "      <td>1</td>\n",
              "      <td>0</td>\n",
              "      <td>0</td>\n",
              "      <td>1</td>\n",
              "      <td>0</td>\n",
              "      <td>0</td>\n",
              "    </tr>\n",
              "    <tr>\n",
              "      <th>4</th>\n",
              "      <td>32</td>\n",
              "      <td>28.880</td>\n",
              "      <td>0</td>\n",
              "      <td>0</td>\n",
              "      <td>1</td>\n",
              "      <td>1</td>\n",
              "      <td>0</td>\n",
              "      <td>0</td>\n",
              "      <td>1</td>\n",
              "      <td>0</td>\n",
              "      <td>0</td>\n",
              "    </tr>\n",
              "  </tbody>\n",
              "</table>\n",
              "</div>"
            ],
            "text/plain": [
              "   age     bmi  children  ...  region_northwest  region_southeast  region_southwest\n",
              "0   19  27.900         0  ...                 0                 0                 1\n",
              "1   18  33.770         1  ...                 0                 1                 0\n",
              "2   28  33.000         3  ...                 0                 1                 0\n",
              "3   33  22.705         0  ...                 1                 0                 0\n",
              "4   32  28.880         0  ...                 1                 0                 0\n",
              "\n",
              "[5 rows x 11 columns]"
            ]
          },
          "metadata": {
            "tags": []
          },
          "execution_count": 82
        }
      ]
    },
    {
      "cell_type": "code",
      "metadata": {
        "colab": {
          "base_uri": "https://localhost:8080/"
        },
        "id": "FQHX39fQMaFK",
        "outputId": "7cae9bcb-b9d3-4794-8a03-ad21a5ba6baf"
      },
      "source": [
        "# View y\n",
        "y.head()"
      ],
      "execution_count": 83,
      "outputs": [
        {
          "output_type": "execute_result",
          "data": {
            "text/plain": [
              "0    16884.92400\n",
              "1     1725.55230\n",
              "2     4449.46200\n",
              "3    21984.47061\n",
              "4     3866.85520\n",
              "Name: charges, dtype: float64"
            ]
          },
          "metadata": {
            "tags": []
          },
          "execution_count": 83
        }
      ]
    },
    {
      "cell_type": "code",
      "metadata": {
        "colab": {
          "base_uri": "https://localhost:8080/"
        },
        "id": "qmiD-4TpMAg7",
        "outputId": "dca83fec-2e9f-4ab1-9c19-54ab159c0e37"
      },
      "source": [
        "# Create training and test sets\n",
        "from sklearn.model_selection import train_test_split\n",
        "X_train, X_test, y_train, y_test = train_test_split(X, y, test_size=0.2, random_state=18)\n",
        "\n",
        "# Check size of sets\n",
        "len(X), len(X_train), len(X_test)"
      ],
      "execution_count": 84,
      "outputs": [
        {
          "output_type": "execute_result",
          "data": {
            "text/plain": [
              "(1338, 1070, 268)"
            ]
          },
          "metadata": {
            "tags": []
          },
          "execution_count": 84
        }
      ]
    },
    {
      "cell_type": "code",
      "metadata": {
        "colab": {
          "base_uri": "https://localhost:8080/",
          "height": 226
        },
        "id": "jGyHOB2BPL0r",
        "outputId": "000ebf80-ba75-4a07-b12e-996f9c47db75"
      },
      "source": [
        "X_train.head()"
      ],
      "execution_count": 85,
      "outputs": [
        {
          "output_type": "execute_result",
          "data": {
            "text/html": [
              "<div>\n",
              "<style scoped>\n",
              "    .dataframe tbody tr th:only-of-type {\n",
              "        vertical-align: middle;\n",
              "    }\n",
              "\n",
              "    .dataframe tbody tr th {\n",
              "        vertical-align: top;\n",
              "    }\n",
              "\n",
              "    .dataframe thead th {\n",
              "        text-align: right;\n",
              "    }\n",
              "</style>\n",
              "<table border=\"1\" class=\"dataframe\">\n",
              "  <thead>\n",
              "    <tr style=\"text-align: right;\">\n",
              "      <th></th>\n",
              "      <th>age</th>\n",
              "      <th>bmi</th>\n",
              "      <th>children</th>\n",
              "      <th>sex_female</th>\n",
              "      <th>sex_male</th>\n",
              "      <th>smoker_no</th>\n",
              "      <th>smoker_yes</th>\n",
              "      <th>region_northeast</th>\n",
              "      <th>region_northwest</th>\n",
              "      <th>region_southeast</th>\n",
              "      <th>region_southwest</th>\n",
              "    </tr>\n",
              "  </thead>\n",
              "  <tbody>\n",
              "    <tr>\n",
              "      <th>1153</th>\n",
              "      <td>35</td>\n",
              "      <td>35.815</td>\n",
              "      <td>1</td>\n",
              "      <td>1</td>\n",
              "      <td>0</td>\n",
              "      <td>1</td>\n",
              "      <td>0</td>\n",
              "      <td>0</td>\n",
              "      <td>1</td>\n",
              "      <td>0</td>\n",
              "      <td>0</td>\n",
              "    </tr>\n",
              "    <tr>\n",
              "      <th>1100</th>\n",
              "      <td>33</td>\n",
              "      <td>19.095</td>\n",
              "      <td>2</td>\n",
              "      <td>1</td>\n",
              "      <td>0</td>\n",
              "      <td>0</td>\n",
              "      <td>1</td>\n",
              "      <td>1</td>\n",
              "      <td>0</td>\n",
              "      <td>0</td>\n",
              "      <td>0</td>\n",
              "    </tr>\n",
              "    <tr>\n",
              "      <th>661</th>\n",
              "      <td>57</td>\n",
              "      <td>23.980</td>\n",
              "      <td>1</td>\n",
              "      <td>1</td>\n",
              "      <td>0</td>\n",
              "      <td>1</td>\n",
              "      <td>0</td>\n",
              "      <td>0</td>\n",
              "      <td>0</td>\n",
              "      <td>1</td>\n",
              "      <td>0</td>\n",
              "    </tr>\n",
              "    <tr>\n",
              "      <th>147</th>\n",
              "      <td>51</td>\n",
              "      <td>37.730</td>\n",
              "      <td>1</td>\n",
              "      <td>1</td>\n",
              "      <td>0</td>\n",
              "      <td>1</td>\n",
              "      <td>0</td>\n",
              "      <td>0</td>\n",
              "      <td>0</td>\n",
              "      <td>1</td>\n",
              "      <td>0</td>\n",
              "    </tr>\n",
              "    <tr>\n",
              "      <th>534</th>\n",
              "      <td>64</td>\n",
              "      <td>40.480</td>\n",
              "      <td>0</td>\n",
              "      <td>0</td>\n",
              "      <td>1</td>\n",
              "      <td>1</td>\n",
              "      <td>0</td>\n",
              "      <td>0</td>\n",
              "      <td>0</td>\n",
              "      <td>1</td>\n",
              "      <td>0</td>\n",
              "    </tr>\n",
              "  </tbody>\n",
              "</table>\n",
              "</div>"
            ],
            "text/plain": [
              "      age     bmi  ...  region_southeast  region_southwest\n",
              "1153   35  35.815  ...                 0                 0\n",
              "1100   33  19.095  ...                 0                 0\n",
              "661    57  23.980  ...                 1                 0\n",
              "147    51  37.730  ...                 1                 0\n",
              "534    64  40.480  ...                 1                 0\n",
              "\n",
              "[5 rows x 11 columns]"
            ]
          },
          "metadata": {
            "tags": []
          },
          "execution_count": 85
        }
      ]
    },
    {
      "cell_type": "code",
      "metadata": {
        "colab": {
          "base_uri": "https://localhost:8080/"
        },
        "id": "6LeUD6xPMBtS",
        "outputId": "6d29ba98-49fa-4f31-c77e-e852cf7ff2e5"
      },
      "source": [
        "# Build neural network\n",
        "\n",
        "# Set random seed\n",
        "tf.random.set_seed(18)\n",
        "\n",
        "# Create model\n",
        "insurance_model = tf.keras.Sequential([\n",
        "  tf.keras.layers.Dense(10),\n",
        "  tf.keras.layers.Dense(1)                           \n",
        "])\n",
        "\n",
        "# Compile model\n",
        "insurance_model.compile(loss=tf.keras.losses.mae,\n",
        "                        optimizer=tf.keras.optimizers.SGD(),\n",
        "                        metrics=['mae'])\n",
        "\n",
        "# insurance_model.summary()\n",
        "\n",
        "# Fit model\n",
        "insurance_model.fit(X_train,\n",
        "                    y_train,\n",
        "                    epochs=100)\n",
        "\n"
      ],
      "execution_count": 88,
      "outputs": [
        {
          "output_type": "stream",
          "text": [
            "Epoch 1/100\n",
            "34/34 [==============================] - 0s 1ms/step - loss: 8502.6650 - mae: 8502.6650\n",
            "Epoch 2/100\n",
            "34/34 [==============================] - 0s 1ms/step - loss: 7659.5605 - mae: 7659.5605\n",
            "Epoch 3/100\n",
            "34/34 [==============================] - 0s 1ms/step - loss: 7442.6597 - mae: 7442.6597\n",
            "Epoch 4/100\n",
            "34/34 [==============================] - 0s 1ms/step - loss: 7545.9668 - mae: 7545.9668\n",
            "Epoch 5/100\n",
            "34/34 [==============================] - 0s 1ms/step - loss: 7377.6362 - mae: 7377.6362\n",
            "Epoch 6/100\n",
            "34/34 [==============================] - 0s 1ms/step - loss: 7606.8867 - mae: 7606.8867\n",
            "Epoch 7/100\n",
            "34/34 [==============================] - 0s 1ms/step - loss: 7816.3848 - mae: 7816.3848\n",
            "Epoch 8/100\n",
            "34/34 [==============================] - 0s 2ms/step - loss: 7471.2920 - mae: 7471.2920\n",
            "Epoch 9/100\n",
            "34/34 [==============================] - 0s 2ms/step - loss: 7506.5435 - mae: 7506.5435\n",
            "Epoch 10/100\n",
            "34/34 [==============================] - 0s 2ms/step - loss: 7635.6279 - mae: 7635.6279\n",
            "Epoch 11/100\n",
            "34/34 [==============================] - 0s 2ms/step - loss: 7602.7861 - mae: 7602.7861\n",
            "Epoch 12/100\n",
            "34/34 [==============================] - 0s 2ms/step - loss: 7398.7363 - mae: 7398.7363\n",
            "Epoch 13/100\n",
            "34/34 [==============================] - 0s 1ms/step - loss: 7353.2529 - mae: 7353.2529\n",
            "Epoch 14/100\n",
            "34/34 [==============================] - 0s 1ms/step - loss: 7515.2095 - mae: 7515.2095\n",
            "Epoch 15/100\n",
            "34/34 [==============================] - 0s 2ms/step - loss: 7752.8301 - mae: 7752.8301\n",
            "Epoch 16/100\n",
            "34/34 [==============================] - 0s 1ms/step - loss: 7723.8735 - mae: 7723.8735\n",
            "Epoch 17/100\n",
            "34/34 [==============================] - 0s 1ms/step - loss: 7683.1904 - mae: 7683.1904\n",
            "Epoch 18/100\n",
            "34/34 [==============================] - 0s 2ms/step - loss: 7501.1060 - mae: 7501.1060\n",
            "Epoch 19/100\n",
            "34/34 [==============================] - 0s 2ms/step - loss: 7426.0430 - mae: 7426.0430\n",
            "Epoch 20/100\n",
            "34/34 [==============================] - 0s 2ms/step - loss: 7363.3472 - mae: 7363.3472\n",
            "Epoch 21/100\n",
            "34/34 [==============================] - 0s 1ms/step - loss: 7689.4653 - mae: 7689.4653\n",
            "Epoch 22/100\n",
            "34/34 [==============================] - 0s 1ms/step - loss: 7720.6265 - mae: 7720.6265\n",
            "Epoch 23/100\n",
            "34/34 [==============================] - 0s 2ms/step - loss: 7543.7734 - mae: 7543.7734\n",
            "Epoch 24/100\n",
            "34/34 [==============================] - 0s 1ms/step - loss: 7399.5986 - mae: 7399.5986\n",
            "Epoch 25/100\n",
            "34/34 [==============================] - 0s 2ms/step - loss: 7423.2153 - mae: 7423.2153\n",
            "Epoch 26/100\n",
            "34/34 [==============================] - 0s 1ms/step - loss: 7853.5488 - mae: 7853.5488\n",
            "Epoch 27/100\n",
            "34/34 [==============================] - 0s 2ms/step - loss: 7357.7544 - mae: 7357.7544\n",
            "Epoch 28/100\n",
            "34/34 [==============================] - 0s 2ms/step - loss: 7461.5210 - mae: 7461.5210\n",
            "Epoch 29/100\n",
            "34/34 [==============================] - 0s 1ms/step - loss: 7531.9985 - mae: 7531.9985\n",
            "Epoch 30/100\n",
            "34/34 [==============================] - 0s 2ms/step - loss: 7532.2070 - mae: 7532.2070\n",
            "Epoch 31/100\n",
            "34/34 [==============================] - 0s 2ms/step - loss: 7394.6748 - mae: 7394.6748\n",
            "Epoch 32/100\n",
            "34/34 [==============================] - 0s 2ms/step - loss: 7405.1890 - mae: 7405.1890\n",
            "Epoch 33/100\n",
            "34/34 [==============================] - 0s 1ms/step - loss: 7468.2471 - mae: 7468.2471\n",
            "Epoch 34/100\n",
            "34/34 [==============================] - 0s 1ms/step - loss: 7521.4746 - mae: 7521.4746\n",
            "Epoch 35/100\n",
            "34/34 [==============================] - 0s 2ms/step - loss: 7472.4160 - mae: 7472.4160\n",
            "Epoch 36/100\n",
            "34/34 [==============================] - 0s 1ms/step - loss: 7472.2983 - mae: 7472.2983\n",
            "Epoch 37/100\n",
            "34/34 [==============================] - 0s 2ms/step - loss: 7805.2798 - mae: 7805.2798\n",
            "Epoch 38/100\n",
            "34/34 [==============================] - 0s 1ms/step - loss: 7462.2393 - mae: 7462.2393\n",
            "Epoch 39/100\n",
            "34/34 [==============================] - 0s 2ms/step - loss: 7366.2153 - mae: 7366.2153\n",
            "Epoch 40/100\n",
            "34/34 [==============================] - 0s 2ms/step - loss: 7384.8530 - mae: 7384.8530\n",
            "Epoch 41/100\n",
            "34/34 [==============================] - 0s 1ms/step - loss: 7625.5454 - mae: 7625.5454\n",
            "Epoch 42/100\n",
            "34/34 [==============================] - 0s 1ms/step - loss: 7596.7529 - mae: 7596.7529\n",
            "Epoch 43/100\n",
            "34/34 [==============================] - 0s 2ms/step - loss: 7302.9976 - mae: 7302.9976\n",
            "Epoch 44/100\n",
            "34/34 [==============================] - 0s 2ms/step - loss: 7462.5020 - mae: 7462.5020\n",
            "Epoch 45/100\n",
            "34/34 [==============================] - 0s 2ms/step - loss: 7081.3599 - mae: 7081.3599\n",
            "Epoch 46/100\n",
            "34/34 [==============================] - 0s 2ms/step - loss: 7237.6372 - mae: 7237.6372\n",
            "Epoch 47/100\n",
            "34/34 [==============================] - 0s 2ms/step - loss: 7379.9819 - mae: 7379.9819\n",
            "Epoch 48/100\n",
            "34/34 [==============================] - 0s 1ms/step - loss: 7255.5210 - mae: 7255.5210\n",
            "Epoch 49/100\n",
            "34/34 [==============================] - 0s 1ms/step - loss: 7481.6123 - mae: 7481.6123\n",
            "Epoch 50/100\n",
            "34/34 [==============================] - 0s 1ms/step - loss: 7081.2505 - mae: 7081.2505\n",
            "Epoch 51/100\n",
            "34/34 [==============================] - 0s 2ms/step - loss: 7515.3203 - mae: 7515.3203\n",
            "Epoch 52/100\n",
            "34/34 [==============================] - 0s 2ms/step - loss: 7448.8984 - mae: 7448.8984\n",
            "Epoch 53/100\n",
            "34/34 [==============================] - 0s 2ms/step - loss: 7403.3345 - mae: 7403.3345\n",
            "Epoch 54/100\n",
            "34/34 [==============================] - 0s 1ms/step - loss: 7428.8418 - mae: 7428.8418\n",
            "Epoch 55/100\n",
            "34/34 [==============================] - 0s 1ms/step - loss: 7446.6455 - mae: 7446.6455\n",
            "Epoch 56/100\n",
            "34/34 [==============================] - 0s 2ms/step - loss: 7365.4155 - mae: 7365.4155\n",
            "Epoch 57/100\n",
            "34/34 [==============================] - 0s 1ms/step - loss: 7334.0781 - mae: 7334.0781\n",
            "Epoch 58/100\n",
            "34/34 [==============================] - 0s 2ms/step - loss: 7662.3164 - mae: 7662.3164\n",
            "Epoch 59/100\n",
            "34/34 [==============================] - 0s 1ms/step - loss: 7750.2739 - mae: 7750.2739\n",
            "Epoch 60/100\n",
            "34/34 [==============================] - 0s 1ms/step - loss: 7469.0054 - mae: 7469.0054\n",
            "Epoch 61/100\n",
            "34/34 [==============================] - 0s 1ms/step - loss: 7496.9795 - mae: 7496.9795\n",
            "Epoch 62/100\n",
            "34/34 [==============================] - 0s 1ms/step - loss: 7239.5879 - mae: 7239.5879\n",
            "Epoch 63/100\n",
            "34/34 [==============================] - 0s 2ms/step - loss: 7029.1958 - mae: 7029.1958\n",
            "Epoch 64/100\n",
            "34/34 [==============================] - 0s 2ms/step - loss: 7218.8955 - mae: 7218.8955\n",
            "Epoch 65/100\n",
            "34/34 [==============================] - 0s 2ms/step - loss: 7365.6416 - mae: 7365.6416\n",
            "Epoch 66/100\n",
            "34/34 [==============================] - 0s 2ms/step - loss: 7332.9966 - mae: 7332.9966\n",
            "Epoch 67/100\n",
            "34/34 [==============================] - 0s 2ms/step - loss: 7232.4590 - mae: 7232.4590\n",
            "Epoch 68/100\n",
            "34/34 [==============================] - 0s 1ms/step - loss: 7359.8545 - mae: 7359.8545\n",
            "Epoch 69/100\n",
            "34/34 [==============================] - 0s 1ms/step - loss: 7299.9653 - mae: 7299.9653\n",
            "Epoch 70/100\n",
            "34/34 [==============================] - 0s 1ms/step - loss: 7334.6304 - mae: 7334.6304\n",
            "Epoch 71/100\n",
            "34/34 [==============================] - 0s 1ms/step - loss: 7568.7544 - mae: 7568.7544\n",
            "Epoch 72/100\n",
            "34/34 [==============================] - 0s 2ms/step - loss: 7485.6274 - mae: 7485.6274\n",
            "Epoch 73/100\n",
            "34/34 [==============================] - 0s 1ms/step - loss: 7186.2886 - mae: 7186.2886\n",
            "Epoch 74/100\n",
            "34/34 [==============================] - 0s 1ms/step - loss: 7363.9346 - mae: 7363.9346\n",
            "Epoch 75/100\n",
            "34/34 [==============================] - 0s 1ms/step - loss: 7189.5220 - mae: 7189.5220\n",
            "Epoch 76/100\n",
            "34/34 [==============================] - 0s 2ms/step - loss: 7409.5942 - mae: 7409.5942\n",
            "Epoch 77/100\n",
            "34/34 [==============================] - 0s 1ms/step - loss: 7260.9038 - mae: 7260.9038\n",
            "Epoch 78/100\n",
            "34/34 [==============================] - 0s 1ms/step - loss: 7475.5371 - mae: 7475.5371\n",
            "Epoch 79/100\n",
            "34/34 [==============================] - 0s 2ms/step - loss: 7223.7471 - mae: 7223.7471\n",
            "Epoch 80/100\n",
            "34/34 [==============================] - 0s 1ms/step - loss: 7317.7183 - mae: 7317.7183\n",
            "Epoch 81/100\n",
            "34/34 [==============================] - 0s 1ms/step - loss: 7383.7788 - mae: 7383.7788\n",
            "Epoch 82/100\n",
            "34/34 [==============================] - 0s 2ms/step - loss: 7319.2124 - mae: 7319.2124\n",
            "Epoch 83/100\n",
            "34/34 [==============================] - 0s 1ms/step - loss: 7342.4170 - mae: 7342.4170\n",
            "Epoch 84/100\n",
            "34/34 [==============================] - 0s 2ms/step - loss: 7153.1655 - mae: 7153.1655\n",
            "Epoch 85/100\n",
            "34/34 [==============================] - 0s 2ms/step - loss: 7409.5576 - mae: 7409.5576\n",
            "Epoch 86/100\n",
            "34/34 [==============================] - 0s 2ms/step - loss: 7281.8267 - mae: 7281.8267\n",
            "Epoch 87/100\n",
            "34/34 [==============================] - 0s 1ms/step - loss: 7247.4863 - mae: 7247.4863\n",
            "Epoch 88/100\n",
            "34/34 [==============================] - 0s 1ms/step - loss: 7108.2368 - mae: 7108.2368\n",
            "Epoch 89/100\n",
            "34/34 [==============================] - 0s 2ms/step - loss: 7240.3657 - mae: 7240.3657\n",
            "Epoch 90/100\n",
            "34/34 [==============================] - 0s 2ms/step - loss: 7340.5498 - mae: 7340.5498\n",
            "Epoch 91/100\n",
            "34/34 [==============================] - 0s 2ms/step - loss: 7072.5063 - mae: 7072.5063\n",
            "Epoch 92/100\n",
            "34/34 [==============================] - 0s 1ms/step - loss: 7087.7949 - mae: 7087.7949\n",
            "Epoch 93/100\n",
            "34/34 [==============================] - 0s 1ms/step - loss: 7567.9463 - mae: 7567.9463\n",
            "Epoch 94/100\n",
            "34/34 [==============================] - 0s 1ms/step - loss: 7243.3267 - mae: 7243.3267\n",
            "Epoch 95/100\n",
            "34/34 [==============================] - 0s 2ms/step - loss: 7167.6699 - mae: 7167.6699\n",
            "Epoch 96/100\n",
            "34/34 [==============================] - 0s 2ms/step - loss: 7387.6929 - mae: 7387.6929\n",
            "Epoch 97/100\n",
            "34/34 [==============================] - 0s 2ms/step - loss: 7168.3267 - mae: 7168.3267\n",
            "Epoch 98/100\n",
            "34/34 [==============================] - 0s 2ms/step - loss: 7293.8145 - mae: 7293.8145\n",
            "Epoch 99/100\n",
            "34/34 [==============================] - 0s 1ms/step - loss: 7128.2642 - mae: 7128.2642\n",
            "Epoch 100/100\n",
            "34/34 [==============================] - 0s 2ms/step - loss: 7217.6973 - mae: 7217.6973\n"
          ],
          "name": "stdout"
        },
        {
          "output_type": "execute_result",
          "data": {
            "text/plain": [
              "<tensorflow.python.keras.callbacks.History at 0x7ff60251aa90>"
            ]
          },
          "metadata": {
            "tags": []
          },
          "execution_count": 88
        }
      ]
    },
    {
      "cell_type": "code",
      "metadata": {
        "colab": {
          "base_uri": "https://localhost:8080/"
        },
        "id": "jNUxAtIrQ3lS",
        "outputId": "df03f436-94c2-4b86-ca53-a3fb2e1e84e1"
      },
      "source": [
        "# Evaluate model\n",
        "insurance_model.evaluate(X_test, y_test)"
      ],
      "execution_count": 89,
      "outputs": [
        {
          "output_type": "stream",
          "text": [
            "9/9 [==============================] - 0s 2ms/step - loss: 7803.3638 - mae: 7803.3638\n"
          ],
          "name": "stdout"
        },
        {
          "output_type": "execute_result",
          "data": {
            "text/plain": [
              "[7803.36376953125, 7803.36376953125]"
            ]
          },
          "metadata": {
            "tags": []
          },
          "execution_count": 89
        }
      ]
    },
    {
      "cell_type": "markdown",
      "metadata": {
        "id": "1if2VFgLUcW0"
      },
      "source": [
        "Model performs poorly due to lack of convergence, so we must improve.\n",
        "\n",
        "To try to improve our model, we will run 2 experiments:\n",
        "1. Add extra hidden layer and use Adam optimizer\n",
        "2. Train for longer"
      ]
    },
    {
      "cell_type": "code",
      "metadata": {
        "colab": {
          "base_uri": "https://localhost:8080/"
        },
        "id": "Pt6PEdEHUopJ",
        "outputId": "fd619748-95a2-4227-9c9e-011ac431084f"
      },
      "source": [
        "# Set random seed\n",
        "tf.random.set_seed(18)\n",
        "\n",
        "# 1. Create the model\n",
        "insurance_model_1 = tf.keras.Sequential([\n",
        "  tf.keras.layers.Dense(100),\n",
        "  tf.keras.layers.Dense(10),\n",
        "  tf.keras.layers.Dense(1)\n",
        "])\n",
        "\n",
        "# 2. Compile model\n",
        "insurance_model_1.compile(loss=tf.keras.losses.mae,\n",
        "                          optimizer=tf.keras.optimizers.Adam(),\n",
        "                          metrics=['mae'])\n",
        "\n",
        "# 3. Fit model\n",
        "insurance_model_1.fit(X_train, y_train, epochs=100, verbose=2)"
      ],
      "execution_count": 96,
      "outputs": [
        {
          "output_type": "stream",
          "text": [
            "Epoch 1/100\n",
            "34/34 - 0s - loss: 13218.5107 - mae: 13218.5107\n",
            "Epoch 2/100\n",
            "34/34 - 0s - loss: 13075.2510 - mae: 13075.2510\n",
            "Epoch 3/100\n",
            "34/34 - 0s - loss: 12777.3682 - mae: 12777.3682\n",
            "Epoch 4/100\n",
            "34/34 - 0s - loss: 12174.2832 - mae: 12174.2832\n",
            "Epoch 5/100\n",
            "34/34 - 0s - loss: 11119.3516 - mae: 11119.3516\n",
            "Epoch 6/100\n",
            "34/34 - 0s - loss: 9647.4043 - mae: 9647.4043\n",
            "Epoch 7/100\n",
            "34/34 - 0s - loss: 8221.0020 - mae: 8221.0020\n",
            "Epoch 8/100\n",
            "34/34 - 0s - loss: 7480.1719 - mae: 7480.1719\n",
            "Epoch 9/100\n",
            "34/34 - 0s - loss: 7328.5596 - mae: 7328.5596\n",
            "Epoch 10/100\n",
            "34/34 - 0s - loss: 7303.0850 - mae: 7303.0850\n",
            "Epoch 11/100\n",
            "34/34 - 0s - loss: 7280.8765 - mae: 7280.8765\n",
            "Epoch 12/100\n",
            "34/34 - 0s - loss: 7258.0381 - mae: 7258.0381\n",
            "Epoch 13/100\n",
            "34/34 - 0s - loss: 7235.3149 - mae: 7235.3149\n",
            "Epoch 14/100\n",
            "34/34 - 0s - loss: 7213.0615 - mae: 7213.0615\n",
            "Epoch 15/100\n",
            "34/34 - 0s - loss: 7189.5645 - mae: 7189.5645\n",
            "Epoch 16/100\n",
            "34/34 - 0s - loss: 7167.1187 - mae: 7167.1187\n",
            "Epoch 17/100\n",
            "34/34 - 0s - loss: 7142.4438 - mae: 7142.4438\n",
            "Epoch 18/100\n",
            "34/34 - 0s - loss: 7116.6357 - mae: 7116.6357\n",
            "Epoch 19/100\n",
            "34/34 - 0s - loss: 7092.0688 - mae: 7092.0688\n",
            "Epoch 20/100\n",
            "34/34 - 0s - loss: 7068.2402 - mae: 7068.2402\n",
            "Epoch 21/100\n",
            "34/34 - 0s - loss: 7040.1421 - mae: 7040.1421\n",
            "Epoch 22/100\n",
            "34/34 - 0s - loss: 7012.6626 - mae: 7012.6626\n",
            "Epoch 23/100\n",
            "34/34 - 0s - loss: 6982.9531 - mae: 6982.9531\n",
            "Epoch 24/100\n",
            "34/34 - 0s - loss: 6955.1968 - mae: 6955.1968\n",
            "Epoch 25/100\n",
            "34/34 - 0s - loss: 6925.4702 - mae: 6925.4702\n",
            "Epoch 26/100\n",
            "34/34 - 0s - loss: 6896.6602 - mae: 6896.6602\n",
            "Epoch 27/100\n",
            "34/34 - 0s - loss: 6862.4927 - mae: 6862.4927\n",
            "Epoch 28/100\n",
            "34/34 - 0s - loss: 6829.5903 - mae: 6829.5903\n",
            "Epoch 29/100\n",
            "34/34 - 0s - loss: 6797.0059 - mae: 6797.0059\n",
            "Epoch 30/100\n",
            "34/34 - 0s - loss: 6763.4561 - mae: 6763.4561\n",
            "Epoch 31/100\n",
            "34/34 - 0s - loss: 6727.2378 - mae: 6727.2378\n",
            "Epoch 32/100\n",
            "34/34 - 0s - loss: 6690.5786 - mae: 6690.5786\n",
            "Epoch 33/100\n",
            "34/34 - 0s - loss: 6650.8159 - mae: 6650.8159\n",
            "Epoch 34/100\n",
            "34/34 - 0s - loss: 6612.9868 - mae: 6612.9868\n",
            "Epoch 35/100\n",
            "34/34 - 0s - loss: 6576.6099 - mae: 6576.6099\n",
            "Epoch 36/100\n",
            "34/34 - 0s - loss: 6535.4282 - mae: 6535.4282\n",
            "Epoch 37/100\n",
            "34/34 - 0s - loss: 6497.2783 - mae: 6497.2783\n",
            "Epoch 38/100\n",
            "34/34 - 0s - loss: 6462.3809 - mae: 6462.3809\n",
            "Epoch 39/100\n",
            "34/34 - 0s - loss: 6429.4546 - mae: 6429.4546\n",
            "Epoch 40/100\n",
            "34/34 - 0s - loss: 6404.7632 - mae: 6404.7632\n",
            "Epoch 41/100\n",
            "34/34 - 0s - loss: 6380.6665 - mae: 6380.6665\n",
            "Epoch 42/100\n",
            "34/34 - 0s - loss: 6362.4521 - mae: 6362.4521\n",
            "Epoch 43/100\n",
            "34/34 - 0s - loss: 6345.3745 - mae: 6345.3745\n",
            "Epoch 44/100\n",
            "34/34 - 0s - loss: 6330.7295 - mae: 6330.7295\n",
            "Epoch 45/100\n",
            "34/34 - 0s - loss: 6321.8672 - mae: 6321.8672\n",
            "Epoch 46/100\n",
            "34/34 - 0s - loss: 6306.5591 - mae: 6306.5591\n",
            "Epoch 47/100\n",
            "34/34 - 0s - loss: 6294.4512 - mae: 6294.4512\n",
            "Epoch 48/100\n",
            "34/34 - 0s - loss: 6279.1987 - mae: 6279.1987\n",
            "Epoch 49/100\n",
            "34/34 - 0s - loss: 6276.0288 - mae: 6276.0288\n",
            "Epoch 50/100\n",
            "34/34 - 0s - loss: 6264.1475 - mae: 6264.1475\n",
            "Epoch 51/100\n",
            "34/34 - 0s - loss: 6245.8804 - mae: 6245.8804\n",
            "Epoch 52/100\n",
            "34/34 - 0s - loss: 6231.9614 - mae: 6231.9614\n",
            "Epoch 53/100\n",
            "34/34 - 0s - loss: 6220.6904 - mae: 6220.6904\n",
            "Epoch 54/100\n",
            "34/34 - 0s - loss: 6209.8247 - mae: 6209.8247\n",
            "Epoch 55/100\n",
            "34/34 - 0s - loss: 6195.5703 - mae: 6195.5703\n",
            "Epoch 56/100\n",
            "34/34 - 0s - loss: 6184.7725 - mae: 6184.7725\n",
            "Epoch 57/100\n",
            "34/34 - 0s - loss: 6169.0601 - mae: 6169.0601\n",
            "Epoch 58/100\n",
            "34/34 - 0s - loss: 6158.9736 - mae: 6158.9736\n",
            "Epoch 59/100\n",
            "34/34 - 0s - loss: 6145.0024 - mae: 6145.0024\n",
            "Epoch 60/100\n",
            "34/34 - 0s - loss: 6130.5181 - mae: 6130.5181\n",
            "Epoch 61/100\n",
            "34/34 - 0s - loss: 6116.3975 - mae: 6116.3975\n",
            "Epoch 62/100\n",
            "34/34 - 0s - loss: 6103.8809 - mae: 6103.8809\n",
            "Epoch 63/100\n",
            "34/34 - 0s - loss: 6090.2671 - mae: 6090.2671\n",
            "Epoch 64/100\n",
            "34/34 - 0s - loss: 6074.5127 - mae: 6074.5127\n",
            "Epoch 65/100\n",
            "34/34 - 0s - loss: 6056.1123 - mae: 6056.1123\n",
            "Epoch 66/100\n",
            "34/34 - 0s - loss: 6042.7759 - mae: 6042.7759\n",
            "Epoch 67/100\n",
            "34/34 - 0s - loss: 6029.5044 - mae: 6029.5044\n",
            "Epoch 68/100\n",
            "34/34 - 0s - loss: 6011.8516 - mae: 6011.8516\n",
            "Epoch 69/100\n",
            "34/34 - 0s - loss: 5993.4741 - mae: 5993.4741\n",
            "Epoch 70/100\n",
            "34/34 - 0s - loss: 5980.9927 - mae: 5980.9927\n",
            "Epoch 71/100\n",
            "34/34 - 0s - loss: 5958.6929 - mae: 5958.6929\n",
            "Epoch 72/100\n",
            "34/34 - 0s - loss: 5942.3296 - mae: 5942.3296\n",
            "Epoch 73/100\n",
            "34/34 - 0s - loss: 5927.8110 - mae: 5927.8110\n",
            "Epoch 74/100\n",
            "34/34 - 0s - loss: 5904.9585 - mae: 5904.9585\n",
            "Epoch 75/100\n",
            "34/34 - 0s - loss: 5891.8882 - mae: 5891.8882\n",
            "Epoch 76/100\n",
            "34/34 - 0s - loss: 5867.2676 - mae: 5867.2676\n",
            "Epoch 77/100\n",
            "34/34 - 0s - loss: 5846.9155 - mae: 5846.9155\n",
            "Epoch 78/100\n",
            "34/34 - 0s - loss: 5825.8560 - mae: 5825.8560\n",
            "Epoch 79/100\n",
            "34/34 - 0s - loss: 5807.2451 - mae: 5807.2451\n",
            "Epoch 80/100\n",
            "34/34 - 0s - loss: 5782.3076 - mae: 5782.3076\n",
            "Epoch 81/100\n",
            "34/34 - 0s - loss: 5757.3989 - mae: 5757.3989\n",
            "Epoch 82/100\n",
            "34/34 - 0s - loss: 5732.5059 - mae: 5732.5059\n",
            "Epoch 83/100\n",
            "34/34 - 0s - loss: 5706.8413 - mae: 5706.8413\n",
            "Epoch 84/100\n",
            "34/34 - 0s - loss: 5683.5552 - mae: 5683.5552\n",
            "Epoch 85/100\n",
            "34/34 - 0s - loss: 5654.3628 - mae: 5654.3628\n",
            "Epoch 86/100\n",
            "34/34 - 0s - loss: 5627.8599 - mae: 5627.8599\n",
            "Epoch 87/100\n",
            "34/34 - 0s - loss: 5596.6514 - mae: 5596.6514\n",
            "Epoch 88/100\n",
            "34/34 - 0s - loss: 5566.3521 - mae: 5566.3521\n",
            "Epoch 89/100\n",
            "34/34 - 0s - loss: 5536.6655 - mae: 5536.6655\n",
            "Epoch 90/100\n",
            "34/34 - 0s - loss: 5502.6826 - mae: 5502.6826\n",
            "Epoch 91/100\n",
            "34/34 - 0s - loss: 5467.6929 - mae: 5467.6929\n",
            "Epoch 92/100\n",
            "34/34 - 0s - loss: 5428.5132 - mae: 5428.5132\n",
            "Epoch 93/100\n",
            "34/34 - 0s - loss: 5393.3433 - mae: 5393.3433\n",
            "Epoch 94/100\n",
            "34/34 - 0s - loss: 5351.4009 - mae: 5351.4009\n",
            "Epoch 95/100\n",
            "34/34 - 0s - loss: 5308.1187 - mae: 5308.1187\n",
            "Epoch 96/100\n",
            "34/34 - 0s - loss: 5265.0815 - mae: 5265.0815\n",
            "Epoch 97/100\n",
            "34/34 - 0s - loss: 5225.2500 - mae: 5225.2500\n",
            "Epoch 98/100\n",
            "34/34 - 0s - loss: 5174.1641 - mae: 5174.1641\n",
            "Epoch 99/100\n",
            "34/34 - 0s - loss: 5125.6855 - mae: 5125.6855\n",
            "Epoch 100/100\n",
            "34/34 - 0s - loss: 5073.2778 - mae: 5073.2778\n"
          ],
          "name": "stdout"
        },
        {
          "output_type": "execute_result",
          "data": {
            "text/plain": [
              "<tensorflow.python.keras.callbacks.History at 0x7ff60fa74f90>"
            ]
          },
          "metadata": {
            "tags": []
          },
          "execution_count": 96
        }
      ]
    },
    {
      "cell_type": "code",
      "metadata": {
        "colab": {
          "base_uri": "https://localhost:8080/"
        },
        "id": "7p-Yv2XoVhOq",
        "outputId": "3a89f659-78b6-4702-d9fe-96f82e8129cb"
      },
      "source": [
        "# Evaluate experiment 1 \n",
        "insurance_model_1.evaluate(X_test, y_test)"
      ],
      "execution_count": 97,
      "outputs": [
        {
          "output_type": "stream",
          "text": [
            "9/9 [==============================] - 0s 2ms/step - loss: 5417.4521 - mae: 5417.4521\n"
          ],
          "name": "stdout"
        },
        {
          "output_type": "execute_result",
          "data": {
            "text/plain": [
              "[5417.4521484375, 5417.4521484375]"
            ]
          },
          "metadata": {
            "tags": []
          },
          "execution_count": 97
        }
      ]
    },
    {
      "cell_type": "code",
      "metadata": {
        "colab": {
          "base_uri": "https://localhost:8080/"
        },
        "id": "yN2KPn7jWtgy",
        "outputId": "85c52d2b-4703-4b5f-e608-e81f7aea4c23"
      },
      "source": [
        "# Set random seed\n",
        "tf.random.set_seed(18)\n",
        "\n",
        "# 1. Create model\n",
        "insurance_model_2 = tf.keras.Sequential([\n",
        "  tf.keras.layers.Dense(100),\n",
        "  tf.keras.layers.Dense(10),\n",
        "  tf.keras.layers.Dense(1)\n",
        "])\n",
        "\n",
        "# 2. Compile model\n",
        "insurance_model_2.compile(loss=tf.keras.losses.mae,\n",
        "                          optimizer=tf.keras.optimizers.Adam(),\n",
        "                          metrics=['mae'])\n",
        "\n",
        "# 3. Fit model\n",
        "history = insurance_model_2.fit(X_train, y_train, epochs=200)"
      ],
      "execution_count": 99,
      "outputs": [
        {
          "output_type": "stream",
          "text": [
            "Epoch 1/200\n",
            "34/34 [==============================] - 1s 2ms/step - loss: 13218.5107 - mae: 13218.5107\n",
            "Epoch 2/200\n",
            "34/34 [==============================] - 0s 2ms/step - loss: 13075.2510 - mae: 13075.2510\n",
            "Epoch 3/200\n",
            "34/34 [==============================] - 0s 1ms/step - loss: 12777.3682 - mae: 12777.3682\n",
            "Epoch 4/200\n",
            "34/34 [==============================] - 0s 2ms/step - loss: 12174.2832 - mae: 12174.2832\n",
            "Epoch 5/200\n",
            "34/34 [==============================] - 0s 2ms/step - loss: 11119.3516 - mae: 11119.3516\n",
            "Epoch 6/200\n",
            "34/34 [==============================] - 0s 2ms/step - loss: 9647.4043 - mae: 9647.4043\n",
            "Epoch 7/200\n",
            "34/34 [==============================] - 0s 2ms/step - loss: 8221.0020 - mae: 8221.0020\n",
            "Epoch 8/200\n",
            "34/34 [==============================] - 0s 2ms/step - loss: 7480.1719 - mae: 7480.1719\n",
            "Epoch 9/200\n",
            "34/34 [==============================] - 0s 2ms/step - loss: 7328.5596 - mae: 7328.5596\n",
            "Epoch 10/200\n",
            "34/34 [==============================] - 0s 2ms/step - loss: 7303.0850 - mae: 7303.0850\n",
            "Epoch 11/200\n",
            "34/34 [==============================] - 0s 2ms/step - loss: 7280.8765 - mae: 7280.8765\n",
            "Epoch 12/200\n",
            "34/34 [==============================] - 0s 2ms/step - loss: 7258.0381 - mae: 7258.0381\n",
            "Epoch 13/200\n",
            "34/34 [==============================] - 0s 2ms/step - loss: 7235.3149 - mae: 7235.3149\n",
            "Epoch 14/200\n",
            "34/34 [==============================] - 0s 2ms/step - loss: 7213.0615 - mae: 7213.0615\n",
            "Epoch 15/200\n",
            "34/34 [==============================] - 0s 2ms/step - loss: 7189.5645 - mae: 7189.5645\n",
            "Epoch 16/200\n",
            "34/34 [==============================] - 0s 2ms/step - loss: 7167.1187 - mae: 7167.1187\n",
            "Epoch 17/200\n",
            "34/34 [==============================] - 0s 2ms/step - loss: 7142.4438 - mae: 7142.4438\n",
            "Epoch 18/200\n",
            "34/34 [==============================] - 0s 2ms/step - loss: 7116.6357 - mae: 7116.6357\n",
            "Epoch 19/200\n",
            "34/34 [==============================] - 0s 2ms/step - loss: 7092.0688 - mae: 7092.0688\n",
            "Epoch 20/200\n",
            "34/34 [==============================] - 0s 3ms/step - loss: 7068.2402 - mae: 7068.2402\n",
            "Epoch 21/200\n",
            "34/34 [==============================] - 0s 2ms/step - loss: 7040.1421 - mae: 7040.1421\n",
            "Epoch 22/200\n",
            "34/34 [==============================] - 0s 2ms/step - loss: 7012.6626 - mae: 7012.6626\n",
            "Epoch 23/200\n",
            "34/34 [==============================] - 0s 2ms/step - loss: 6982.9531 - mae: 6982.9531\n",
            "Epoch 24/200\n",
            "34/34 [==============================] - 0s 2ms/step - loss: 6955.1968 - mae: 6955.1968\n",
            "Epoch 25/200\n",
            "34/34 [==============================] - 0s 2ms/step - loss: 6925.4702 - mae: 6925.4702\n",
            "Epoch 26/200\n",
            "34/34 [==============================] - 0s 2ms/step - loss: 6896.6602 - mae: 6896.6602\n",
            "Epoch 27/200\n",
            "34/34 [==============================] - 0s 2ms/step - loss: 6862.4927 - mae: 6862.4927\n",
            "Epoch 28/200\n",
            "34/34 [==============================] - 0s 2ms/step - loss: 6829.5903 - mae: 6829.5903\n",
            "Epoch 29/200\n",
            "34/34 [==============================] - 0s 2ms/step - loss: 6797.0059 - mae: 6797.0059\n",
            "Epoch 30/200\n",
            "34/34 [==============================] - 0s 2ms/step - loss: 6763.4561 - mae: 6763.4561\n",
            "Epoch 31/200\n",
            "34/34 [==============================] - 0s 2ms/step - loss: 6727.2378 - mae: 6727.2378\n",
            "Epoch 32/200\n",
            "34/34 [==============================] - 0s 2ms/step - loss: 6690.5786 - mae: 6690.5786\n",
            "Epoch 33/200\n",
            "34/34 [==============================] - 0s 2ms/step - loss: 6650.8159 - mae: 6650.8159\n",
            "Epoch 34/200\n",
            "34/34 [==============================] - 0s 2ms/step - loss: 6612.9868 - mae: 6612.9868\n",
            "Epoch 35/200\n",
            "34/34 [==============================] - 0s 2ms/step - loss: 6576.6099 - mae: 6576.6099\n",
            "Epoch 36/200\n",
            "34/34 [==============================] - 0s 2ms/step - loss: 6535.4282 - mae: 6535.4282\n",
            "Epoch 37/200\n",
            "34/34 [==============================] - 0s 2ms/step - loss: 6497.2783 - mae: 6497.2783\n",
            "Epoch 38/200\n",
            "34/34 [==============================] - 0s 2ms/step - loss: 6462.3809 - mae: 6462.3809\n",
            "Epoch 39/200\n",
            "34/34 [==============================] - 0s 2ms/step - loss: 6429.4546 - mae: 6429.4546\n",
            "Epoch 40/200\n",
            "34/34 [==============================] - 0s 2ms/step - loss: 6404.7632 - mae: 6404.7632\n",
            "Epoch 41/200\n",
            "34/34 [==============================] - 0s 2ms/step - loss: 6380.6665 - mae: 6380.6665\n",
            "Epoch 42/200\n",
            "34/34 [==============================] - 0s 2ms/step - loss: 6362.4521 - mae: 6362.4521\n",
            "Epoch 43/200\n",
            "34/34 [==============================] - 0s 2ms/step - loss: 6345.3745 - mae: 6345.3745\n",
            "Epoch 44/200\n",
            "34/34 [==============================] - 0s 2ms/step - loss: 6330.7295 - mae: 6330.7295\n",
            "Epoch 45/200\n",
            "34/34 [==============================] - 0s 2ms/step - loss: 6321.8672 - mae: 6321.8672\n",
            "Epoch 46/200\n",
            "34/34 [==============================] - 0s 3ms/step - loss: 6306.5591 - mae: 6306.5591\n",
            "Epoch 47/200\n",
            "34/34 [==============================] - 0s 2ms/step - loss: 6294.4512 - mae: 6294.4512\n",
            "Epoch 48/200\n",
            "34/34 [==============================] - 0s 2ms/step - loss: 6279.1987 - mae: 6279.1987\n",
            "Epoch 49/200\n",
            "34/34 [==============================] - 0s 2ms/step - loss: 6276.0288 - mae: 6276.0288\n",
            "Epoch 50/200\n",
            "34/34 [==============================] - 0s 2ms/step - loss: 6264.1475 - mae: 6264.1475\n",
            "Epoch 51/200\n",
            "34/34 [==============================] - 0s 2ms/step - loss: 6245.8804 - mae: 6245.8804\n",
            "Epoch 52/200\n",
            "34/34 [==============================] - 0s 2ms/step - loss: 6231.9614 - mae: 6231.9614\n",
            "Epoch 53/200\n",
            "34/34 [==============================] - 0s 2ms/step - loss: 6220.6904 - mae: 6220.6904\n",
            "Epoch 54/200\n",
            "34/34 [==============================] - 0s 2ms/step - loss: 6209.8247 - mae: 6209.8247\n",
            "Epoch 55/200\n",
            "34/34 [==============================] - 0s 2ms/step - loss: 6195.5703 - mae: 6195.5703\n",
            "Epoch 56/200\n",
            "34/34 [==============================] - 0s 2ms/step - loss: 6184.7725 - mae: 6184.7725\n",
            "Epoch 57/200\n",
            "34/34 [==============================] - 0s 2ms/step - loss: 6169.0601 - mae: 6169.0601\n",
            "Epoch 58/200\n",
            "34/34 [==============================] - 0s 2ms/step - loss: 6158.9736 - mae: 6158.9736\n",
            "Epoch 59/200\n",
            "34/34 [==============================] - 0s 2ms/step - loss: 6145.0024 - mae: 6145.0024\n",
            "Epoch 60/200\n",
            "34/34 [==============================] - 0s 2ms/step - loss: 6130.5181 - mae: 6130.5181\n",
            "Epoch 61/200\n",
            "34/34 [==============================] - 0s 2ms/step - loss: 6116.3975 - mae: 6116.3975\n",
            "Epoch 62/200\n",
            "34/34 [==============================] - 0s 2ms/step - loss: 6103.8809 - mae: 6103.8809\n",
            "Epoch 63/200\n",
            "34/34 [==============================] - 0s 2ms/step - loss: 6090.2671 - mae: 6090.2671\n",
            "Epoch 64/200\n",
            "34/34 [==============================] - 0s 2ms/step - loss: 6074.5127 - mae: 6074.5127\n",
            "Epoch 65/200\n",
            "34/34 [==============================] - 0s 2ms/step - loss: 6056.1123 - mae: 6056.1123\n",
            "Epoch 66/200\n",
            "34/34 [==============================] - 0s 2ms/step - loss: 6042.7759 - mae: 6042.7759\n",
            "Epoch 67/200\n",
            "34/34 [==============================] - 0s 2ms/step - loss: 6029.5044 - mae: 6029.5044\n",
            "Epoch 68/200\n",
            "34/34 [==============================] - 0s 2ms/step - loss: 6011.8516 - mae: 6011.8516\n",
            "Epoch 69/200\n",
            "34/34 [==============================] - 0s 2ms/step - loss: 5993.4741 - mae: 5993.4741\n",
            "Epoch 70/200\n",
            "34/34 [==============================] - 0s 2ms/step - loss: 5980.9927 - mae: 5980.9927\n",
            "Epoch 71/200\n",
            "34/34 [==============================] - 0s 2ms/step - loss: 5958.6929 - mae: 5958.6929\n",
            "Epoch 72/200\n",
            "34/34 [==============================] - 0s 2ms/step - loss: 5942.3296 - mae: 5942.3296\n",
            "Epoch 73/200\n",
            "34/34 [==============================] - 0s 2ms/step - loss: 5927.8110 - mae: 5927.8110\n",
            "Epoch 74/200\n",
            "34/34 [==============================] - 0s 2ms/step - loss: 5904.9585 - mae: 5904.9585\n",
            "Epoch 75/200\n",
            "34/34 [==============================] - 0s 2ms/step - loss: 5891.8882 - mae: 5891.8882\n",
            "Epoch 76/200\n",
            "34/34 [==============================] - 0s 2ms/step - loss: 5867.2676 - mae: 5867.2676\n",
            "Epoch 77/200\n",
            "34/34 [==============================] - 0s 2ms/step - loss: 5846.9155 - mae: 5846.9155\n",
            "Epoch 78/200\n",
            "34/34 [==============================] - 0s 2ms/step - loss: 5825.8560 - mae: 5825.8560\n",
            "Epoch 79/200\n",
            "34/34 [==============================] - 0s 2ms/step - loss: 5807.2451 - mae: 5807.2451\n",
            "Epoch 80/200\n",
            "34/34 [==============================] - 0s 2ms/step - loss: 5782.3076 - mae: 5782.3076\n",
            "Epoch 81/200\n",
            "34/34 [==============================] - 0s 2ms/step - loss: 5757.3989 - mae: 5757.3989\n",
            "Epoch 82/200\n",
            "34/34 [==============================] - 0s 2ms/step - loss: 5732.5059 - mae: 5732.5059\n",
            "Epoch 83/200\n",
            "34/34 [==============================] - 0s 2ms/step - loss: 5706.8413 - mae: 5706.8413\n",
            "Epoch 84/200\n",
            "34/34 [==============================] - 0s 2ms/step - loss: 5683.5552 - mae: 5683.5552\n",
            "Epoch 85/200\n",
            "34/34 [==============================] - 0s 2ms/step - loss: 5654.3628 - mae: 5654.3628\n",
            "Epoch 86/200\n",
            "34/34 [==============================] - 0s 2ms/step - loss: 5627.8599 - mae: 5627.8599\n",
            "Epoch 87/200\n",
            "34/34 [==============================] - 0s 3ms/step - loss: 5596.6514 - mae: 5596.6514\n",
            "Epoch 88/200\n",
            "34/34 [==============================] - 0s 2ms/step - loss: 5566.3521 - mae: 5566.3521\n",
            "Epoch 89/200\n",
            "34/34 [==============================] - 0s 2ms/step - loss: 5536.6655 - mae: 5536.6655\n",
            "Epoch 90/200\n",
            "34/34 [==============================] - 0s 2ms/step - loss: 5502.6826 - mae: 5502.6826\n",
            "Epoch 91/200\n",
            "34/34 [==============================] - 0s 2ms/step - loss: 5467.6929 - mae: 5467.6929\n",
            "Epoch 92/200\n",
            "34/34 [==============================] - 0s 2ms/step - loss: 5428.5132 - mae: 5428.5132\n",
            "Epoch 93/200\n",
            "34/34 [==============================] - 0s 2ms/step - loss: 5393.3433 - mae: 5393.3433\n",
            "Epoch 94/200\n",
            "34/34 [==============================] - 0s 2ms/step - loss: 5351.4009 - mae: 5351.4009\n",
            "Epoch 95/200\n",
            "34/34 [==============================] - 0s 2ms/step - loss: 5308.1187 - mae: 5308.1187\n",
            "Epoch 96/200\n",
            "34/34 [==============================] - 0s 2ms/step - loss: 5265.0815 - mae: 5265.0815\n",
            "Epoch 97/200\n",
            "34/34 [==============================] - 0s 2ms/step - loss: 5225.2500 - mae: 5225.2500\n",
            "Epoch 98/200\n",
            "34/34 [==============================] - 0s 2ms/step - loss: 5174.1641 - mae: 5174.1641\n",
            "Epoch 99/200\n",
            "34/34 [==============================] - 0s 2ms/step - loss: 5125.6855 - mae: 5125.6855\n",
            "Epoch 100/200\n",
            "34/34 [==============================] - 0s 2ms/step - loss: 5073.2778 - mae: 5073.2778\n",
            "Epoch 101/200\n",
            "34/34 [==============================] - 0s 2ms/step - loss: 5018.3198 - mae: 5018.3198\n",
            "Epoch 102/200\n",
            "34/34 [==============================] - 0s 2ms/step - loss: 4962.8232 - mae: 4962.8232\n",
            "Epoch 103/200\n",
            "34/34 [==============================] - 0s 2ms/step - loss: 4906.3208 - mae: 4906.3208\n",
            "Epoch 104/200\n",
            "34/34 [==============================] - 0s 2ms/step - loss: 4842.4746 - mae: 4842.4746\n",
            "Epoch 105/200\n",
            "34/34 [==============================] - 0s 2ms/step - loss: 4783.2168 - mae: 4783.2168\n",
            "Epoch 106/200\n",
            "34/34 [==============================] - 0s 2ms/step - loss: 4711.9595 - mae: 4711.9595\n",
            "Epoch 107/200\n",
            "34/34 [==============================] - 0s 2ms/step - loss: 4649.6431 - mae: 4649.6431\n",
            "Epoch 108/200\n",
            "34/34 [==============================] - 0s 2ms/step - loss: 4568.9082 - mae: 4568.9082\n",
            "Epoch 109/200\n",
            "34/34 [==============================] - 0s 2ms/step - loss: 4494.0498 - mae: 4494.0498\n",
            "Epoch 110/200\n",
            "34/34 [==============================] - 0s 3ms/step - loss: 4413.1592 - mae: 4413.1592\n",
            "Epoch 111/200\n",
            "34/34 [==============================] - 0s 2ms/step - loss: 4332.5864 - mae: 4332.5864\n",
            "Epoch 112/200\n",
            "34/34 [==============================] - 0s 2ms/step - loss: 4254.3188 - mae: 4254.3188\n",
            "Epoch 113/200\n",
            "34/34 [==============================] - 0s 2ms/step - loss: 4168.3931 - mae: 4168.3931\n",
            "Epoch 114/200\n",
            "34/34 [==============================] - 0s 2ms/step - loss: 4089.2847 - mae: 4089.2847\n",
            "Epoch 115/200\n",
            "34/34 [==============================] - 0s 2ms/step - loss: 4021.1543 - mae: 4021.1543\n",
            "Epoch 116/200\n",
            "34/34 [==============================] - 0s 2ms/step - loss: 3961.0220 - mae: 3961.0220\n",
            "Epoch 117/200\n",
            "34/34 [==============================] - 0s 2ms/step - loss: 3907.3347 - mae: 3907.3347\n",
            "Epoch 118/200\n",
            "34/34 [==============================] - 0s 2ms/step - loss: 3864.6736 - mae: 3864.6736\n",
            "Epoch 119/200\n",
            "34/34 [==============================] - 0s 2ms/step - loss: 3839.1414 - mae: 3839.1414\n",
            "Epoch 120/200\n",
            "34/34 [==============================] - 0s 2ms/step - loss: 3824.5388 - mae: 3824.5388\n",
            "Epoch 121/200\n",
            "34/34 [==============================] - 0s 2ms/step - loss: 3803.3152 - mae: 3803.3152\n",
            "Epoch 122/200\n",
            "34/34 [==============================] - 0s 2ms/step - loss: 3783.6516 - mae: 3783.6516\n",
            "Epoch 123/200\n",
            "34/34 [==============================] - 0s 3ms/step - loss: 3758.4753 - mae: 3758.4753\n",
            "Epoch 124/200\n",
            "34/34 [==============================] - 0s 2ms/step - loss: 3748.2993 - mae: 3748.2993\n",
            "Epoch 125/200\n",
            "34/34 [==============================] - 0s 1ms/step - loss: 3734.1970 - mae: 3734.1970\n",
            "Epoch 126/200\n",
            "34/34 [==============================] - 0s 2ms/step - loss: 3727.1499 - mae: 3727.1499\n",
            "Epoch 127/200\n",
            "34/34 [==============================] - 0s 2ms/step - loss: 3724.1904 - mae: 3724.1904\n",
            "Epoch 128/200\n",
            "34/34 [==============================] - 0s 2ms/step - loss: 3716.8977 - mae: 3716.8977\n",
            "Epoch 129/200\n",
            "34/34 [==============================] - 0s 2ms/step - loss: 3714.0679 - mae: 3714.0679\n",
            "Epoch 130/200\n",
            "34/34 [==============================] - 0s 2ms/step - loss: 3713.4231 - mae: 3713.4231\n",
            "Epoch 131/200\n",
            "34/34 [==============================] - 0s 2ms/step - loss: 3704.0955 - mae: 3704.0955\n",
            "Epoch 132/200\n",
            "34/34 [==============================] - 0s 2ms/step - loss: 3702.7310 - mae: 3702.7310\n",
            "Epoch 133/200\n",
            "34/34 [==============================] - 0s 2ms/step - loss: 3703.5300 - mae: 3703.5300\n",
            "Epoch 134/200\n",
            "34/34 [==============================] - 0s 2ms/step - loss: 3699.1531 - mae: 3699.1531\n",
            "Epoch 135/200\n",
            "34/34 [==============================] - 0s 3ms/step - loss: 3706.6809 - mae: 3706.6809\n",
            "Epoch 136/200\n",
            "34/34 [==============================] - 0s 2ms/step - loss: 3708.7673 - mae: 3708.7673\n",
            "Epoch 137/200\n",
            "34/34 [==============================] - 0s 2ms/step - loss: 3696.5737 - mae: 3696.5737\n",
            "Epoch 138/200\n",
            "34/34 [==============================] - 0s 2ms/step - loss: 3691.9834 - mae: 3691.9834\n",
            "Epoch 139/200\n",
            "34/34 [==============================] - 0s 2ms/step - loss: 3683.2900 - mae: 3683.2900\n",
            "Epoch 140/200\n",
            "34/34 [==============================] - 0s 2ms/step - loss: 3684.1824 - mae: 3684.1824\n",
            "Epoch 141/200\n",
            "34/34 [==============================] - 0s 2ms/step - loss: 3680.0132 - mae: 3680.0132\n",
            "Epoch 142/200\n",
            "34/34 [==============================] - 0s 2ms/step - loss: 3682.4883 - mae: 3682.4883\n",
            "Epoch 143/200\n",
            "34/34 [==============================] - 0s 2ms/step - loss: 3676.6553 - mae: 3676.6553\n",
            "Epoch 144/200\n",
            "34/34 [==============================] - 0s 2ms/step - loss: 3678.5828 - mae: 3678.5828\n",
            "Epoch 145/200\n",
            "34/34 [==============================] - 0s 2ms/step - loss: 3672.4812 - mae: 3672.4812\n",
            "Epoch 146/200\n",
            "34/34 [==============================] - 0s 2ms/step - loss: 3669.9187 - mae: 3669.9187\n",
            "Epoch 147/200\n",
            "34/34 [==============================] - 0s 2ms/step - loss: 3666.7659 - mae: 3666.7659\n",
            "Epoch 148/200\n",
            "34/34 [==============================] - 0s 2ms/step - loss: 3681.5688 - mae: 3681.5688\n",
            "Epoch 149/200\n",
            "34/34 [==============================] - 0s 2ms/step - loss: 3666.9048 - mae: 3666.9048\n",
            "Epoch 150/200\n",
            "34/34 [==============================] - 0s 2ms/step - loss: 3665.2471 - mae: 3665.2471\n",
            "Epoch 151/200\n",
            "34/34 [==============================] - 0s 2ms/step - loss: 3660.5476 - mae: 3660.5476\n",
            "Epoch 152/200\n",
            "34/34 [==============================] - 0s 2ms/step - loss: 3661.5603 - mae: 3661.5603\n",
            "Epoch 153/200\n",
            "34/34 [==============================] - 0s 2ms/step - loss: 3656.3005 - mae: 3656.3005\n",
            "Epoch 154/200\n",
            "34/34 [==============================] - 0s 2ms/step - loss: 3656.7056 - mae: 3656.7056\n",
            "Epoch 155/200\n",
            "34/34 [==============================] - 0s 2ms/step - loss: 3652.9604 - mae: 3652.9604\n",
            "Epoch 156/200\n",
            "34/34 [==============================] - 0s 2ms/step - loss: 3653.4238 - mae: 3653.4238\n",
            "Epoch 157/200\n",
            "34/34 [==============================] - 0s 2ms/step - loss: 3652.7761 - mae: 3652.7761\n",
            "Epoch 158/200\n",
            "34/34 [==============================] - 0s 2ms/step - loss: 3660.4487 - mae: 3660.4487\n",
            "Epoch 159/200\n",
            "34/34 [==============================] - 0s 2ms/step - loss: 3650.0901 - mae: 3650.0901\n",
            "Epoch 160/200\n",
            "34/34 [==============================] - 0s 2ms/step - loss: 3649.2874 - mae: 3649.2874\n",
            "Epoch 161/200\n",
            "34/34 [==============================] - 0s 2ms/step - loss: 3639.9492 - mae: 3639.9492\n",
            "Epoch 162/200\n",
            "34/34 [==============================] - 0s 2ms/step - loss: 3641.0825 - mae: 3641.0825\n",
            "Epoch 163/200\n",
            "34/34 [==============================] - 0s 2ms/step - loss: 3652.2026 - mae: 3652.2026\n",
            "Epoch 164/200\n",
            "34/34 [==============================] - 0s 2ms/step - loss: 3638.5977 - mae: 3638.5977\n",
            "Epoch 165/200\n",
            "34/34 [==============================] - 0s 2ms/step - loss: 3636.9951 - mae: 3636.9951\n",
            "Epoch 166/200\n",
            "34/34 [==============================] - 0s 2ms/step - loss: 3649.0366 - mae: 3649.0366\n",
            "Epoch 167/200\n",
            "34/34 [==============================] - 0s 2ms/step - loss: 3636.6782 - mae: 3636.6782\n",
            "Epoch 168/200\n",
            "34/34 [==============================] - 0s 2ms/step - loss: 3628.2507 - mae: 3628.2507\n",
            "Epoch 169/200\n",
            "34/34 [==============================] - 0s 2ms/step - loss: 3627.1831 - mae: 3627.1831\n",
            "Epoch 170/200\n",
            "34/34 [==============================] - 0s 2ms/step - loss: 3632.2793 - mae: 3632.2793\n",
            "Epoch 171/200\n",
            "34/34 [==============================] - 0s 2ms/step - loss: 3628.9238 - mae: 3628.9238\n",
            "Epoch 172/200\n",
            "34/34 [==============================] - 0s 3ms/step - loss: 3621.5864 - mae: 3621.5864\n",
            "Epoch 173/200\n",
            "34/34 [==============================] - 0s 2ms/step - loss: 3629.1260 - mae: 3629.1260\n",
            "Epoch 174/200\n",
            "34/34 [==============================] - 0s 2ms/step - loss: 3623.6204 - mae: 3623.6204\n",
            "Epoch 175/200\n",
            "34/34 [==============================] - 0s 2ms/step - loss: 3616.1113 - mae: 3616.1113\n",
            "Epoch 176/200\n",
            "34/34 [==============================] - 0s 2ms/step - loss: 3615.5105 - mae: 3615.5105\n",
            "Epoch 177/200\n",
            "34/34 [==============================] - 0s 2ms/step - loss: 3608.1252 - mae: 3608.1252\n",
            "Epoch 178/200\n",
            "34/34 [==============================] - 0s 2ms/step - loss: 3605.3987 - mae: 3605.3987\n",
            "Epoch 179/200\n",
            "34/34 [==============================] - 0s 2ms/step - loss: 3610.3616 - mae: 3610.3616\n",
            "Epoch 180/200\n",
            "34/34 [==============================] - 0s 2ms/step - loss: 3601.9817 - mae: 3601.9817\n",
            "Epoch 181/200\n",
            "34/34 [==============================] - 0s 2ms/step - loss: 3608.1023 - mae: 3608.1023\n",
            "Epoch 182/200\n",
            "34/34 [==============================] - 0s 2ms/step - loss: 3596.6917 - mae: 3596.6917\n",
            "Epoch 183/200\n",
            "34/34 [==============================] - 0s 2ms/step - loss: 3596.9163 - mae: 3596.9163\n",
            "Epoch 184/200\n",
            "34/34 [==============================] - 0s 2ms/step - loss: 3596.4712 - mae: 3596.4712\n",
            "Epoch 185/200\n",
            "34/34 [==============================] - 0s 3ms/step - loss: 3591.7256 - mae: 3591.7256\n",
            "Epoch 186/200\n",
            "34/34 [==============================] - 0s 2ms/step - loss: 3587.7852 - mae: 3587.7852\n",
            "Epoch 187/200\n",
            "34/34 [==============================] - 0s 2ms/step - loss: 3586.7075 - mae: 3586.7075\n",
            "Epoch 188/200\n",
            "34/34 [==============================] - 0s 2ms/step - loss: 3586.8506 - mae: 3586.8506\n",
            "Epoch 189/200\n",
            "34/34 [==============================] - 0s 2ms/step - loss: 3583.2859 - mae: 3583.2859\n",
            "Epoch 190/200\n",
            "34/34 [==============================] - 0s 2ms/step - loss: 3585.9995 - mae: 3585.9995\n",
            "Epoch 191/200\n",
            "34/34 [==============================] - 0s 2ms/step - loss: 3579.3379 - mae: 3579.3379\n",
            "Epoch 192/200\n",
            "34/34 [==============================] - 0s 2ms/step - loss: 3582.1865 - mae: 3582.1865\n",
            "Epoch 193/200\n",
            "34/34 [==============================] - 0s 2ms/step - loss: 3602.0295 - mae: 3602.0295\n",
            "Epoch 194/200\n",
            "34/34 [==============================] - 0s 2ms/step - loss: 3601.7874 - mae: 3601.7874\n",
            "Epoch 195/200\n",
            "34/34 [==============================] - 0s 2ms/step - loss: 3567.6147 - mae: 3567.6147\n",
            "Epoch 196/200\n",
            "34/34 [==============================] - 0s 2ms/step - loss: 3592.7798 - mae: 3592.7798\n",
            "Epoch 197/200\n",
            "34/34 [==============================] - 0s 2ms/step - loss: 3579.5264 - mae: 3579.5264\n",
            "Epoch 198/200\n",
            "34/34 [==============================] - 0s 2ms/step - loss: 3560.5325 - mae: 3560.5325\n",
            "Epoch 199/200\n",
            "34/34 [==============================] - 0s 2ms/step - loss: 3566.8096 - mae: 3566.8096\n",
            "Epoch 200/200\n",
            "34/34 [==============================] - 0s 2ms/step - loss: 3577.4690 - mae: 3577.4690\n"
          ],
          "name": "stdout"
        }
      ]
    },
    {
      "cell_type": "code",
      "metadata": {
        "colab": {
          "base_uri": "https://localhost:8080/"
        },
        "id": "dQTKwdBQXfXb",
        "outputId": "b631e27c-25d6-4923-8c2b-8afe70d96531"
      },
      "source": [
        "insurance_model_2.summary()"
      ],
      "execution_count": 100,
      "outputs": [
        {
          "output_type": "stream",
          "text": [
            "Model: \"sequential_18\"\n",
            "_________________________________________________________________\n",
            "Layer (type)                 Output Shape              Param #   \n",
            "=================================================================\n",
            "dense_37 (Dense)             (None, 100)               1200      \n",
            "_________________________________________________________________\n",
            "dense_38 (Dense)             (None, 10)                1010      \n",
            "_________________________________________________________________\n",
            "dense_39 (Dense)             (None, 1)                 11        \n",
            "=================================================================\n",
            "Total params: 2,221\n",
            "Trainable params: 2,221\n",
            "Non-trainable params: 0\n",
            "_________________________________________________________________\n"
          ],
          "name": "stdout"
        }
      ]
    },
    {
      "cell_type": "code",
      "metadata": {
        "colab": {
          "base_uri": "https://localhost:8080/"
        },
        "id": "Dk6OpVJ_XofK",
        "outputId": "1782bedb-470b-418a-b676-0765aea495d8"
      },
      "source": [
        "# Evaluate 2nd experiment\n",
        "insurance_model_2.evaluate(X_test, y_test)"
      ],
      "execution_count": 102,
      "outputs": [
        {
          "output_type": "stream",
          "text": [
            "9/9 [==============================] - 0s 2ms/step - loss: 3806.9871 - mae: 3806.9871\n"
          ],
          "name": "stdout"
        },
        {
          "output_type": "execute_result",
          "data": {
            "text/plain": [
              "[3806.987060546875, 3806.987060546875]"
            ]
          },
          "metadata": {
            "tags": []
          },
          "execution_count": 102
        }
      ]
    },
    {
      "cell_type": "code",
      "metadata": {
        "colab": {
          "base_uri": "https://localhost:8080/",
          "height": 479
        },
        "id": "cbrfyACxXuhK",
        "outputId": "1dddad1a-99dc-4ef5-e64f-52a83c097547"
      },
      "source": [
        "# Plot history (AKA loss curve or training curve)\n",
        "pd.DataFrame(history.history).plot(figsize=(10,7))\n",
        "\n",
        "plt.ylabel('loss')\n",
        "plt.xlabel('epochs')"
      ],
      "execution_count": 107,
      "outputs": [
        {
          "output_type": "execute_result",
          "data": {
            "text/plain": [
              "Text(0.5, 0, 'epochs')"
            ]
          },
          "metadata": {
            "tags": []
          },
          "execution_count": 107
        },
        {
          "output_type": "display_data",
          "data": {
            "text/plain": [
              "<Figure size 720x504 with 0 Axes>"
            ]
          },
          "metadata": {
            "tags": []
          }
        },
        {
          "output_type": "display_data",
          "data": {
            "image/png": "[encoded data removed]",
            "text/plain": [
              "<Figure size 720x504 with 1 Axes>"
            ]
          },
          "metadata": {
            "tags": [],
            "needs_background": "light"
          }
        }
      ]
    },
    {
      "cell_type": "markdown",
      "metadata": {
        "id": "H2gq6zJQYII5"
      },
      "source": [
        "How long should we train for? We will implement an EarlyStopping callback function to stop training when the model stops improving on a certain metric."
      ]
    },
    {
      "cell_type": "markdown",
      "metadata": {
        "id": "4w4M6uZfZg1S"
      },
      "source": [
        "## Preprocessing data (normalization and standardization)\n",
        "\n",
        "In terms of scaling values, neural networks tend to prefer normalization."
      ]
    },
    {
      "cell_type": "code",
      "metadata": {
        "colab": {
          "base_uri": "https://localhost:8080/",
          "height": 206
        },
        "id": "IFuCdsFVbUnZ",
        "outputId": "242e9844-0088-4a93-898d-d1efab655223"
      },
      "source": [
        "import tensorflow as tf\n",
        "import matplotlib.pyplot as plt\n",
        "import pandas as pd\n",
        "\n",
        "# Read in insurance dataset\n",
        "insurance = pd.read_csv('https://raw.githubusercontent.com/stedy/Machine-Learning-with-R-datasets/master/insurance.csv')\n",
        "insurance.head()"
      ],
      "execution_count": 115,
      "outputs": [
        {
          "output_type": "execute_result",
          "data": {
            "text/html": [
              "<div>\n",
              "<style scoped>\n",
              "    .dataframe tbody tr th:only-of-type {\n",
              "        vertical-align: middle;\n",
              "    }\n",
              "\n",
              "    .dataframe tbody tr th {\n",
              "        vertical-align: top;\n",
              "    }\n",
              "\n",
              "    .dataframe thead th {\n",
              "        text-align: right;\n",
              "    }\n",
              "</style>\n",
              "<table border=\"1\" class=\"dataframe\">\n",
              "  <thead>\n",
              "    <tr style=\"text-align: right;\">\n",
              "      <th></th>\n",
              "      <th>age</th>\n",
              "      <th>sex</th>\n",
              "      <th>bmi</th>\n",
              "      <th>children</th>\n",
              "      <th>smoker</th>\n",
              "      <th>region</th>\n",
              "      <th>charges</th>\n",
              "    </tr>\n",
              "  </thead>\n",
              "  <tbody>\n",
              "    <tr>\n",
              "      <th>0</th>\n",
              "      <td>19</td>\n",
              "      <td>female</td>\n",
              "      <td>27.900</td>\n",
              "      <td>0</td>\n",
              "      <td>yes</td>\n",
              "      <td>southwest</td>\n",
              "      <td>16884.92400</td>\n",
              "    </tr>\n",
              "    <tr>\n",
              "      <th>1</th>\n",
              "      <td>18</td>\n",
              "      <td>male</td>\n",
              "      <td>33.770</td>\n",
              "      <td>1</td>\n",
              "      <td>no</td>\n",
              "      <td>southeast</td>\n",
              "      <td>1725.55230</td>\n",
              "    </tr>\n",
              "    <tr>\n",
              "      <th>2</th>\n",
              "      <td>28</td>\n",
              "      <td>male</td>\n",
              "      <td>33.000</td>\n",
              "      <td>3</td>\n",
              "      <td>no</td>\n",
              "      <td>southeast</td>\n",
              "      <td>4449.46200</td>\n",
              "    </tr>\n",
              "    <tr>\n",
              "      <th>3</th>\n",
              "      <td>33</td>\n",
              "      <td>male</td>\n",
              "      <td>22.705</td>\n",
              "      <td>0</td>\n",
              "      <td>no</td>\n",
              "      <td>northwest</td>\n",
              "      <td>21984.47061</td>\n",
              "    </tr>\n",
              "    <tr>\n",
              "      <th>4</th>\n",
              "      <td>32</td>\n",
              "      <td>male</td>\n",
              "      <td>28.880</td>\n",
              "      <td>0</td>\n",
              "      <td>no</td>\n",
              "      <td>northwest</td>\n",
              "      <td>3866.85520</td>\n",
              "    </tr>\n",
              "  </tbody>\n",
              "</table>\n",
              "</div>"
            ],
            "text/plain": [
              "   age     sex     bmi  children smoker     region      charges\n",
              "0   19  female  27.900         0    yes  southwest  16884.92400\n",
              "1   18    male  33.770         1     no  southeast   1725.55230\n",
              "2   28    male  33.000         3     no  southeast   4449.46200\n",
              "3   33    male  22.705         0     no  northwest  21984.47061\n",
              "4   32    male  28.880         0     no  northwest   3866.85520"
            ]
          },
          "metadata": {
            "tags": []
          },
          "execution_count": 115
        }
      ]
    },
    {
      "cell_type": "code",
      "metadata": {
        "colab": {
          "base_uri": "https://localhost:8080/",
          "height": 226
        },
        "id": "xdcxPIdhZpqC",
        "outputId": "59f77d44-c56d-4e32-aa32-76651e85c033"
      },
      "source": [
        "X.head()"
      ],
      "execution_count": 109,
      "outputs": [
        {
          "output_type": "execute_result",
          "data": {
            "text/html": [
              "<div>\n",
              "<style scoped>\n",
              "    .dataframe tbody tr th:only-of-type {\n",
              "        vertical-align: middle;\n",
              "    }\n",
              "\n",
              "    .dataframe tbody tr th {\n",
              "        vertical-align: top;\n",
              "    }\n",
              "\n",
              "    .dataframe thead th {\n",
              "        text-align: right;\n",
              "    }\n",
              "</style>\n",
              "<table border=\"1\" class=\"dataframe\">\n",
              "  <thead>\n",
              "    <tr style=\"text-align: right;\">\n",
              "      <th></th>\n",
              "      <th>age</th>\n",
              "      <th>bmi</th>\n",
              "      <th>children</th>\n",
              "      <th>sex_female</th>\n",
              "      <th>sex_male</th>\n",
              "      <th>smoker_no</th>\n",
              "      <th>smoker_yes</th>\n",
              "      <th>region_northeast</th>\n",
              "      <th>region_northwest</th>\n",
              "      <th>region_southeast</th>\n",
              "      <th>region_southwest</th>\n",
              "    </tr>\n",
              "  </thead>\n",
              "  <tbody>\n",
              "    <tr>\n",
              "      <th>0</th>\n",
              "      <td>19</td>\n",
              "      <td>27.900</td>\n",
              "      <td>0</td>\n",
              "      <td>1</td>\n",
              "      <td>0</td>\n",
              "      <td>0</td>\n",
              "      <td>1</td>\n",
              "      <td>0</td>\n",
              "      <td>0</td>\n",
              "      <td>0</td>\n",
              "      <td>1</td>\n",
              "    </tr>\n",
              "    <tr>\n",
              "      <th>1</th>\n",
              "      <td>18</td>\n",
              "      <td>33.770</td>\n",
              "      <td>1</td>\n",
              "      <td>0</td>\n",
              "      <td>1</td>\n",
              "      <td>1</td>\n",
              "      <td>0</td>\n",
              "      <td>0</td>\n",
              "      <td>0</td>\n",
              "      <td>1</td>\n",
              "      <td>0</td>\n",
              "    </tr>\n",
              "    <tr>\n",
              "      <th>2</th>\n",
              "      <td>28</td>\n",
              "      <td>33.000</td>\n",
              "      <td>3</td>\n",
              "      <td>0</td>\n",
              "      <td>1</td>\n",
              "      <td>1</td>\n",
              "      <td>0</td>\n",
              "      <td>0</td>\n",
              "      <td>0</td>\n",
              "      <td>1</td>\n",
              "      <td>0</td>\n",
              "    </tr>\n",
              "    <tr>\n",
              "      <th>3</th>\n",
              "      <td>33</td>\n",
              "      <td>22.705</td>\n",
              "      <td>0</td>\n",
              "      <td>0</td>\n",
              "      <td>1</td>\n",
              "      <td>1</td>\n",
              "      <td>0</td>\n",
              "      <td>0</td>\n",
              "      <td>1</td>\n",
              "      <td>0</td>\n",
              "      <td>0</td>\n",
              "    </tr>\n",
              "    <tr>\n",
              "      <th>4</th>\n",
              "      <td>32</td>\n",
              "      <td>28.880</td>\n",
              "      <td>0</td>\n",
              "      <td>0</td>\n",
              "      <td>1</td>\n",
              "      <td>1</td>\n",
              "      <td>0</td>\n",
              "      <td>0</td>\n",
              "      <td>1</td>\n",
              "      <td>0</td>\n",
              "      <td>0</td>\n",
              "    </tr>\n",
              "  </tbody>\n",
              "</table>\n",
              "</div>"
            ],
            "text/plain": [
              "   age     bmi  children  ...  region_northwest  region_southeast  region_southwest\n",
              "0   19  27.900         0  ...                 0                 0                 1\n",
              "1   18  33.770         1  ...                 0                 1                 0\n",
              "2   28  33.000         3  ...                 0                 1                 0\n",
              "3   33  22.705         0  ...                 1                 0                 0\n",
              "4   32  28.880         0  ...                 1                 0                 0\n",
              "\n",
              "[5 rows x 11 columns]"
            ]
          },
          "metadata": {
            "tags": []
          },
          "execution_count": 109
        }
      ]
    },
    {
      "cell_type": "code",
      "metadata": {
        "colab": {
          "base_uri": "https://localhost:8080/",
          "height": 283
        },
        "id": "5nptJ2HIaKka",
        "outputId": "5ce21f3a-8b37-4cbc-faf7-3e48a439dd45"
      },
      "source": [
        "X['age'].plot(kind='hist')"
      ],
      "execution_count": 112,
      "outputs": [
        {
          "output_type": "execute_result",
          "data": {
            "text/plain": [
              "<matplotlib.axes._subplots.AxesSubplot at 0x7ff6005c8e90>"
            ]
          },
          "metadata": {
            "tags": []
          },
          "execution_count": 112
        },
        {
          "output_type": "display_data",
          "data": {
            "image/png": "[encoded data removed]",
            "text/plain": [
              "<Figure size 432x288 with 1 Axes>"
            ]
          },
          "metadata": {
            "tags": [],
            "needs_background": "light"
          }
        }
      ]
    },
    {
      "cell_type": "code",
      "metadata": {
        "colab": {
          "base_uri": "https://localhost:8080/",
          "height": 283
        },
        "id": "vRWiNRetaUSK",
        "outputId": "aac6f84b-16b8-4381-a5c4-8399ba9700fa"
      },
      "source": [
        "X['bmi'].plot(kind='hist')"
      ],
      "execution_count": 113,
      "outputs": [
        {
          "output_type": "execute_result",
          "data": {
            "text/plain": [
              "<matplotlib.axes._subplots.AxesSubplot at 0x7ff60050e5d0>"
            ]
          },
          "metadata": {
            "tags": []
          },
          "execution_count": 113
        },
        {
          "output_type": "display_data",
          "data": {
            "image/png": "[encoded data removed]",
            "text/plain": [
              "<Figure size 432x288 with 1 Axes>"
            ]
          },
          "metadata": {
            "tags": [],
            "needs_background": "light"
          }
        }
      ]
    },
    {
      "cell_type": "markdown",
      "metadata": {
        "id": "6LCIM-MQaa2j"
      },
      "source": [
        "To prepare data, we will import some classes from Scikit-Learn"
      ]
    },
    {
      "cell_type": "code",
      "metadata": {
        "id": "kRq90itecTNy"
      },
      "source": [
        "from sklearn.compose import make_column_transformer\n",
        "from sklearn.preprocessing import MinMaxScaler, OneHotEncoder\n",
        "from sklearn.model_selection import train_test_split\n",
        "\n",
        "# Create a column transformer\n",
        "ct = make_column_transformer(\n",
        "    (MinMaxScaler(), ['age', 'bmi', 'children']), # scale values to between 0 and 1\n",
        "    (OneHotEncoder(handle_unknown='ignore'), ['sex', 'smoker', 'region'])\n",
        ")\n",
        "\n",
        "# Create X & y\n",
        "X = insurance.drop('charges', axis=1)\n",
        "y = insurance['charges']\n",
        "\n",
        "# Built train and test sets\n",
        "X_train, X_test, y_train, y_test = train_test_split(X,y,test_size=0.2, random_state=18)\n",
        "\n",
        "# Fit column transformer to training data\n",
        "ct.fit(X_train)\n",
        "\n",
        "# Transform training and test data with normalization (MinMaxScaler) and OneHotEncoder\n",
        "X_train_normal = ct.transform(X_train)\n",
        "X_test_normal = ct.transform(X_test)"
      ],
      "execution_count": 121,
      "outputs": []
    },
    {
      "cell_type": "code",
      "metadata": {
        "colab": {
          "base_uri": "https://localhost:8080/",
          "height": 206
        },
        "id": "E-ki3Zi6cfPa",
        "outputId": "b926351d-444c-4ba2-f5c2-abf594885465"
      },
      "source": [
        "# Original data\n",
        "X_train.head()"
      ],
      "execution_count": 134,
      "outputs": [
        {
          "output_type": "execute_result",
          "data": {
            "text/html": [
              "<div>\n",
              "<style scoped>\n",
              "    .dataframe tbody tr th:only-of-type {\n",
              "        vertical-align: middle;\n",
              "    }\n",
              "\n",
              "    .dataframe tbody tr th {\n",
              "        vertical-align: top;\n",
              "    }\n",
              "\n",
              "    .dataframe thead th {\n",
              "        text-align: right;\n",
              "    }\n",
              "</style>\n",
              "<table border=\"1\" class=\"dataframe\">\n",
              "  <thead>\n",
              "    <tr style=\"text-align: right;\">\n",
              "      <th></th>\n",
              "      <th>age</th>\n",
              "      <th>sex</th>\n",
              "      <th>bmi</th>\n",
              "      <th>children</th>\n",
              "      <th>smoker</th>\n",
              "      <th>region</th>\n",
              "    </tr>\n",
              "  </thead>\n",
              "  <tbody>\n",
              "    <tr>\n",
              "      <th>1153</th>\n",
              "      <td>35</td>\n",
              "      <td>female</td>\n",
              "      <td>35.815</td>\n",
              "      <td>1</td>\n",
              "      <td>no</td>\n",
              "      <td>northwest</td>\n",
              "    </tr>\n",
              "    <tr>\n",
              "      <th>1100</th>\n",
              "      <td>33</td>\n",
              "      <td>female</td>\n",
              "      <td>19.095</td>\n",
              "      <td>2</td>\n",
              "      <td>yes</td>\n",
              "      <td>northeast</td>\n",
              "    </tr>\n",
              "    <tr>\n",
              "      <th>661</th>\n",
              "      <td>57</td>\n",
              "      <td>female</td>\n",
              "      <td>23.980</td>\n",
              "      <td>1</td>\n",
              "      <td>no</td>\n",
              "      <td>southeast</td>\n",
              "    </tr>\n",
              "    <tr>\n",
              "      <th>147</th>\n",
              "      <td>51</td>\n",
              "      <td>female</td>\n",
              "      <td>37.730</td>\n",
              "      <td>1</td>\n",
              "      <td>no</td>\n",
              "      <td>southeast</td>\n",
              "    </tr>\n",
              "    <tr>\n",
              "      <th>534</th>\n",
              "      <td>64</td>\n",
              "      <td>male</td>\n",
              "      <td>40.480</td>\n",
              "      <td>0</td>\n",
              "      <td>no</td>\n",
              "      <td>southeast</td>\n",
              "    </tr>\n",
              "  </tbody>\n",
              "</table>\n",
              "</div>"
            ],
            "text/plain": [
              "      age     sex     bmi  children smoker     region\n",
              "1153   35  female  35.815         1     no  northwest\n",
              "1100   33  female  19.095         2    yes  northeast\n",
              "661    57  female  23.980         1     no  southeast\n",
              "147    51  female  37.730         1     no  southeast\n",
              "534    64    male  40.480         0     no  southeast"
            ]
          },
          "metadata": {
            "tags": []
          },
          "execution_count": 134
        }
      ]
    },
    {
      "cell_type": "code",
      "metadata": {
        "colab": {
          "base_uri": "https://localhost:8080/"
        },
        "id": "7ReRwfkueLgx",
        "outputId": "d4868242-328e-4059-ce23-325bcab81405"
      },
      "source": [
        "# Normalized data\n",
        "X_train_normal[:5]"
      ],
      "execution_count": 136,
      "outputs": [
        {
          "output_type": "execute_result",
          "data": {
            "text/plain": [
              "array([[0.36956522, 0.52319978, 0.2       , 1.        , 0.        ,\n",
              "        1.        , 0.        , 0.        , 1.        , 0.        ,\n",
              "        0.        ],\n",
              "       [0.32608696, 0.06278397, 0.4       , 1.        , 0.        ,\n",
              "        0.        , 1.        , 1.        , 0.        , 0.        ,\n",
              "        0.        ],\n",
              "       [0.84782609, 0.19730139, 0.2       , 1.        , 0.        ,\n",
              "        1.        , 0.        , 0.        , 0.        , 1.        ,\n",
              "        0.        ],\n",
              "       [0.7173913 , 0.57593281, 0.2       , 1.        , 0.        ,\n",
              "        1.        , 0.        , 0.        , 0.        , 1.        ,\n",
              "        0.        ],\n",
              "       [1.        , 0.65165909, 0.        , 0.        , 1.        ,\n",
              "        1.        , 0.        , 0.        , 0.        , 1.        ,\n",
              "        0.        ]])"
            ]
          },
          "metadata": {
            "tags": []
          },
          "execution_count": 136
        }
      ]
    },
    {
      "cell_type": "code",
      "metadata": {
        "colab": {
          "base_uri": "https://localhost:8080/"
        },
        "id": "5rpP3FVKezX5",
        "outputId": "45d5df2b-99fd-4c92-d0f3-7676cce6ee37"
      },
      "source": [
        "X_train.shape, X_train_normal.shape"
      ],
      "execution_count": 137,
      "outputs": [
        {
          "output_type": "execute_result",
          "data": {
            "text/plain": [
              "((1070, 6), (1070, 11))"
            ]
          },
          "metadata": {
            "tags": []
          },
          "execution_count": 137
        }
      ]
    },
    {
      "cell_type": "markdown",
      "metadata": {
        "id": "vv0lFqz9fGmB"
      },
      "source": [
        "Our data has been normalized and one-hot encoded so we can now build a neural network model"
      ]
    },
    {
      "cell_type": "code",
      "metadata": {
        "colab": {
          "base_uri": "https://localhost:8080/"
        },
        "id": "J52ejg51fQKx",
        "outputId": "2c290e1c-73ab-4df5-eacf-8e1dda84fe83"
      },
      "source": [
        "# Build neural network model to fit on normailized data\n",
        "\n",
        "# Set random seed\n",
        "tf.random.set_seed(18)\n",
        "\n",
        "# 1. Create model\n",
        "insurance_model = tf.keras.Sequential([\n",
        "  tf.keras.layers.Dense(100),\n",
        "  tf.keras.layers.Dense(10),\n",
        "  tf.keras.layers.Dense(1)\n",
        "])\n",
        "\n",
        "# 2. Compile model\n",
        "insurance_model.compile(loss=tf.keras.losses.mae,\n",
        "                        optimizer=tf.keras.optimizers.Adam(),\n",
        "                        metrics=['mae'])\n",
        "\n",
        "# 3. Fit the model\n",
        "insurance_model.fit(X_train_normal, y_train, epochs=100)"
      ],
      "execution_count": 138,
      "outputs": [
        {
          "output_type": "stream",
          "text": [
            "Epoch 1/100\n",
            "34/34 [==============================] - 1s 3ms/step - loss: 13249.8135 - mae: 13249.8135\n",
            "Epoch 2/100\n",
            "34/34 [==============================] - 0s 3ms/step - loss: 13241.7969 - mae: 13241.7969\n",
            "Epoch 3/100\n",
            "34/34 [==============================] - 0s 3ms/step - loss: 13221.9570 - mae: 13221.9570\n",
            "Epoch 4/100\n",
            "34/34 [==============================] - 0s 3ms/step - loss: 13179.8398 - mae: 13179.8398\n",
            "Epoch 5/100\n",
            "34/34 [==============================] - 0s 4ms/step - loss: 13104.2061 - mae: 13104.2061\n",
            "Epoch 6/100\n",
            "34/34 [==============================] - 0s 2ms/step - loss: 12983.6426 - mae: 12983.6426\n",
            "Epoch 7/100\n",
            "34/34 [==============================] - 0s 3ms/step - loss: 12807.6738 - mae: 12807.6738\n",
            "Epoch 8/100\n",
            "34/34 [==============================] - 0s 3ms/step - loss: 12566.2256 - mae: 12566.2256\n",
            "Epoch 9/100\n",
            "34/34 [==============================] - 0s 3ms/step - loss: 12249.3037 - mae: 12249.3037\n",
            "Epoch 10/100\n",
            "34/34 [==============================] - 0s 4ms/step - loss: 11850.6924 - mae: 11850.6924\n",
            "Epoch 11/100\n",
            "34/34 [==============================] - 0s 2ms/step - loss: 11380.1914 - mae: 11380.1914\n",
            "Epoch 12/100\n",
            "34/34 [==============================] - 0s 3ms/step - loss: 10869.3145 - mae: 10869.3145\n",
            "Epoch 13/100\n",
            "34/34 [==============================] - 0s 3ms/step - loss: 10359.2900 - mae: 10359.2900\n",
            "Epoch 14/100\n",
            "34/34 [==============================] - 0s 3ms/step - loss: 9861.7080 - mae: 9861.7080\n",
            "Epoch 15/100\n",
            "34/34 [==============================] - 0s 2ms/step - loss: 9387.6084 - mae: 9387.6084\n",
            "Epoch 16/100\n",
            "34/34 [==============================] - 0s 3ms/step - loss: 8980.7822 - mae: 8980.7822\n",
            "Epoch 17/100\n",
            "34/34 [==============================] - 0s 3ms/step - loss: 8642.8125 - mae: 8642.8125\n",
            "Epoch 18/100\n",
            "34/34 [==============================] - 0s 3ms/step - loss: 8373.6172 - mae: 8373.6172\n",
            "Epoch 19/100\n",
            "34/34 [==============================] - 0s 3ms/step - loss: 8171.7002 - mae: 8171.7002\n",
            "Epoch 20/100\n",
            "34/34 [==============================] - 0s 2ms/step - loss: 8023.7783 - mae: 8023.7783\n",
            "Epoch 21/100\n",
            "34/34 [==============================] - 0s 2ms/step - loss: 7925.6143 - mae: 7925.6143\n",
            "Epoch 22/100\n",
            "34/34 [==============================] - 0s 3ms/step - loss: 7846.3945 - mae: 7846.3945\n",
            "Epoch 23/100\n",
            "34/34 [==============================] - 0s 2ms/step - loss: 7787.0596 - mae: 7787.0596\n",
            "Epoch 24/100\n",
            "34/34 [==============================] - 0s 2ms/step - loss: 7735.8320 - mae: 7735.8320\n",
            "Epoch 25/100\n",
            "34/34 [==============================] - 0s 2ms/step - loss: 7691.3823 - mae: 7691.3823\n",
            "Epoch 26/100\n",
            "34/34 [==============================] - 0s 2ms/step - loss: 7649.0356 - mae: 7649.0356\n",
            "Epoch 27/100\n",
            "34/34 [==============================] - 0s 2ms/step - loss: 7605.5762 - mae: 7605.5762\n",
            "Epoch 28/100\n",
            "34/34 [==============================] - 0s 2ms/step - loss: 7563.6172 - mae: 7563.6172\n",
            "Epoch 29/100\n",
            "34/34 [==============================] - 0s 2ms/step - loss: 7522.1387 - mae: 7522.1387\n",
            "Epoch 30/100\n",
            "34/34 [==============================] - 0s 2ms/step - loss: 7480.5054 - mae: 7480.5054\n",
            "Epoch 31/100\n",
            "34/34 [==============================] - 0s 2ms/step - loss: 7436.1787 - mae: 7436.1787\n",
            "Epoch 32/100\n",
            "34/34 [==============================] - 0s 2ms/step - loss: 7392.5654 - mae: 7392.5654\n",
            "Epoch 33/100\n",
            "34/34 [==============================] - 0s 2ms/step - loss: 7348.4297 - mae: 7348.4297\n",
            "Epoch 34/100\n",
            "34/34 [==============================] - 0s 2ms/step - loss: 7302.7617 - mae: 7302.7617\n",
            "Epoch 35/100\n",
            "34/34 [==============================] - 0s 2ms/step - loss: 7257.1035 - mae: 7257.1035\n",
            "Epoch 36/100\n",
            "34/34 [==============================] - 0s 2ms/step - loss: 7208.3115 - mae: 7208.3115\n",
            "Epoch 37/100\n",
            "34/34 [==============================] - 0s 2ms/step - loss: 7161.2466 - mae: 7161.2466\n",
            "Epoch 38/100\n",
            "34/34 [==============================] - 0s 2ms/step - loss: 7111.4429 - mae: 7111.4429\n",
            "Epoch 39/100\n",
            "34/34 [==============================] - 0s 2ms/step - loss: 7060.2280 - mae: 7060.2280\n",
            "Epoch 40/100\n",
            "34/34 [==============================] - 0s 2ms/step - loss: 7005.8589 - mae: 7005.8589\n",
            "Epoch 41/100\n",
            "34/34 [==============================] - 0s 2ms/step - loss: 6950.8291 - mae: 6950.8291\n",
            "Epoch 42/100\n",
            "34/34 [==============================] - 0s 2ms/step - loss: 6892.5654 - mae: 6892.5654\n",
            "Epoch 43/100\n",
            "34/34 [==============================] - 0s 2ms/step - loss: 6833.7329 - mae: 6833.7329\n",
            "Epoch 44/100\n",
            "34/34 [==============================] - 0s 2ms/step - loss: 6772.3687 - mae: 6772.3687\n",
            "Epoch 45/100\n",
            "34/34 [==============================] - 0s 2ms/step - loss: 6710.1978 - mae: 6710.1978\n",
            "Epoch 46/100\n",
            "34/34 [==============================] - 0s 2ms/step - loss: 6642.7612 - mae: 6642.7612\n",
            "Epoch 47/100\n",
            "34/34 [==============================] - 0s 2ms/step - loss: 6572.7524 - mae: 6572.7524\n",
            "Epoch 48/100\n",
            "34/34 [==============================] - 0s 2ms/step - loss: 6500.9717 - mae: 6500.9717\n",
            "Epoch 49/100\n",
            "34/34 [==============================] - 0s 2ms/step - loss: 6428.4150 - mae: 6428.4150\n",
            "Epoch 50/100\n",
            "34/34 [==============================] - 0s 2ms/step - loss: 6347.9717 - mae: 6347.9717\n",
            "Epoch 51/100\n",
            "34/34 [==============================] - 0s 2ms/step - loss: 6264.4111 - mae: 6264.4111\n",
            "Epoch 52/100\n",
            "34/34 [==============================] - 0s 2ms/step - loss: 6178.5884 - mae: 6178.5884\n",
            "Epoch 53/100\n",
            "34/34 [==============================] - 0s 2ms/step - loss: 6087.0166 - mae: 6087.0166\n",
            "Epoch 54/100\n",
            "34/34 [==============================] - 0s 2ms/step - loss: 5993.4019 - mae: 5993.4019\n",
            "Epoch 55/100\n",
            "34/34 [==============================] - 0s 2ms/step - loss: 5892.4688 - mae: 5892.4688\n",
            "Epoch 56/100\n",
            "34/34 [==============================] - 0s 2ms/step - loss: 5787.4805 - mae: 5787.4805\n",
            "Epoch 57/100\n",
            "34/34 [==============================] - 0s 2ms/step - loss: 5677.6465 - mae: 5677.6465\n",
            "Epoch 58/100\n",
            "34/34 [==============================] - 0s 2ms/step - loss: 5561.2520 - mae: 5561.2520\n",
            "Epoch 59/100\n",
            "34/34 [==============================] - 0s 2ms/step - loss: 5444.5854 - mae: 5444.5854\n",
            "Epoch 60/100\n",
            "34/34 [==============================] - 0s 2ms/step - loss: 5322.2490 - mae: 5322.2490\n",
            "Epoch 61/100\n",
            "34/34 [==============================] - 0s 3ms/step - loss: 5194.5571 - mae: 5194.5571\n",
            "Epoch 62/100\n",
            "34/34 [==============================] - 0s 2ms/step - loss: 5064.1196 - mae: 5064.1196\n",
            "Epoch 63/100\n",
            "34/34 [==============================] - 0s 2ms/step - loss: 4926.6865 - mae: 4926.6865\n",
            "Epoch 64/100\n",
            "34/34 [==============================] - 0s 2ms/step - loss: 4784.8774 - mae: 4784.8774\n",
            "Epoch 65/100\n",
            "34/34 [==============================] - 0s 2ms/step - loss: 4648.4048 - mae: 4648.4048\n",
            "Epoch 66/100\n",
            "34/34 [==============================] - 0s 2ms/step - loss: 4515.4683 - mae: 4515.4683\n",
            "Epoch 67/100\n",
            "34/34 [==============================] - 0s 2ms/step - loss: 4392.8838 - mae: 4392.8838\n",
            "Epoch 68/100\n",
            "34/34 [==============================] - 0s 2ms/step - loss: 4284.3423 - mae: 4284.3423\n",
            "Epoch 69/100\n",
            "34/34 [==============================] - 0s 2ms/step - loss: 4178.7861 - mae: 4178.7861\n",
            "Epoch 70/100\n",
            "34/34 [==============================] - 0s 2ms/step - loss: 4082.2500 - mae: 4082.2500\n",
            "Epoch 71/100\n",
            "34/34 [==============================] - 0s 2ms/step - loss: 3995.5850 - mae: 3995.5850\n",
            "Epoch 72/100\n",
            "34/34 [==============================] - 0s 2ms/step - loss: 3912.2019 - mae: 3912.2019\n",
            "Epoch 73/100\n",
            "34/34 [==============================] - 0s 2ms/step - loss: 3834.9390 - mae: 3834.9390\n",
            "Epoch 74/100\n",
            "34/34 [==============================] - 0s 2ms/step - loss: 3766.6619 - mae: 3766.6619\n",
            "Epoch 75/100\n",
            "34/34 [==============================] - 0s 2ms/step - loss: 3714.0439 - mae: 3714.0439\n",
            "Epoch 76/100\n",
            "34/34 [==============================] - 0s 2ms/step - loss: 3676.6594 - mae: 3676.6594\n",
            "Epoch 77/100\n",
            "34/34 [==============================] - 0s 2ms/step - loss: 3646.7896 - mae: 3646.7896\n",
            "Epoch 78/100\n",
            "34/34 [==============================] - 0s 2ms/step - loss: 3625.3264 - mae: 3625.3264\n",
            "Epoch 79/100\n",
            "34/34 [==============================] - 0s 2ms/step - loss: 3612.1277 - mae: 3612.1277\n",
            "Epoch 80/100\n",
            "34/34 [==============================] - 0s 2ms/step - loss: 3602.4375 - mae: 3602.4375\n",
            "Epoch 81/100\n",
            "34/34 [==============================] - 0s 3ms/step - loss: 3594.8750 - mae: 3594.8750\n",
            "Epoch 82/100\n",
            "34/34 [==============================] - 0s 2ms/step - loss: 3588.3672 - mae: 3588.3672\n",
            "Epoch 83/100\n",
            "34/34 [==============================] - 0s 2ms/step - loss: 3582.2947 - mae: 3582.2947\n",
            "Epoch 84/100\n",
            "34/34 [==============================] - 0s 2ms/step - loss: 3578.2639 - mae: 3578.2639\n",
            "Epoch 85/100\n",
            "34/34 [==============================] - 0s 2ms/step - loss: 3574.4834 - mae: 3574.4834\n",
            "Epoch 86/100\n",
            "34/34 [==============================] - 0s 2ms/step - loss: 3571.7622 - mae: 3571.7622\n",
            "Epoch 87/100\n",
            "34/34 [==============================] - 0s 2ms/step - loss: 3569.3000 - mae: 3569.3000\n",
            "Epoch 88/100\n",
            "34/34 [==============================] - 0s 2ms/step - loss: 3565.0400 - mae: 3565.0400\n",
            "Epoch 89/100\n",
            "34/34 [==============================] - 0s 2ms/step - loss: 3565.5657 - mae: 3565.5657\n",
            "Epoch 90/100\n",
            "34/34 [==============================] - 0s 2ms/step - loss: 3559.6670 - mae: 3559.6670\n",
            "Epoch 91/100\n",
            "34/34 [==============================] - 0s 2ms/step - loss: 3556.0359 - mae: 3556.0359\n",
            "Epoch 92/100\n",
            "34/34 [==============================] - 0s 2ms/step - loss: 3553.5645 - mae: 3553.5645\n",
            "Epoch 93/100\n",
            "34/34 [==============================] - 0s 2ms/step - loss: 3551.3076 - mae: 3551.3076\n",
            "Epoch 94/100\n",
            "34/34 [==============================] - 0s 2ms/step - loss: 3549.0559 - mae: 3549.0559\n",
            "Epoch 95/100\n",
            "34/34 [==============================] - 0s 2ms/step - loss: 3545.2949 - mae: 3545.2949\n",
            "Epoch 96/100\n",
            "34/34 [==============================] - 0s 2ms/step - loss: 3544.5359 - mae: 3544.5359\n",
            "Epoch 97/100\n",
            "34/34 [==============================] - 0s 2ms/step - loss: 3544.0806 - mae: 3544.0806\n",
            "Epoch 98/100\n",
            "34/34 [==============================] - 0s 2ms/step - loss: 3539.8171 - mae: 3539.8171\n",
            "Epoch 99/100\n",
            "34/34 [==============================] - 0s 2ms/step - loss: 3537.0974 - mae: 3537.0974\n",
            "Epoch 100/100\n",
            "34/34 [==============================] - 0s 2ms/step - loss: 3533.2761 - mae: 3533.2761\n"
          ],
          "name": "stdout"
        },
        {
          "output_type": "execute_result",
          "data": {
            "text/plain": [
              "<tensorflow.python.keras.callbacks.History at 0x7ff600352790>"
            ]
          },
          "metadata": {
            "tags": []
          },
          "execution_count": 138
        }
      ]
    },
    {
      "cell_type": "code",
      "metadata": {
        "colab": {
          "base_uri": "https://localhost:8080/"
        },
        "id": "ZHzL6dR_gWxh",
        "outputId": "9a92df86-09ad-4abd-f623-85bdfe52913a"
      },
      "source": [
        "# Summary\n",
        "insurance_model.summary()"
      ],
      "execution_count": 140,
      "outputs": [
        {
          "output_type": "stream",
          "text": [
            "Model: \"sequential_19\"\n",
            "_________________________________________________________________\n",
            "Layer (type)                 Output Shape              Param #   \n",
            "=================================================================\n",
            "dense_40 (Dense)             (None, 100)               1200      \n",
            "_________________________________________________________________\n",
            "dense_41 (Dense)             (None, 10)                1010      \n",
            "_________________________________________________________________\n",
            "dense_42 (Dense)             (None, 1)                 11        \n",
            "=================================================================\n",
            "Total params: 2,221\n",
            "Trainable params: 2,221\n",
            "Non-trainable params: 0\n",
            "_________________________________________________________________\n"
          ],
          "name": "stdout"
        }
      ]
    },
    {
      "cell_type": "code",
      "metadata": {
        "colab": {
          "base_uri": "https://localhost:8080/"
        },
        "id": "Uephd3yYf74x",
        "outputId": "995b9705-2049-41ef-e1a9-0ad46525c4aa"
      },
      "source": [
        "# Evaluate insurance model trained on normalized data\n",
        "insurance_model.evaluate(X_test_normal, y_test)"
      ],
      "execution_count": 139,
      "outputs": [
        {
          "output_type": "stream",
          "text": [
            "9/9 [==============================] - 0s 2ms/step - loss: 3794.0989 - mae: 3794.0989\n"
          ],
          "name": "stdout"
        },
        {
          "output_type": "execute_result",
          "data": {
            "text/plain": [
              "[3794.098876953125, 3794.098876953125]"
            ]
          },
          "metadata": {
            "tags": []
          },
          "execution_count": 139
        }
      ]
    },
    {
      "cell_type": "code",
      "metadata": {
        "id": "zxAqFMUsgIPi"
      },
      "source": [
        ""
      ],
      "execution_count": null,
      "outputs": []
    }
  ]
}